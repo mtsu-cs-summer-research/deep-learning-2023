{
 "cells": [
  {
   "cell_type": "markdown",
   "metadata": {},
   "source": [
    "### SimCLR attempt using Vision Transformer"
   ]
  },
  {
   "cell_type": "code",
   "execution_count": 39,
   "metadata": {
    "tags": []
   },
   "outputs": [],
   "source": [
    "import os\n",
    "os.environ[\"LD_LIBRARY_PATH\"]='/opt/conda/lib'\n",
    "os.environ[\"XLA_FLAGS\"] = \"--xla_gpu_cuda_data_dir=/opt/conda/pkgs/cuda-toolkit\""
   ]
  },
  {
   "cell_type": "code",
   "execution_count": 40,
   "metadata": {
    "tags": []
   },
   "outputs": [],
   "source": [
    "import matplotlib.pyplot as plt\n",
    "import numpy as np\n",
    "import numpy.typing as npt\n",
    "import tensorflow as tf\n",
    "import tensorflow.keras as keras"
   ]
  },
  {
   "cell_type": "code",
   "execution_count": 41,
   "metadata": {
    "tags": []
   },
   "outputs": [],
   "source": [
    "(x_train, y_train), (x_val, y_val) = keras.datasets.mnist.load_data()\n",
    "\n",
    "x_train = x_train / 255.0\n",
    "x_val = x_val / 255.0"
   ]
  },
  {
   "cell_type": "code",
   "execution_count": 42,
   "metadata": {
    "tags": []
   },
   "outputs": [
    {
     "data": {
      "text/plain": [
       "(60000, 28, 28)"
      ]
     },
     "execution_count": 42,
     "metadata": {},
     "output_type": "execute_result"
    }
   ],
   "source": [
    "x_train.shape"
   ]
  },
  {
   "cell_type": "code",
   "execution_count": 43,
   "metadata": {
    "tags": []
   },
   "outputs": [
    {
     "data": {
      "image/png": "[encoded data removed]",
      "text/plain": [
       "<Figure size 300x300 with 1 Axes>"
      ]
     },
     "metadata": {},
     "output_type": "display_data"
    },
    {
     "data": {
      "text/plain": [
       "5"
      ]
     },
     "execution_count": 43,
     "metadata": {},
     "output_type": "execute_result"
    }
   ],
   "source": [
    "plt.figure(figsize=(3, 3))\n",
    "plt.imshow(x_train[0], cmap=\"gray\")\n",
    "plt.show()\n",
    "y_train[0]"
   ]
  },
  {
   "cell_type": "code",
   "execution_count": 44,
   "metadata": {},
   "outputs": [
    {
     "data": {
      "image/png": "[encoded data removed]",
      "text/plain": [
       "<Figure size 640x480 with 1 Axes>"
      ]
     },
     "metadata": {},
     "output_type": "display_data"
    },
    {
     "data": {
      "text/plain": [
       "(28, 28)"
      ]
     },
     "execution_count": 44,
     "metadata": {},
     "output_type": "execute_result"
    }
   ],
   "source": [
    "a = x_train[0]\n",
    "a.shape\n",
    "plt.imshow(a)\n",
    "plt.show()\n",
    "a.shape"
   ]
  },
  {
   "cell_type": "code",
   "execution_count": 45,
   "metadata": {},
   "outputs": [
    {
     "name": "stdout",
     "output_type": "stream",
     "text": [
      "13 13 \n",
      "\n"
     ]
    },
    {
     "data": {
      "image/png": "[encoded data removed]",
      "text/plain": [
       "<Figure size 640x480 with 1 Axes>"
      ]
     },
     "metadata": {},
     "output_type": "display_data"
    },
    {
     "data": {
      "text/plain": [
       "(28, 28)"
      ]
     },
     "execution_count": 45,
     "metadata": {},
     "output_type": "execute_result"
    }
   ],
   "source": [
    "def crop_and_resize(image):\n",
    "    crop_percent = np.random.uniform(0.4, 1)\n",
    "\n",
    "    if crop_percent == 1:\n",
    "        return image\n",
    "        \n",
    "    # Get width and height from the image shape\n",
    "    width = image.shape[0]\n",
    "    height = image.shape[1]\n",
    "\n",
    "    # Create new dimensions for the image\n",
    "    crop_width = int(width * crop_percent)\n",
    "    crop_height = int(height * crop_percent)\n",
    "    print(crop_width, crop_height, '\\n')\n",
    "\n",
    "    cropped = tf.image.random_crop(tf.expand_dims(image, -1), (crop_width, crop_height, 1))\n",
    "    cropped = tf.image.resize(cropped, (image.shape[0], image.shape[1]))\n",
    "    return cropped\n",
    "\n",
    "b = crop_and_resize(a)\n",
    "b.shape\n",
    "plt.imshow(b)\n",
    "plt.show()\n",
    "a.shape"
   ]
  },
  {
   "cell_type": "code",
   "execution_count": 46,
   "metadata": {
    "tags": []
   },
   "outputs": [],
   "source": [
    "class DataGenerator(tf.keras.utils.Sequence):\n",
    "    def __init__(self, x, y, batch_size=32, num_batches=100, rng: np.random.Generator = np.random.default_rng(), min_crop = .5, max_crop = 1):\n",
    "        super().__init__()\n",
    "\n",
    "        # Group by labels\n",
    "        groups = [[] for _ in range(len(np.unique(y)))]\n",
    "        for x_i, y_i in zip(x, y):\n",
    "            groups[y_i].append(x_i)\n",
    "        groups = list(map(np.array, groups))\n",
    "\n",
    "        self.groups = groups\n",
    "        self.batch_size = batch_size\n",
    "        self.num_batches = num_batches\n",
    "        self.rng = rng\n",
    "\n",
    "        self.min_crop = min_crop\n",
    "        self.max_crop = max_crop\n",
    "\n",
    "        self.shuffle()\n",
    "\n",
    "    def shuffle(self):\n",
    "        self.labels = self.rng.integers(len(self.groups), size=(self.num_batches, self.batch_size))   # Which labels to draw\n",
    "        self.variants = self.rng.uniform(size=(self.num_batches, 2, self.batch_size)) # Which variant of the label\n",
    "\n",
    "    # Function to randomly crop the image\n",
    "    def crop_and_resize(self, image):\n",
    "        crop_percent = np.random.uniform(self.min_crop, self.max_crop)\n",
    "    \n",
    "        if crop_percent == 1:\n",
    "            return image\n",
    "            \n",
    "        # Get width and height from the image shape\n",
    "        width = image.shape[0]\n",
    "        height = image.shape[1]\n",
    "    \n",
    "        # Create new dimensions for the image\n",
    "        crop_width = int(width * crop_percent)\n",
    "        crop_height = int(height * crop_percent)\n",
    "    \n",
    "        cropped = tf.image.random_crop(tf.expand_dims(image, -1), (crop_width, crop_height, 1))\n",
    "        cropped = tf.squeeze(tf.image.resize(cropped, image.shape))\n",
    "        \n",
    "        return cropped\n",
    "\n",
    "\n",
    "    def __getitem__(self, batch_index):\n",
    "        batch = ([], [])\n",
    "        for label, variant_a, variant_b in zip(self.labels[batch_index], *self.variants[batch_index]):\n",
    "            group = self.groups[label]\n",
    "            variant_a_index = int(len(group)*variant_a)\n",
    "            # Instead of using two different batches, use the same with different augmentations:\n",
    "            image_a = self.crop_and_resize(group[variant_a_index])\n",
    "            image_b = self.crop_and_resize(group[variant_a_index])\n",
    "\n",
    "            batch[0].append(image_a)\n",
    "            batch[1].append(image_b)\n",
    "            \n",
    "        return tuple(np.array(batch)) # batch\n",
    "\n",
    "    def __len__(self):\n",
    "        return self.num_batches\n",
    "\n",
    "    def on_epoch_end(self):\n",
    "        self.shuffle()"
   ]
  },
  {
   "cell_type": "code",
   "execution_count": 47,
   "metadata": {
    "tags": []
   },
   "outputs": [
    {
     "data": {
      "image/png": "[encoded data removed]",
      "text/plain": [
       "<Figure size 640x480 with 2 Axes>"
      ]
     },
     "metadata": {},
     "output_type": "display_data"
    },
    {
     "data": {
      "text/plain": [
       "(28, 28)"
      ]
     },
     "execution_count": 47,
     "metadata": {},
     "output_type": "execute_result"
    }
   ],
   "source": [
    "# Generator Testing/Debugging\n",
    "# [batch, x/y, set, image]\n",
    "data = DataGenerator(x_train, y_train, rng=np.random.default_rng(0), min_crop = 0.4, max_crop = 1)\n",
    "batch_index = 0\n",
    "index = 0\n",
    "plt.subplot(121)\n",
    "plt.imshow(data[batch_index][0][index])\n",
    "plt.subplot(122)\n",
    "plt.imshow(data[batch_index][1][index])\n",
    "plt.show()\n",
    "data[batch_index][0][index].shape"
   ]
  },
  {
   "cell_type": "markdown",
   "metadata": {},
   "source": [
    "### ViT Encoders"
   ]
  },
  {
   "cell_type": "code",
   "execution_count": 48,
   "metadata": {},
   "outputs": [],
   "source": [
    "class TransformerBlock(keras.layers.Layer):\n",
    "    def __init__(self, embed_dim, num_heads, ff_dim, rate=0.1):\n",
    "        super(TransformerBlock, self).__init__()\n",
    "        self.att = keras.layers.MultiHeadAttention(num_heads=num_heads,\n",
    "                                                   key_dim=embed_dim)\n",
    "        self.ffn = keras.Sequential(\n",
    "            [keras.layers.Dense(ff_dim, activation=\"gelu\"),\n",
    "             keras.layers.Dense(embed_dim),]\n",
    "        )\n",
    "        self.layernorm1 = keras.layers.LayerNormalization(epsilon=1e-6)\n",
    "        self.layernorm2 = keras.layers.LayerNormalization(epsilon=1e-6)\n",
    "        self.dropout1 = keras.layers.Dropout(rate)\n",
    "        self.dropout2 = keras.layers.Dropout(rate)\n",
    "\n",
    "    def compute_output_shape(self, input_shape):\n",
    "        return input_shape\n",
    "        \n",
    "    def call(self, x, training):\n",
    "        y = x\n",
    "        y = self.layernorm1(y, training=training)\n",
    "        y, scores = self.att(y, y, return_attention_scores=True, training=training)\n",
    "        y = self.dropout1(y, training=training)\n",
    "        x += y\n",
    "        y = x\n",
    "        y = self.layernorm2(y, training=training)\n",
    "        y = self.ffn(y, training=training)\n",
    "        y = self.dropout2(y, training=training)\n",
    "        return (x + y, scores)\n"
   ]
  },
  {
   "cell_type": "code",
   "execution_count": 49,
   "metadata": {
    "tags": []
   },
   "outputs": [],
   "source": [
    "class PositionEmbedding(keras.layers.Layer):\n",
    "    def __init__(self, maxlen, embed_dim):\n",
    "        super(PositionEmbedding, self).__init__()\n",
    "        self.pos_emb = keras.layers.Embedding(input_dim=maxlen, output_dim=embed_dim)\n",
    "\n",
    "    def call(self, x):\n",
    "        maxlen = tf.shape(x)[-2] # x already embedded\n",
    "        positions = tf.range(start=0, limit=maxlen, delta=1)\n",
    "        positions = self.pos_emb(positions)\n",
    "        return x + positions"
   ]
  },
  {
   "cell_type": "code",
   "execution_count": 50,
   "metadata": {
    "tags": []
   },
   "outputs": [],
   "source": [
    "embed_dim = 64\n",
    "kernel = 4\n",
    "num_heads = 6\n",
    "ff_dim = 512\n",
    "stack = 2\n",
    "\n",
    "# Note the input size (there is only one channel - intensity)\n",
    "# these images... if you are using color images, your would\n",
    "# need to set the last dimension of the input_shape to -3-\n",
    "# above and this would carry over into this cell...\n",
    "y = x = keras.layers.Input(shape=x_train.shape[1:])\n",
    "# This layer will just be passed a constant integer for\n",
    "# embedding (class token - see the ViT paper)\n",
    "# input_class = keras.layers.Input(shape=(1,))\n",
    "\n",
    "# Patches\n",
    "y = keras.layers.Conv2D(embed_dim,\n",
    "                        kernel_size=(kernel,kernel),\n",
    "                        strides=(kernel,kernel))(tf.expand_dims(y,-1))\n",
    "temp = y\n",
    "\n",
    "# Hybrid CNN\n",
    "# y = keras.layers.Conv2D(embed_dim*2,\n",
    "#                         kernel_size=(5, 5),\n",
    "#                         strides=2,\n",
    "#                         activation='gelu')(y)\n",
    "# y = keras.layers.Conv2D(embed_dim,\n",
    "#                         kernel_size=(5, 5),\n",
    "#                         strides=2,\n",
    "#                         activation='gelu')(y)\n",
    "\n",
    "# Flatten 2D arrangement to 1D arrangement of tokens\n",
    "y = keras.layers.Reshape((-1,embed_dim))(y)\n",
    "y = PositionEmbedding(y.shape[-2],embed_dim)(y)\n",
    "\n",
    "# Create class token\n",
    "c = keras.layers.Lambda(lambda x: tf.tile(tf.constant([[0]]),(tf.shape(x)[0],1)))(y)\n",
    "c = keras.layers.Embedding(input_dim=1,output_dim=embed_dim)(c)\n",
    "\n",
    "# Prepend class token\n",
    "y = keras.layers.Concatenate(axis=1)([c,y])\n",
    "\n",
    "for _ in range(stack):\n",
    "    y = TransformerBlock(embed_dim, num_heads, ff_dim)(y)[0]\n",
    "# Lambda layer is like the ViT the paper...\n",
    "# y = keras.layers.Lambda(lambda x: x[:,0,:])(y)\n",
    "# Use the following -instead- of Lambda is common in other\n",
    "# models I have seen... probably not important though\n",
    "y = keras.layers.GlobalAveragePooling1D()(y)\n",
    "# y = keras.layers.Dropout(0.1)(y)\n",
    "# y = keras.layers.Dense(embed_dim,activation='gelu')(y)\n",
    "#    y = keras.layers.Dropout(0.5)(y)\n",
    "# y = keras.layers.Dense(10)(y)\n",
    "\n",
    "model = keras.Model(x,y)\n",
    "# model.compile(optimizer=keras.optimizers.Nadam(learning_rate=0.0001),\n",
    "#               loss=keras.losses.SparseCategoricalCrossentropy(from_logits=True),\n",
    "#               metrics=keras.metrics.SparseCategoricalAccuracy())\n",
    "# model.summary()\n",
    "masked_encoder = model\n",
    "# model = keras.Model(x,temp)\n",
    "# keras.utils.plot_model(model,show_shapes=True,expand_nested=True)"
   ]
  },
  {
   "cell_type": "code",
   "execution_count": 51,
   "metadata": {
    "tags": []
   },
   "outputs": [
    {
     "name": "stdout",
     "output_type": "stream",
     "text": [
      "Model: \"model_5\"\n",
      "__________________________________________________________________________________________________\n",
      " Layer (type)                   Output Shape         Param #     Connected to                     \n",
      "==================================================================================================\n",
      " input_6 (InputLayer)           [(None, 28, 28)]     0           []                               \n",
      "                                                                                                  \n",
      " tf.expand_dims_5 (TFOpLambda)  (None, 28, 28, 1)    0           ['input_6[0][0]']                \n",
      "                                                                                                  \n",
      " conv2d_5 (Conv2D)              (None, 7, 7, 64)     1088        ['tf.expand_dims_5[0][0]']       \n",
      "                                                                                                  \n",
      " reshape_5 (Reshape)            (None, 49, 64)       0           ['conv2d_5[0][0]']               \n",
      "                                                                                                  \n",
      " position_embedding_5 (Position  (None, 49, 64)      3136        ['reshape_5[0][0]']              \n",
      " Embedding)                                                                                       \n",
      "                                                                                                  \n",
      " lambda_5 (Lambda)              (None, 1)            0           ['position_embedding_5[0][0]']   \n",
      "                                                                                                  \n",
      " embedding_11 (Embedding)       (None, 1, 64)        64          ['lambda_5[0][0]']               \n",
      "                                                                                                  \n",
      " concatenate_5 (Concatenate)    (None, 50, 64)       0           ['embedding_11[0][0]',           \n",
      "                                                                  'position_embedding_5[0][0]']   \n",
      "                                                                                                  \n",
      " transformer_block_10 (Transfor  ((None, 50, 64),    165888      ['concatenate_5[0][0]']          \n",
      " merBlock)                       (None, 6, 50, 50))                                               \n",
      "                                                                                                  \n",
      " transformer_block_11 (Transfor  ((None, 50, 64),    165888      ['transformer_block_10[0][0]']   \n",
      " merBlock)                       (None, 6, 50, 50))                                               \n",
      "                                                                                                  \n",
      " global_average_pooling1d_5 (Gl  (None, 64)          0           ['transformer_block_11[0][0]']   \n",
      " obalAveragePooling1D)                                                                            \n",
      "                                                                                                  \n",
      "==================================================================================================\n",
      "Total params: 336,064\n",
      "Trainable params: 336,064\n",
      "Non-trainable params: 0\n",
      "__________________________________________________________________________________________________\n"
     ]
    }
   ],
   "source": [
    "embed_dim = 64\n",
    "kernel = 4\n",
    "num_heads = 6\n",
    "ff_dim = 512\n",
    "stack = 2\n",
    "\n",
    "# Note the input size (there is only one channel - intensity)\n",
    "# these images... if you are using color images, your would\n",
    "# need to set the last dimension of the input_shape to -3-\n",
    "# above and this would carry over into this cell...\n",
    "y = x = keras.layers.Input(shape=x_train.shape[1:])\n",
    "# This layer will just be passed a constant integer for\n",
    "# embedding (class token - see the ViT paper)\n",
    "# input_class = keras.layers.Input(shape=(1,))\n",
    "\n",
    "# Patches\n",
    "y = keras.layers.Conv2D(embed_dim,\n",
    "                        kernel_size=(kernel,kernel),\n",
    "                        strides=(kernel,kernel))(tf.expand_dims(y,-1))\n",
    "# Hybrid CNN\n",
    "# y = keras.layers.Conv2D(embed_dim*2,\n",
    "#                         kernel_size=(5, 5),\n",
    "#                         strides=2,\n",
    "#                         activation='gelu')(y)\n",
    "# y = keras.layers.Conv2D(embed_dim,\n",
    "#                         kernel_size=(5, 5),\n",
    "#                         strides=2,\n",
    "#                         activation='gelu')(y)\n",
    "\n",
    "# Flatten 2D arrangement to 1D arrangement of tokens\n",
    "y = keras.layers.Reshape((-1,embed_dim))(y)\n",
    "y = PositionEmbedding(y.shape[-2],embed_dim)(y)\n",
    "\n",
    "# Create class token\n",
    "c = keras.layers.Lambda(lambda x: tf.tile(tf.constant([[0]]),(tf.shape(x)[0],1)))(y)\n",
    "c = keras.layers.Embedding(input_dim=1,output_dim=embed_dim)(c)\n",
    "\n",
    "# Prepend class token\n",
    "y = keras.layers.Concatenate(axis=1)([c,y])\n",
    "\n",
    "for _ in range(stack):\n",
    "    y = TransformerBlock(embed_dim, num_heads, ff_dim)(y)[0]\n",
    "# Lambda layer is like the ViT the paper...\n",
    "# y = keras.layers.Lambda(lambda x: x[:,0,:])(y)\n",
    "# Use the following -instead- of Lambda is common in other\n",
    "# models I have seen... probably not important though\n",
    "y = keras.layers.GlobalAveragePooling1D()(y)\n",
    "# y = keras.layers.Dropout(0.1)(y)\n",
    "# y = keras.layers.Dense(embed_dim,activation='gelu')(y)\n",
    "#    y = keras.layers.Dropout(0.5)(y)\n",
    "# y = keras.layers.Dense(10)(y)\n",
    "\n",
    "model = keras.Model(x,y)\n",
    "# model.compile(optimizer=keras.optimizers.Nadam(learning_rate=0.0001),\n",
    "#               loss=keras.losses.SparseCategoricalCrossentropy(from_logits=True),\n",
    "#               metrics=keras.metrics.SparseCategoricalAccuracy())\n",
    "model.summary()\n",
    "unmasked_encoder = model\n",
    "# keras.utils.plot_model(model,show_shapes=True,expand_nested=True)"
   ]
  },
  {
   "cell_type": "markdown",
   "metadata": {},
   "source": [
    "### Note: This metric only *correlates* with accuracy\n",
    "\n",
    "This is an approximate accuracy which doesn't really track the model's actual performance, and is just used here as a metric to show progress."
   ]
  },
  {
   "cell_type": "code",
   "execution_count": 52,
   "metadata": {
    "tags": []
   },
   "outputs": [],
   "source": [
    "accuracy = keras.metrics.SparseCategoricalAccuracy()\n",
    "def ContrastiveAccuracy(y_true, y_pred):\n",
    "    # return accuracy(y_true[tf.argmax(y_pred,-1)],\n",
    "    #                 y_pred)\n",
    "    acc_masked = accuracy(y_true, y_pred)\n",
    "    acc_unmasked = accuracy(y_true, tf.transpose(y_pred))\n",
    "    acc = (acc_masked + acc_unmasked) / 2.0\n",
    "    return acc"
   ]
  },
  {
   "cell_type": "code",
   "execution_count": 53,
   "metadata": {
    "tags": []
   },
   "outputs": [],
   "source": [
    "class ContrastiveModel(tf.keras.Model):\n",
    "    def __init__(\n",
    "        self,\n",
    "        masked_encoder: tf.keras.Model,\n",
    "        unmasked_encoder: tf.keras.Model,\n",
    "        embed_dim: int = 512,\n",
    "        **kwargs\n",
    "    ):\n",
    "        super().__init__(**kwargs)\n",
    "        self.masked_encoder = masked_encoder\n",
    "        self.unmasked_encoder = unmasked_encoder\n",
    "\n",
    "#         self.masked_encoder.trainable = False\n",
    "#         self.unmasked_encoder.trainable = False\n",
    "\n",
    "        self.embed_dim = embed_dim\n",
    "        self.W_masked = tf.keras.layers.Dense(\n",
    "            self.embed_dim,\n",
    "            # input_shape=self.masked_encoder.output_shape[-1],\n",
    "            use_bias=False)\n",
    "        self.W_unmasked = tf.keras.layers.Dense(\n",
    "            self.embed_dim,\n",
    "            # input_shape=self.unmasked_encoder.output_shape[-1],\n",
    "            use_bias=False)\n",
    "        self.t = self.add_weight(\n",
    "            name=\"Temperature\",\n",
    "            shape=None,\n",
    "            trainable=True\n",
    "        )\n",
    "\n",
    "    def compile(self, *args, **kwargs):\n",
    "        return super().compile(\n",
    "            *args,\n",
    "            loss=tf.keras.losses.SparseCategoricalCrossentropy(from_logits=True),\n",
    "            **kwargs)\n",
    "\n",
    "    def test_step(self, data):\n",
    "        n = tf.shape(data[0])[0]\n",
    "        y_true = tf.range(n)\n",
    "        y_pred = self(data, training=False)\n",
    "        loss_masked = self.compiled_loss(y_true, y_pred)\n",
    "        loss_unmasked = self.compiled_loss(y_true, tf.transpose(y_pred))\n",
    "        loss = (loss_masked + loss_unmasked) / 2.0\n",
    "        self.compiled_metrics.update_state(y_true, y_pred)\n",
    "        return {m.name: m.result() for m in self.metrics}\n",
    "    \n",
    "    def train_step(self, data):\n",
    "        n = tf.shape(data[0])[0]\n",
    "        y_true = tf.range(n)\n",
    "        with tf.GradientTape() as tape:\n",
    "            y_pred = self(data, training=True)\n",
    "            loss_masked = self.compiled_loss(y_true, y_pred)\n",
    "            loss_unmasked = self.compiled_loss(y_true, tf.transpose(y_pred))\n",
    "            loss = (loss_masked + loss_unmasked) / 2.0\n",
    "        grads = tape.gradient(loss, self.trainable_weights)\n",
    "        self.optimizer.apply_gradients(zip(grads, self.trainable_weights))\n",
    "        self.compiled_metrics.update_state(y_true, y_pred)\n",
    "        return {m.name: m.result() for m in self.metrics}\n",
    "\n",
    "    def call(self, inputs, training=False):\n",
    "        # Get the images from input\n",
    "        masked_images, unmasked_images = inputs[0], inputs[1]\n",
    "\n",
    "        # Embed them using the encoders\n",
    "        masked_features = self.masked_encoder(masked_images)\n",
    "        unmasked_features = self.unmasked_encoder(unmasked_images)\n",
    "\n",
    "        # Joint multimodal embedding\n",
    "        masked_embeddings = self.W_masked(masked_features)\n",
    "        unmasked_embeddings = self.W_unmasked(unmasked_features)\n",
    "\n",
    "        # Normalize\n",
    "        masked_embeddings = masked_embeddings / tf.norm(masked_embeddings)\n",
    "        unmasked_embeddings = unmasked_embeddings / tf.norm(unmasked_embeddings)\n",
    "\n",
    "        logits = tf.tensordot(masked_embeddings, tf.transpose(unmasked_embeddings), axes=1) * tf.exp(self.t)\n",
    "\n",
    "        return logits"
   ]
  },
  {
   "cell_type": "code",
   "execution_count": 54,
   "metadata": {
    "tags": []
   },
   "outputs": [],
   "source": [
    "cm = ContrastiveModel(masked_encoder, unmasked_encoder)\n",
    "cm.compile(\n",
    "    optimizer=tf.keras.optimizers.Adam(),\n",
    "    metrics=[\n",
    "        ContrastiveAccuracy\n",
    "    ],\n",
    "    run_eagerly=False # Set to true to debug\n",
    ")"
   ]
  },
  {
   "cell_type": "code",
   "execution_count": 55,
   "metadata": {},
   "outputs": [
    {
     "data": {
      "text/plain": [
       "(4, 28, 28)"
      ]
     },
     "execution_count": 55,
     "metadata": {},
     "output_type": "execute_result"
    }
   ],
   "source": [
    "data[0][1][:4].shape"
   ]
  },
  {
   "cell_type": "code",
   "execution_count": 56,
   "metadata": {
    "tags": []
   },
   "outputs": [
    {
     "data": {
      "text/plain": [
       "<tf.Tensor: shape=(4, 4), dtype=float32, numpy=\n",
       "array([[-0.00236594, -0.00200228, -0.00191188, -0.00144925],\n",
       "       [-0.00216242, -0.0018646 , -0.00177396, -0.00128159],\n",
       "       [-0.00185078, -0.00154992, -0.00153242, -0.0010802 ],\n",
       "       [-0.00260465, -0.00198563, -0.00209741, -0.00173418]],\n",
       "      dtype=float32)>"
      ]
     },
     "execution_count": 56,
     "metadata": {},
     "output_type": "execute_result"
    }
   ],
   "source": [
    "cm((data[0][0][:4],data[0][1][:4]))"
   ]
  },
  {
   "cell_type": "code",
   "execution_count": 57,
   "metadata": {
    "tags": []
   },
   "outputs": [],
   "source": [
    "training_data = DataGenerator(x_train, y_train, batch_size=32, rng=np.random.default_rng(0), min_crop = 0.4, max_crop = 1)\n",
    "# No cropping\n",
    "validation_data = DataGenerator(x_val, y_val, batch_size=32, rng=np.random.default_rng(0), min_crop = 1, max_crop = 1)"
   ]
  },
  {
   "cell_type": "code",
   "execution_count": 58,
   "metadata": {
    "tags": []
   },
   "outputs": [
    {
     "data": {
      "text/plain": [
       "32"
      ]
     },
     "execution_count": 58,
     "metadata": {},
     "output_type": "execute_result"
    }
   ],
   "source": [
    "len(training_data[0][0])"
   ]
  },
  {
   "cell_type": "code",
   "execution_count": 59,
   "metadata": {
    "tags": []
   },
   "outputs": [
    {
     "data": {
      "text/plain": [
       "<tf.Tensor: shape=(32, 32), dtype=float32, numpy=\n",
       "array([[-2.83887144e-04, -2.23793249e-04, -1.54112757e-04, ...,\n",
       "        -2.05730743e-04, -3.23825167e-04, -2.63351802e-04],\n",
       "       [-2.39886984e-04, -1.78060465e-04, -1.02623970e-04, ...,\n",
       "        -1.31063978e-04, -2.75381550e-04, -1.41567099e-04],\n",
       "       [-2.74220656e-04, -2.26205855e-04, -1.33752299e-04, ...,\n",
       "        -1.68011771e-04, -3.32020369e-04, -1.57320581e-04],\n",
       "       ...,\n",
       "       [-2.03029529e-04, -1.50768654e-04, -6.36464174e-05, ...,\n",
       "        -9.04857079e-05, -2.49688339e-04, -6.15195386e-05],\n",
       "       [-2.36236840e-04, -1.73419248e-04, -9.79608812e-05, ...,\n",
       "        -1.46351027e-04, -2.79752392e-04, -1.61060409e-04],\n",
       "       [-6.66187625e-05, -6.39385253e-05,  4.42762866e-05, ...,\n",
       "         4.56092966e-05, -1.43935060e-04,  1.04191546e-04]], dtype=float32)>"
      ]
     },
     "execution_count": 59,
     "metadata": {},
     "output_type": "execute_result"
    }
   ],
   "source": [
    "cm(validation_data[0])"
   ]
  },
  {
   "cell_type": "code",
   "execution_count": 60,
   "metadata": {
    "tags": []
   },
   "outputs": [
    {
     "data": {
      "text/plain": [
       "<tf.Tensor: shape=(), dtype=float32, numpy=0.0546875>"
      ]
     },
     "execution_count": 60,
     "metadata": {},
     "output_type": "execute_result"
    }
   ],
   "source": [
    "ContrastiveAccuracy(np.arange(validation_data[0][0].shape[0]),cm(validation_data[0]))"
   ]
  },
  {
   "cell_type": "code",
   "execution_count": 61,
   "metadata": {
    "scrolled": true,
    "tags": []
   },
   "outputs": [
    {
     "name": "stdout",
     "output_type": "stream",
     "text": [
      "Epoch 1/300\n"
     ]
    },
    {
     "name": "stderr",
     "output_type": "stream",
     "text": [
      "2023-11-27 19:03:40.011435: I tensorflow/core/common_runtime/executor.cc:1197] [/device:CPU:0] (DEBUG INFO) Executor start aborting (this does not indicate an error and you can ignore this message): INVALID_ARGUMENT: You must feed a value for placeholder tensor 'Placeholder/_0' with dtype int32\n",
      "\t [[{{node Placeholder/_0}}]]\n"
     ]
    },
    {
     "name": "stdout",
     "output_type": "stream",
     "text": [
      "100/100 [==============================] - ETA: 0s - loss: 3.4630 - ContrastiveAccuracy: 0.0529"
     ]
    },
    {
     "name": "stderr",
     "output_type": "stream",
     "text": [
      "2023-11-27 19:04:00.629199: I tensorflow/core/common_runtime/executor.cc:1197] [/device:CPU:0] (DEBUG INFO) Executor start aborting (this does not indicate an error and you can ignore this message): INVALID_ARGUMENT: You must feed a value for placeholder tensor 'Placeholder/_0' with dtype int32\n",
      "\t [[{{node Placeholder/_0}}]]\n"
     ]
    },
    {
     "name": "stdout",
     "output_type": "stream",
     "text": [
      "100/100 [==============================] - 22s 106ms/step - loss: 3.4630 - ContrastiveAccuracy: 0.0529 - val_loss: 3.4626 - val_ContrastiveAccuracy: 0.0564\n",
      "Epoch 2/300\n",
      "100/100 [==============================] - 10s 98ms/step - loss: 3.4621 - ContrastiveAccuracy: 0.0577 - val_loss: 3.4631 - val_ContrastiveAccuracy: 0.0579\n",
      "Epoch 3/300\n",
      "100/100 [==============================] - 10s 98ms/step - loss: 3.4614 - ContrastiveAccuracy: 0.0581 - val_loss: 3.4616 - val_ContrastiveAccuracy: 0.0582\n",
      "Epoch 4/300\n",
      "100/100 [==============================] - 10s 98ms/step - loss: 3.4608 - ContrastiveAccuracy: 0.0584 - val_loss: 3.4613 - val_ContrastiveAccuracy: 0.0585\n",
      "Epoch 5/300\n",
      "100/100 [==============================] - 10s 98ms/step - loss: 3.4601 - ContrastiveAccuracy: 0.0586 - val_loss: 3.4593 - val_ContrastiveAccuracy: 0.0586\n",
      "Epoch 6/300\n",
      "100/100 [==============================] - 10s 100ms/step - loss: 3.4589 - ContrastiveAccuracy: 0.0587 - val_loss: 3.4585 - val_ContrastiveAccuracy: 0.0588\n",
      "Epoch 7/300\n",
      "100/100 [==============================] - 10s 98ms/step - loss: 3.4576 - ContrastiveAccuracy: 0.0589 - val_loss: 3.4564 - val_ContrastiveAccuracy: 0.0590\n",
      "Epoch 8/300\n",
      "100/100 [==============================] - 10s 98ms/step - loss: 3.4563 - ContrastiveAccuracy: 0.0591 - val_loss: 3.4549 - val_ContrastiveAccuracy: 0.0592\n",
      "Epoch 9/300\n",
      "100/100 [==============================] - 10s 98ms/step - loss: 3.4551 - ContrastiveAccuracy: 0.0593 - val_loss: 3.4539 - val_ContrastiveAccuracy: 0.0593\n",
      "Epoch 10/300\n",
      "100/100 [==============================] - 10s 98ms/step - loss: 3.4520 - ContrastiveAccuracy: 0.0594 - val_loss: 3.4504 - val_ContrastiveAccuracy: 0.0594\n",
      "Epoch 11/300\n",
      "100/100 [==============================] - 10s 98ms/step - loss: 3.4503 - ContrastiveAccuracy: 0.0594 - val_loss: 3.4455 - val_ContrastiveAccuracy: 0.0595\n",
      "Epoch 12/300\n",
      "100/100 [==============================] - 10s 98ms/step - loss: 3.4469 - ContrastiveAccuracy: 0.0595 - val_loss: 3.4470 - val_ContrastiveAccuracy: 0.0594\n",
      "Epoch 13/300\n",
      "100/100 [==============================] - 10s 98ms/step - loss: 3.4433 - ContrastiveAccuracy: 0.0593 - val_loss: 3.4405 - val_ContrastiveAccuracy: 0.0594\n",
      "Epoch 14/300\n",
      "100/100 [==============================] - 10s 97ms/step - loss: 3.4388 - ContrastiveAccuracy: 0.0594 - val_loss: 3.4321 - val_ContrastiveAccuracy: 0.0595\n",
      "Epoch 15/300\n",
      "100/100 [==============================] - 10s 97ms/step - loss: 3.4355 - ContrastiveAccuracy: 0.0595 - val_loss: 3.4260 - val_ContrastiveAccuracy: 0.0595\n",
      "Epoch 16/300\n",
      "100/100 [==============================] - 10s 98ms/step - loss: 3.4290 - ContrastiveAccuracy: 0.0596 - val_loss: 3.4179 - val_ContrastiveAccuracy: 0.0596\n",
      "Epoch 17/300\n",
      "100/100 [==============================] - 10s 97ms/step - loss: 3.4200 - ContrastiveAccuracy: 0.0597 - val_loss: 3.4125 - val_ContrastiveAccuracy: 0.0597\n",
      "Epoch 18/300\n",
      "100/100 [==============================] - 10s 97ms/step - loss: 3.4131 - ContrastiveAccuracy: 0.0598 - val_loss: 3.4034 - val_ContrastiveAccuracy: 0.0598\n",
      "Epoch 19/300\n",
      "100/100 [==============================] - 10s 98ms/step - loss: 3.4023 - ContrastiveAccuracy: 0.0599 - val_loss: 3.3797 - val_ContrastiveAccuracy: 0.0599\n",
      "Epoch 20/300\n",
      "100/100 [==============================] - 10s 97ms/step - loss: 3.3959 - ContrastiveAccuracy: 0.0599 - val_loss: 3.3795 - val_ContrastiveAccuracy: 0.0599\n",
      "Epoch 21/300\n",
      "100/100 [==============================] - 10s 97ms/step - loss: 3.3813 - ContrastiveAccuracy: 0.0600 - val_loss: 3.3603 - val_ContrastiveAccuracy: 0.0600\n",
      "Epoch 22/300\n",
      "100/100 [==============================] - 10s 97ms/step - loss: 3.3655 - ContrastiveAccuracy: 0.0600 - val_loss: 3.3316 - val_ContrastiveAccuracy: 0.0600\n",
      "Epoch 23/300\n",
      "100/100 [==============================] - 10s 97ms/step - loss: 3.3436 - ContrastiveAccuracy: 0.0601 - val_loss: 3.3046 - val_ContrastiveAccuracy: 0.0601\n",
      "Epoch 24/300\n",
      "100/100 [==============================] - 10s 97ms/step - loss: 3.3288 - ContrastiveAccuracy: 0.0601 - val_loss: 3.2856 - val_ContrastiveAccuracy: 0.0602\n",
      "Epoch 25/300\n",
      "100/100 [==============================] - 10s 97ms/step - loss: 3.3018 - ContrastiveAccuracy: 0.0602 - val_loss: 3.2470 - val_ContrastiveAccuracy: 0.0602\n",
      "Epoch 26/300\n",
      "100/100 [==============================] - 10s 97ms/step - loss: 3.2855 - ContrastiveAccuracy: 0.0603 - val_loss: 3.2297 - val_ContrastiveAccuracy: 0.0603\n",
      "Epoch 27/300\n",
      "100/100 [==============================] - 10s 97ms/step - loss: 3.2587 - ContrastiveAccuracy: 0.0603 - val_loss: 3.2157 - val_ContrastiveAccuracy: 0.0604\n",
      "Epoch 28/300\n",
      "100/100 [==============================] - 10s 97ms/step - loss: 3.2398 - ContrastiveAccuracy: 0.0604 - val_loss: 3.2000 - val_ContrastiveAccuracy: 0.0604\n",
      "Epoch 29/300\n",
      "100/100 [==============================] - 10s 97ms/step - loss: 3.2121 - ContrastiveAccuracy: 0.0604 - val_loss: 3.1249 - val_ContrastiveAccuracy: 0.0605\n",
      "Epoch 30/300\n",
      "100/100 [==============================] - 10s 97ms/step - loss: 3.2024 - ContrastiveAccuracy: 0.0605 - val_loss: 3.0941 - val_ContrastiveAccuracy: 0.0605\n",
      "Epoch 31/300\n",
      "100/100 [==============================] - 10s 97ms/step - loss: 3.1801 - ContrastiveAccuracy: 0.0605 - val_loss: 3.0556 - val_ContrastiveAccuracy: 0.0605\n",
      "Epoch 32/300\n",
      "100/100 [==============================] - 10s 97ms/step - loss: 3.1600 - ContrastiveAccuracy: 0.0606 - val_loss: 3.0561 - val_ContrastiveAccuracy: 0.0606\n",
      "Epoch 33/300\n",
      "100/100 [==============================] - 10s 97ms/step - loss: 3.1489 - ContrastiveAccuracy: 0.0606 - val_loss: 3.0237 - val_ContrastiveAccuracy: 0.0607\n",
      "Epoch 34/300\n",
      "100/100 [==============================] - 10s 97ms/step - loss: 3.1083 - ContrastiveAccuracy: 0.0609 - val_loss: 2.9213 - val_ContrastiveAccuracy: 0.0615\n",
      "Epoch 35/300\n",
      "100/100 [==============================] - 10s 97ms/step - loss: 3.0496 - ContrastiveAccuracy: 0.0622 - val_loss: 2.8711 - val_ContrastiveAccuracy: 0.0629\n",
      "Epoch 36/300\n",
      "100/100 [==============================] - 10s 97ms/step - loss: 2.9898 - ContrastiveAccuracy: 0.0636 - val_loss: 2.8377 - val_ContrastiveAccuracy: 0.0645\n",
      "Epoch 37/300\n",
      "100/100 [==============================] - 10s 97ms/step - loss: 2.9519 - ContrastiveAccuracy: 0.0653 - val_loss: 2.7412 - val_ContrastiveAccuracy: 0.0662\n",
      "Epoch 38/300\n",
      "100/100 [==============================] - 10s 97ms/step - loss: 2.9075 - ContrastiveAccuracy: 0.0671 - val_loss: 2.6928 - val_ContrastiveAccuracy: 0.0680\n",
      "Epoch 39/300\n",
      "100/100 [==============================] - 10s 97ms/step - loss: 2.8796 - ContrastiveAccuracy: 0.0690 - val_loss: 2.6536 - val_ContrastiveAccuracy: 0.0700\n",
      "Epoch 40/300\n",
      "100/100 [==============================] - 10s 97ms/step - loss: 2.8599 - ContrastiveAccuracy: 0.0710 - val_loss: 2.5975 - val_ContrastiveAccuracy: 0.0720\n",
      "Epoch 41/300\n",
      "100/100 [==============================] - 10s 97ms/step - loss: 2.8261 - ContrastiveAccuracy: 0.0730 - val_loss: 2.6537 - val_ContrastiveAccuracy: 0.0739\n",
      "Epoch 42/300\n",
      "100/100 [==============================] - 10s 97ms/step - loss: 2.8325 - ContrastiveAccuracy: 0.0748 - val_loss: 2.5519 - val_ContrastiveAccuracy: 0.0757\n",
      "Epoch 43/300\n",
      "100/100 [==============================] - 10s 98ms/step - loss: 2.8103 - ContrastiveAccuracy: 0.0766 - val_loss: 2.5590 - val_ContrastiveAccuracy: 0.0776\n",
      "Epoch 44/300\n",
      "100/100 [==============================] - 10s 97ms/step - loss: 2.7983 - ContrastiveAccuracy: 0.0785 - val_loss: 2.5244 - val_ContrastiveAccuracy: 0.0794\n",
      "Epoch 45/300\n",
      "100/100 [==============================] - 10s 97ms/step - loss: 2.7801 - ContrastiveAccuracy: 0.0804 - val_loss: 2.4856 - val_ContrastiveAccuracy: 0.0815\n",
      "Epoch 46/300\n",
      "100/100 [==============================] - 10s 97ms/step - loss: 2.7106 - ContrastiveAccuracy: 0.0827 - val_loss: 2.3913 - val_ContrastiveAccuracy: 0.0838\n",
      "Epoch 47/300\n",
      "100/100 [==============================] - 10s 97ms/step - loss: 2.6556 - ContrastiveAccuracy: 0.0850 - val_loss: 2.2822 - val_ContrastiveAccuracy: 0.0866\n",
      "Epoch 48/300\n",
      "100/100 [==============================] - 10s 97ms/step - loss: 2.6274 - ContrastiveAccuracy: 0.0881 - val_loss: 2.2226 - val_ContrastiveAccuracy: 0.0898\n",
      "Epoch 49/300\n",
      "100/100 [==============================] - 10s 97ms/step - loss: 2.6083 - ContrastiveAccuracy: 0.0915 - val_loss: 2.1522 - val_ContrastiveAccuracy: 0.0932\n",
      "Epoch 50/300\n",
      "100/100 [==============================] - 10s 97ms/step - loss: 2.5865 - ContrastiveAccuracy: 0.0949 - val_loss: 2.1216 - val_ContrastiveAccuracy: 0.0965\n",
      "Epoch 51/300\n",
      "100/100 [==============================] - 10s 97ms/step - loss: 2.5899 - ContrastiveAccuracy: 0.0981 - val_loss: 2.0906 - val_ContrastiveAccuracy: 0.0997\n",
      "Epoch 52/300\n",
      "100/100 [==============================] - 10s 97ms/step - loss: 2.5910 - ContrastiveAccuracy: 0.1012 - val_loss: 2.1247 - val_ContrastiveAccuracy: 0.1029\n",
      "Epoch 53/300\n",
      "100/100 [==============================] - 10s 97ms/step - loss: 2.5458 - ContrastiveAccuracy: 0.1046 - val_loss: 2.0669 - val_ContrastiveAccuracy: 0.1062\n",
      "Epoch 54/300\n",
      "100/100 [==============================] - 10s 97ms/step - loss: 2.5589 - ContrastiveAccuracy: 0.1079 - val_loss: 2.0024 - val_ContrastiveAccuracy: 0.1095\n",
      "Epoch 55/300\n",
      "100/100 [==============================] - 10s 97ms/step - loss: 2.5047 - ContrastiveAccuracy: 0.1112 - val_loss: 1.9800 - val_ContrastiveAccuracy: 0.1130\n",
      "Epoch 56/300\n",
      "100/100 [==============================] - 10s 97ms/step - loss: 2.5176 - ContrastiveAccuracy: 0.1146 - val_loss: 2.0180 - val_ContrastiveAccuracy: 0.1162\n",
      "Epoch 57/300\n",
      "100/100 [==============================] - 10s 97ms/step - loss: 2.4980 - ContrastiveAccuracy: 0.1178 - val_loss: 2.0674 - val_ContrastiveAccuracy: 0.1192\n",
      "Epoch 58/300\n",
      "100/100 [==============================] - 10s 97ms/step - loss: 2.4862 - ContrastiveAccuracy: 0.1206 - val_loss: 1.9181 - val_ContrastiveAccuracy: 0.1222\n",
      "Epoch 59/300\n",
      "100/100 [==============================] - 10s 97ms/step - loss: 2.4938 - ContrastiveAccuracy: 0.1238 - val_loss: 1.9909 - val_ContrastiveAccuracy: 0.1251\n",
      "Epoch 60/300\n",
      "100/100 [==============================] - 10s 97ms/step - loss: 2.4741 - ContrastiveAccuracy: 0.1264 - val_loss: 1.9782 - val_ContrastiveAccuracy: 0.1279\n",
      "Epoch 61/300\n",
      "100/100 [==============================] - 10s 97ms/step - loss: 2.4783 - ContrastiveAccuracy: 0.1293 - val_loss: 1.8930 - val_ContrastiveAccuracy: 0.1309\n",
      "Epoch 62/300\n",
      "100/100 [==============================] - 10s 98ms/step - loss: 2.4898 - ContrastiveAccuracy: 0.1324 - val_loss: 1.9249 - val_ContrastiveAccuracy: 0.1340\n",
      "Epoch 63/300\n",
      "100/100 [==============================] - 10s 97ms/step - loss: 2.4374 - ContrastiveAccuracy: 0.1356 - val_loss: 1.8861 - val_ContrastiveAccuracy: 0.1371\n",
      "Epoch 64/300\n",
      "100/100 [==============================] - 10s 97ms/step - loss: 2.4105 - ContrastiveAccuracy: 0.1387 - val_loss: 2.0146 - val_ContrastiveAccuracy: 0.1398\n",
      "Epoch 65/300\n",
      "100/100 [==============================] - 10s 97ms/step - loss: 2.4157 - ContrastiveAccuracy: 0.1409 - val_loss: 1.8412 - val_ContrastiveAccuracy: 0.1423\n",
      "Epoch 66/300\n",
      "100/100 [==============================] - 10s 97ms/step - loss: 2.4504 - ContrastiveAccuracy: 0.1437 - val_loss: 1.8275 - val_ContrastiveAccuracy: 0.1452\n",
      "Epoch 67/300\n",
      "100/100 [==============================] - 10s 97ms/step - loss: 2.4424 - ContrastiveAccuracy: 0.1466 - val_loss: 1.8571 - val_ContrastiveAccuracy: 0.1481\n",
      "Epoch 68/300\n",
      "100/100 [==============================] - 10s 97ms/step - loss: 2.4654 - ContrastiveAccuracy: 0.1495 - val_loss: 1.8440 - val_ContrastiveAccuracy: 0.1508\n",
      "Epoch 69/300\n",
      "100/100 [==============================] - 10s 97ms/step - loss: 2.4379 - ContrastiveAccuracy: 0.1520 - val_loss: 1.8468 - val_ContrastiveAccuracy: 0.1534\n",
      "Epoch 70/300\n",
      "100/100 [==============================] - 10s 98ms/step - loss: 2.4212 - ContrastiveAccuracy: 0.1548 - val_loss: 1.8602 - val_ContrastiveAccuracy: 0.1562\n",
      "Epoch 71/300\n",
      "100/100 [==============================] - 10s 97ms/step - loss: 2.4102 - ContrastiveAccuracy: 0.1575 - val_loss: 1.8845 - val_ContrastiveAccuracy: 0.1587\n",
      "Epoch 72/300\n",
      "100/100 [==============================] - 10s 97ms/step - loss: 2.4050 - ContrastiveAccuracy: 0.1599 - val_loss: 1.7891 - val_ContrastiveAccuracy: 0.1613\n",
      "Epoch 73/300\n",
      "100/100 [==============================] - 10s 97ms/step - loss: 2.3843 - ContrastiveAccuracy: 0.1627 - val_loss: 1.7756 - val_ContrastiveAccuracy: 0.1640\n",
      "Epoch 74/300\n",
      "100/100 [==============================] - 10s 97ms/step - loss: 2.3683 - ContrastiveAccuracy: 0.1653 - val_loss: 1.8425 - val_ContrastiveAccuracy: 0.1665\n",
      "Epoch 75/300\n",
      "100/100 [==============================] - 10s 97ms/step - loss: 2.3707 - ContrastiveAccuracy: 0.1677 - val_loss: 1.8102 - val_ContrastiveAccuracy: 0.1691\n",
      "Epoch 76/300\n",
      "100/100 [==============================] - 10s 97ms/step - loss: 2.3562 - ContrastiveAccuracy: 0.1705 - val_loss: 1.7605 - val_ContrastiveAccuracy: 0.1720\n",
      "Epoch 77/300\n",
      "100/100 [==============================] - 10s 97ms/step - loss: 2.3148 - ContrastiveAccuracy: 0.1736 - val_loss: 1.6867 - val_ContrastiveAccuracy: 0.1752\n",
      "Epoch 78/300\n",
      "100/100 [==============================] - 10s 98ms/step - loss: 2.2779 - ContrastiveAccuracy: 0.1769 - val_loss: 1.6148 - val_ContrastiveAccuracy: 0.1785\n",
      "Epoch 79/300\n",
      "100/100 [==============================] - 10s 97ms/step - loss: 2.2873 - ContrastiveAccuracy: 0.1802 - val_loss: 1.6377 - val_ContrastiveAccuracy: 0.1817\n",
      "Epoch 80/300\n",
      "100/100 [==============================] - 10s 97ms/step - loss: 2.2582 - ContrastiveAccuracy: 0.1832 - val_loss: 1.5492 - val_ContrastiveAccuracy: 0.1849\n",
      "Epoch 81/300\n",
      "100/100 [==============================] - 10s 97ms/step - loss: 2.2262 - ContrastiveAccuracy: 0.1866 - val_loss: 1.5586 - val_ContrastiveAccuracy: 0.1882\n",
      "Epoch 82/300\n",
      "100/100 [==============================] - 10s 97ms/step - loss: 2.2225 - ContrastiveAccuracy: 0.1897 - val_loss: 1.5921 - val_ContrastiveAccuracy: 0.1910\n",
      "Epoch 83/300\n",
      "100/100 [==============================] - 10s 97ms/step - loss: 2.2386 - ContrastiveAccuracy: 0.1924 - val_loss: 1.5346 - val_ContrastiveAccuracy: 0.1939\n",
      "Epoch 84/300\n",
      "100/100 [==============================] - 10s 97ms/step - loss: 2.2061 - ContrastiveAccuracy: 0.1954 - val_loss: 1.5370 - val_ContrastiveAccuracy: 0.1969\n",
      "Epoch 85/300\n",
      "100/100 [==============================] - 10s 97ms/step - loss: 2.1192 - ContrastiveAccuracy: 0.1984 - val_loss: 1.3935 - val_ContrastiveAccuracy: 0.2002\n",
      "Epoch 86/300\n",
      "100/100 [==============================] - 10s 98ms/step - loss: 2.1906 - ContrastiveAccuracy: 0.2019 - val_loss: 1.4973 - val_ContrastiveAccuracy: 0.2034\n",
      "Epoch 87/300\n",
      "100/100 [==============================] - 10s 97ms/step - loss: 2.1326 - ContrastiveAccuracy: 0.2050 - val_loss: 1.4486 - val_ContrastiveAccuracy: 0.2067\n",
      "Epoch 88/300\n",
      "100/100 [==============================] - 10s 97ms/step - loss: 2.1624 - ContrastiveAccuracy: 0.2084 - val_loss: 1.4900 - val_ContrastiveAccuracy: 0.2099\n",
      "Epoch 89/300\n",
      "100/100 [==============================] - 10s 97ms/step - loss: 2.1619 - ContrastiveAccuracy: 0.2114 - val_loss: 1.4984 - val_ContrastiveAccuracy: 0.2128\n",
      "Epoch 90/300\n",
      "100/100 [==============================] - 10s 97ms/step - loss: 2.1647 - ContrastiveAccuracy: 0.2143 - val_loss: 1.4452 - val_ContrastiveAccuracy: 0.2158\n",
      "Epoch 91/300\n",
      "100/100 [==============================] - 10s 97ms/step - loss: 2.1374 - ContrastiveAccuracy: 0.2173 - val_loss: 1.4252 - val_ContrastiveAccuracy: 0.2188\n",
      "Epoch 92/300\n",
      "100/100 [==============================] - 10s 97ms/step - loss: 2.1260 - ContrastiveAccuracy: 0.2203 - val_loss: 1.4114 - val_ContrastiveAccuracy: 0.2217\n",
      "Epoch 93/300\n",
      "100/100 [==============================] - 10s 97ms/step - loss: 2.1199 - ContrastiveAccuracy: 0.2232 - val_loss: 1.3760 - val_ContrastiveAccuracy: 0.2246\n",
      "Epoch 94/300\n",
      "100/100 [==============================] - 10s 97ms/step - loss: 2.1449 - ContrastiveAccuracy: 0.2261 - val_loss: 1.3803 - val_ContrastiveAccuracy: 0.2275\n",
      "Epoch 95/300\n",
      "100/100 [==============================] - 10s 97ms/step - loss: 2.0580 - ContrastiveAccuracy: 0.2289 - val_loss: 1.4558 - val_ContrastiveAccuracy: 0.2301\n",
      "Epoch 96/300\n",
      "100/100 [==============================] - 10s 97ms/step - loss: 2.1015 - ContrastiveAccuracy: 0.2314 - val_loss: 1.3477 - val_ContrastiveAccuracy: 0.2329\n",
      "Epoch 97/300\n",
      "100/100 [==============================] - 10s 97ms/step - loss: 2.1206 - ContrastiveAccuracy: 0.2343 - val_loss: 1.3413 - val_ContrastiveAccuracy: 0.2357\n",
      "Epoch 98/300\n",
      "100/100 [==============================] - 10s 97ms/step - loss: 2.0769 - ContrastiveAccuracy: 0.2370 - val_loss: 1.3996 - val_ContrastiveAccuracy: 0.2382\n",
      "Epoch 99/300\n",
      "100/100 [==============================] - 10s 97ms/step - loss: 2.0290 - ContrastiveAccuracy: 0.2393 - val_loss: 1.2901 - val_ContrastiveAccuracy: 0.2407\n",
      "Epoch 100/300\n",
      "100/100 [==============================] - 10s 97ms/step - loss: 2.0762 - ContrastiveAccuracy: 0.2421 - val_loss: 1.3164 - val_ContrastiveAccuracy: 0.2434\n",
      "Epoch 101/300\n",
      "100/100 [==============================] - 10s 97ms/step - loss: 2.0664 - ContrastiveAccuracy: 0.2446 - val_loss: 1.3571 - val_ContrastiveAccuracy: 0.2458\n",
      "Epoch 102/300\n",
      "100/100 [==============================] - 10s 98ms/step - loss: 2.0128 - ContrastiveAccuracy: 0.2471 - val_loss: 1.2912 - val_ContrastiveAccuracy: 0.2484\n",
      "Epoch 103/300\n",
      "100/100 [==============================] - 10s 97ms/step - loss: 2.0259 - ContrastiveAccuracy: 0.2497 - val_loss: 1.3627 - val_ContrastiveAccuracy: 0.2510\n",
      "Epoch 104/300\n",
      "100/100 [==============================] - 10s 97ms/step - loss: 2.0580 - ContrastiveAccuracy: 0.2522 - val_loss: 1.3462 - val_ContrastiveAccuracy: 0.2534\n",
      "Epoch 105/300\n",
      "100/100 [==============================] - 10s 97ms/step - loss: 2.0091 - ContrastiveAccuracy: 0.2547 - val_loss: 1.3061 - val_ContrastiveAccuracy: 0.2559\n",
      "Epoch 106/300\n",
      "100/100 [==============================] - 10s 97ms/step - loss: 1.9838 - ContrastiveAccuracy: 0.2570 - val_loss: 1.1908 - val_ContrastiveAccuracy: 0.2584\n",
      "Epoch 107/300\n",
      "100/100 [==============================] - 10s 97ms/step - loss: 2.0373 - ContrastiveAccuracy: 0.2598 - val_loss: 1.3133 - val_ContrastiveAccuracy: 0.2610\n",
      "Epoch 108/300\n",
      "100/100 [==============================] - 10s 97ms/step - loss: 2.0063 - ContrastiveAccuracy: 0.2622 - val_loss: 1.3132 - val_ContrastiveAccuracy: 0.2634\n",
      "Epoch 109/300\n",
      "100/100 [==============================] - 10s 97ms/step - loss: 1.9843 - ContrastiveAccuracy: 0.2647 - val_loss: 1.2067 - val_ContrastiveAccuracy: 0.2659\n",
      "Epoch 110/300\n",
      "100/100 [==============================] - 10s 97ms/step - loss: 2.0007 - ContrastiveAccuracy: 0.2672 - val_loss: 1.2467 - val_ContrastiveAccuracy: 0.2684\n",
      "Epoch 111/300\n",
      "100/100 [==============================] - 10s 97ms/step - loss: 1.9674 - ContrastiveAccuracy: 0.2697 - val_loss: 1.2625 - val_ContrastiveAccuracy: 0.2709\n",
      "Epoch 112/300\n",
      "100/100 [==============================] - 10s 97ms/step - loss: 2.0031 - ContrastiveAccuracy: 0.2720 - val_loss: 1.3333 - val_ContrastiveAccuracy: 0.2731\n",
      "Epoch 113/300\n",
      "100/100 [==============================] - 10s 98ms/step - loss: 1.9895 - ContrastiveAccuracy: 0.2741 - val_loss: 1.2877 - val_ContrastiveAccuracy: 0.2752\n",
      "Epoch 114/300\n",
      "100/100 [==============================] - 10s 97ms/step - loss: 1.9585 - ContrastiveAccuracy: 0.2763 - val_loss: 1.2778 - val_ContrastiveAccuracy: 0.2773\n",
      "Epoch 115/300\n",
      "100/100 [==============================] - 10s 97ms/step - loss: 1.9524 - ContrastiveAccuracy: 0.2783 - val_loss: 1.2727 - val_ContrastiveAccuracy: 0.2794\n",
      "Epoch 116/300\n",
      "100/100 [==============================] - 10s 97ms/step - loss: 1.9211 - ContrastiveAccuracy: 0.2805 - val_loss: 1.1527 - val_ContrastiveAccuracy: 0.2817\n",
      "Epoch 117/300\n",
      "100/100 [==============================] - 10s 97ms/step - loss: 1.9267 - ContrastiveAccuracy: 0.2829 - val_loss: 1.1494 - val_ContrastiveAccuracy: 0.2841\n",
      "Epoch 118/300\n",
      "100/100 [==============================] - 10s 97ms/step - loss: 1.8773 - ContrastiveAccuracy: 0.2854 - val_loss: 1.2433 - val_ContrastiveAccuracy: 0.2864\n",
      "Epoch 119/300\n",
      "100/100 [==============================] - 10s 97ms/step - loss: 1.9141 - ContrastiveAccuracy: 0.2875 - val_loss: 1.2639 - val_ContrastiveAccuracy: 0.2885\n",
      "Epoch 120/300\n",
      "100/100 [==============================] - 10s 97ms/step - loss: 1.9453 - ContrastiveAccuracy: 0.2895 - val_loss: 1.2728 - val_ContrastiveAccuracy: 0.2906\n",
      "Epoch 121/300\n",
      "100/100 [==============================] - 10s 98ms/step - loss: 1.8834 - ContrastiveAccuracy: 0.2917 - val_loss: 1.1955 - val_ContrastiveAccuracy: 0.2928\n",
      "Epoch 122/300\n",
      "100/100 [==============================] - 10s 97ms/step - loss: 1.9100 - ContrastiveAccuracy: 0.2939 - val_loss: 1.2263 - val_ContrastiveAccuracy: 0.2949\n",
      "Epoch 123/300\n",
      "100/100 [==============================] - 10s 97ms/step - loss: 1.9254 - ContrastiveAccuracy: 0.2960 - val_loss: 1.2795 - val_ContrastiveAccuracy: 0.2968\n",
      "Epoch 124/300\n",
      "100/100 [==============================] - 10s 97ms/step - loss: 1.8763 - ContrastiveAccuracy: 0.2977 - val_loss: 1.2271 - val_ContrastiveAccuracy: 0.2987\n",
      "Epoch 125/300\n",
      "100/100 [==============================] - 10s 97ms/step - loss: 1.8147 - ContrastiveAccuracy: 0.2997 - val_loss: 1.1344 - val_ContrastiveAccuracy: 0.3009\n",
      "Epoch 126/300\n",
      "100/100 [==============================] - 10s 97ms/step - loss: 1.8869 - ContrastiveAccuracy: 0.3020 - val_loss: 1.2390 - val_ContrastiveAccuracy: 0.3029\n",
      "Epoch 127/300\n",
      "100/100 [==============================] - 10s 97ms/step - loss: 1.8235 - ContrastiveAccuracy: 0.3039 - val_loss: 1.1725 - val_ContrastiveAccuracy: 0.3049\n",
      "Epoch 128/300\n",
      "100/100 [==============================] - 10s 97ms/step - loss: 1.9045 - ContrastiveAccuracy: 0.3059 - val_loss: 1.1672 - val_ContrastiveAccuracy: 0.3069\n",
      "Epoch 129/300\n",
      "100/100 [==============================] - 10s 97ms/step - loss: 1.8406 - ContrastiveAccuracy: 0.3079 - val_loss: 1.2654 - val_ContrastiveAccuracy: 0.3088\n",
      "Epoch 130/300\n",
      "100/100 [==============================] - 10s 97ms/step - loss: 1.8634 - ContrastiveAccuracy: 0.3097 - val_loss: 1.2723 - val_ContrastiveAccuracy: 0.3105\n",
      "Epoch 131/300\n",
      "100/100 [==============================] - 10s 97ms/step - loss: 1.8909 - ContrastiveAccuracy: 0.3113 - val_loss: 1.2591 - val_ContrastiveAccuracy: 0.3122\n",
      "Epoch 132/300\n",
      "100/100 [==============================] - 10s 97ms/step - loss: 1.8452 - ContrastiveAccuracy: 0.3131 - val_loss: 1.2475 - val_ContrastiveAccuracy: 0.3140\n",
      "Epoch 133/300\n",
      "100/100 [==============================] - 10s 97ms/step - loss: 1.7860 - ContrastiveAccuracy: 0.3149 - val_loss: 1.2782 - val_ContrastiveAccuracy: 0.3158\n",
      "Epoch 134/300\n",
      "100/100 [==============================] - 10s 97ms/step - loss: 1.8614 - ContrastiveAccuracy: 0.3166 - val_loss: 1.3086 - val_ContrastiveAccuracy: 0.3174\n",
      "Epoch 135/300\n",
      "100/100 [==============================] - 10s 97ms/step - loss: 1.7894 - ContrastiveAccuracy: 0.3182 - val_loss: 1.3527 - val_ContrastiveAccuracy: 0.3188\n",
      "Epoch 136/300\n",
      "100/100 [==============================] - 10s 97ms/step - loss: 1.8764 - ContrastiveAccuracy: 0.3193 - val_loss: 1.2199 - val_ContrastiveAccuracy: 0.3202\n",
      "Epoch 137/300\n",
      "100/100 [==============================] - 10s 97ms/step - loss: 1.7675 - ContrastiveAccuracy: 0.3211 - val_loss: 1.1002 - val_ContrastiveAccuracy: 0.3221\n",
      "Epoch 138/300\n",
      "100/100 [==============================] - 10s 97ms/step - loss: 1.8092 - ContrastiveAccuracy: 0.3231 - val_loss: 1.1593 - val_ContrastiveAccuracy: 0.3240\n",
      "Epoch 139/300\n",
      "100/100 [==============================] - 10s 97ms/step - loss: 1.7830 - ContrastiveAccuracy: 0.3250 - val_loss: 1.1610 - val_ContrastiveAccuracy: 0.3259\n",
      "Epoch 140/300\n",
      "100/100 [==============================] - 10s 97ms/step - loss: 1.7961 - ContrastiveAccuracy: 0.3268 - val_loss: 1.1866 - val_ContrastiveAccuracy: 0.3277\n",
      "Epoch 141/300\n",
      "100/100 [==============================] - 10s 97ms/step - loss: 1.8028 - ContrastiveAccuracy: 0.3286 - val_loss: 1.1446 - val_ContrastiveAccuracy: 0.3295\n",
      "Epoch 142/300\n",
      "100/100 [==============================] - 10s 97ms/step - loss: 1.7332 - ContrastiveAccuracy: 0.3304 - val_loss: 1.0868 - val_ContrastiveAccuracy: 0.3314\n",
      "Epoch 143/300\n",
      "100/100 [==============================] - 10s 97ms/step - loss: 1.7944 - ContrastiveAccuracy: 0.3323 - val_loss: 1.1390 - val_ContrastiveAccuracy: 0.3332\n",
      "Epoch 144/300\n",
      "100/100 [==============================] - 10s 97ms/step - loss: 1.8000 - ContrastiveAccuracy: 0.3341 - val_loss: 1.1953 - val_ContrastiveAccuracy: 0.3349\n",
      "Epoch 145/300\n",
      "100/100 [==============================] - 10s 97ms/step - loss: 1.7425 - ContrastiveAccuracy: 0.3358 - val_loss: 1.1329 - val_ContrastiveAccuracy: 0.3366\n",
      "Epoch 146/300\n",
      "100/100 [==============================] - 10s 97ms/step - loss: 1.7856 - ContrastiveAccuracy: 0.3375 - val_loss: 1.1118 - val_ContrastiveAccuracy: 0.3383\n",
      "Epoch 147/300\n",
      "100/100 [==============================] - 10s 97ms/step - loss: 1.7694 - ContrastiveAccuracy: 0.3392 - val_loss: 1.1685 - val_ContrastiveAccuracy: 0.3401\n",
      "Epoch 148/300\n",
      "100/100 [==============================] - 10s 97ms/step - loss: 1.7688 - ContrastiveAccuracy: 0.3409 - val_loss: 1.1371 - val_ContrastiveAccuracy: 0.3418\n",
      "Epoch 149/300\n",
      "100/100 [==============================] - 10s 97ms/step - loss: 1.7218 - ContrastiveAccuracy: 0.3427 - val_loss: 1.1864 - val_ContrastiveAccuracy: 0.3434\n",
      "Epoch 150/300\n",
      "100/100 [==============================] - 10s 97ms/step - loss: 1.7357 - ContrastiveAccuracy: 0.3442 - val_loss: 1.0908 - val_ContrastiveAccuracy: 0.3451\n",
      "Epoch 151/300\n",
      "100/100 [==============================] - 10s 97ms/step - loss: 1.7251 - ContrastiveAccuracy: 0.3459 - val_loss: 1.1176 - val_ContrastiveAccuracy: 0.3467\n",
      "Epoch 152/300\n",
      "100/100 [==============================] - 10s 97ms/step - loss: 1.7242 - ContrastiveAccuracy: 0.3475 - val_loss: 1.0985 - val_ContrastiveAccuracy: 0.3483\n",
      "Epoch 153/300\n",
      "100/100 [==============================] - 10s 97ms/step - loss: 1.7201 - ContrastiveAccuracy: 0.3491 - val_loss: 1.1753 - val_ContrastiveAccuracy: 0.3498\n",
      "Epoch 154/300\n",
      "100/100 [==============================] - 10s 97ms/step - loss: 1.7411 - ContrastiveAccuracy: 0.3504 - val_loss: 1.1135 - val_ContrastiveAccuracy: 0.3511\n",
      "Epoch 155/300\n",
      "100/100 [==============================] - 10s 97ms/step - loss: 1.7026 - ContrastiveAccuracy: 0.3519 - val_loss: 0.9832 - val_ContrastiveAccuracy: 0.3528\n",
      "Epoch 156/300\n",
      "100/100 [==============================] - 10s 97ms/step - loss: 1.7343 - ContrastiveAccuracy: 0.3536 - val_loss: 1.0221 - val_ContrastiveAccuracy: 0.3545\n",
      "Epoch 157/300\n",
      "100/100 [==============================] - 10s 97ms/step - loss: 1.7009 - ContrastiveAccuracy: 0.3554 - val_loss: 1.0451 - val_ContrastiveAccuracy: 0.3561\n",
      "Epoch 158/300\n",
      "100/100 [==============================] - 10s 97ms/step - loss: 1.7722 - ContrastiveAccuracy: 0.3568 - val_loss: 1.1595 - val_ContrastiveAccuracy: 0.3575\n",
      "Epoch 159/300\n",
      "100/100 [==============================] - 10s 97ms/step - loss: 1.6648 - ContrastiveAccuracy: 0.3583 - val_loss: 1.1324 - val_ContrastiveAccuracy: 0.3590\n",
      "Epoch 160/300\n",
      "100/100 [==============================] - 10s 97ms/step - loss: 1.6790 - ContrastiveAccuracy: 0.3597 - val_loss: 1.1705 - val_ContrastiveAccuracy: 0.3605\n",
      "Epoch 161/300\n",
      "100/100 [==============================] - 10s 97ms/step - loss: 1.6427 - ContrastiveAccuracy: 0.3612 - val_loss: 1.1097 - val_ContrastiveAccuracy: 0.3619\n",
      "Epoch 162/300\n",
      "100/100 [==============================] - 10s 97ms/step - loss: 1.7372 - ContrastiveAccuracy: 0.3625 - val_loss: 1.0252 - val_ContrastiveAccuracy: 0.3633\n",
      "Epoch 163/300\n",
      "100/100 [==============================] - 10s 97ms/step - loss: 1.6329 - ContrastiveAccuracy: 0.3641 - val_loss: 1.0759 - val_ContrastiveAccuracy: 0.3649\n",
      "Epoch 164/300\n",
      "100/100 [==============================] - 10s 97ms/step - loss: 1.6748 - ContrastiveAccuracy: 0.3656 - val_loss: 0.9858 - val_ContrastiveAccuracy: 0.3664\n",
      "Epoch 165/300\n",
      "100/100 [==============================] - 10s 97ms/step - loss: 1.6818 - ContrastiveAccuracy: 0.3673 - val_loss: 1.0173 - val_ContrastiveAccuracy: 0.3681\n",
      "Epoch 166/300\n",
      "100/100 [==============================] - 10s 97ms/step - loss: 1.6376 - ContrastiveAccuracy: 0.3689 - val_loss: 1.0531 - val_ContrastiveAccuracy: 0.3696\n",
      "Epoch 167/300\n",
      "100/100 [==============================] - 10s 97ms/step - loss: 1.6707 - ContrastiveAccuracy: 0.3704 - val_loss: 1.0549 - val_ContrastiveAccuracy: 0.3711\n",
      "Epoch 168/300\n",
      "100/100 [==============================] - 10s 97ms/step - loss: 1.6702 - ContrastiveAccuracy: 0.3718 - val_loss: 1.0073 - val_ContrastiveAccuracy: 0.3726\n",
      "Epoch 169/300\n",
      "100/100 [==============================] - 10s 97ms/step - loss: 1.7327 - ContrastiveAccuracy: 0.3733 - val_loss: 1.0476 - val_ContrastiveAccuracy: 0.3740\n",
      "Epoch 170/300\n",
      "100/100 [==============================] - 10s 97ms/step - loss: 1.6815 - ContrastiveAccuracy: 0.3748 - val_loss: 1.1014 - val_ContrastiveAccuracy: 0.3754\n"
     ]
    }
   ],
   "source": [
    "callback = tf.keras.callbacks.EarlyStopping(monitor = \"val_loss\", mode = 'min', patience = 15)\n",
    "history = cm.fit(training_data,\n",
    "                 epochs=300,\n",
    "                 verbose=1,\n",
    "                 validation_data=validation_data,\n",
    "                 callbacks=[callback]\n",
    "                )"
   ]
  },
  {
   "cell_type": "code",
   "execution_count": 62,
   "metadata": {},
   "outputs": [
    {
     "name": "stdout",
     "output_type": "stream",
     "text": [
      "Model: \"contrastive_model_1\"\n",
      "_________________________________________________________________\n",
      " Layer (type)                Output Shape              Param #   \n",
      "=================================================================\n",
      " model_4 (Functional)        (None, 64)                336064    \n",
      "                                                                 \n",
      " model_5 (Functional)        (None, 64)                336064    \n",
      "                                                                 \n",
      " dense_26 (Dense)            multiple                  32768     \n",
      "                                                                 \n",
      " dense_27 (Dense)            multiple                  32768     \n",
      "                                                                 \n",
      "=================================================================\n",
      "Total params: 737,665\n",
      "Trainable params: 737,665\n",
      "Non-trainable params: 0\n",
      "_________________________________________________________________\n"
     ]
    }
   ],
   "source": [
    "cm.summary()"
   ]
  },
  {
   "cell_type": "code",
   "execution_count": 63,
   "metadata": {},
   "outputs": [],
   "source": [
    "with open(\"training_history.txt\", 'w') as file:\n",
    "    file.write(f\"Epochs: {len(history.history['loss'])}\\n\")\n",
    "    file.write(f\"Loss: {history.history['loss'][-1]}\\n\")\n",
    "    file.write(f\"Validation Loss: {history.history['val_loss'][-1]}\\n\")\n",
    "    file.write(f\"Contrastive Accuracy: {history.history['ContrastiveAccuracy'][-1] * 100}%\\n\")\n",
    "    file.write(f\"Validation Contrastive Accuracy: {history.history['val_ContrastiveAccuracy'][-1] * 100}%\\n\")"
   ]
  },
  {
   "cell_type": "code",
   "execution_count": 64,
   "metadata": {},
   "outputs": [],
   "source": [
    "cm.save_weights(\"Weights/ViT-11-27-23\")"
   ]
  },
  {
   "cell_type": "code",
   "execution_count": 65,
   "metadata": {},
   "outputs": [
    {
     "data": {
      "image/png": "[encoded data removed]",
      "text/plain": [
       "<Figure size 640x480 with 2 Axes>"
      ]
     },
     "metadata": {},
     "output_type": "display_data"
    }
   ],
   "source": [
    "# Plot History in one image\n",
    "plt.figure(1)\n",
    "\n",
    "# Loss history\n",
    "plt.subplot(211)\n",
    "plt.plot(history.history['loss'],label='Training')\n",
    "plt.plot(history.history['val_loss'],label='Validation')\n",
    "plt.legend()\n",
    "\n",
    "plt.xlabel('Epoch')\n",
    "plt.ylabel('Loss')\n",
    "plt.title('ViT Loss')\n",
    "\n",
    "# Accuracy history\n",
    "plt.subplot(212)\n",
    "plt.plot(history.history['ContrastiveAccuracy'],label='Training')\n",
    "plt.plot(history.history['val_ContrastiveAccuracy'],label='Validation')\n",
    "plt.legend()\n",
    "\n",
    "plt.xlabel('Epoch')\n",
    "plt.ylabel('Accuracy')\n",
    "plt.title('ViT Accuracy')\n",
    "\n",
    "plt.tight_layout(h_pad = 5.0)\n",
    "plt.savefig('history.png')\n",
    "plt.show()"
   ]
  },
  {
   "cell_type": "code",
   "execution_count": 66,
   "metadata": {
    "tags": []
   },
   "outputs": [
    {
     "data": {
      "image/png": "[encoded data removed]",
      "text/plain": [
       "<Figure size 640x480 with 1 Axes>"
      ]
     },
     "metadata": {},
     "output_type": "display_data"
    }
   ],
   "source": [
    "# Plot Loss in individual image\n",
    "plt.plot(history.history['loss'],label='Training')\n",
    "plt.plot(history.history['val_loss'],label='Validation')\n",
    "plt.legend()\n",
    "\n",
    "plt.xlabel('Epochs')\n",
    "plt.ylabel('Loss')\n",
    "plt.title('ViT Loss')\n",
    "\n",
    "plt.savefig('history_loss.png')\n",
    "plt.show()"
   ]
  },
  {
   "cell_type": "code",
   "execution_count": 67,
   "metadata": {
    "tags": []
   },
   "outputs": [
    {
     "data": {
      "image/png": "[encoded data removed]",
      "text/plain": [
       "<Figure size 640x480 with 1 Axes>"
      ]
     },
     "metadata": {},
     "output_type": "display_data"
    }
   ],
   "source": [
    "# Plot Accuracy in individual image\n",
    "plt.plot(history.history['ContrastiveAccuracy'],label='Training')\n",
    "plt.plot(history.history['val_ContrastiveAccuracy'],label='Validation')\n",
    "plt.legend()\n",
    "\n",
    "plt.xlabel('Epochs')\n",
    "plt.ylabel('Loss')\n",
    "plt.title('ViT Accuracy')\n",
    "\n",
    "plt.savefig('history_acc.png')\n",
    "plt.show()"
   ]
  },
  {
   "cell_type": "markdown",
   "metadata": {},
   "source": [
    "### Obtaining Realistic Accuracies"
   ]
  },
  {
   "cell_type": "code",
   "execution_count": 68,
   "metadata": {
    "tags": []
   },
   "outputs": [],
   "source": [
    "offset = 0\n",
    "n_comp = 100"
   ]
  },
  {
   "cell_type": "code",
   "execution_count": 69,
   "metadata": {
    "tags": []
   },
   "outputs": [
    {
     "data": {
      "text/plain": [
       "<tf.Tensor: shape=(1, 100), dtype=float32, numpy=\n",
       "array([[-7.10134029e+00,  2.14171505e+01,  1.10664425e+01,\n",
       "         1.29132977e+01,  2.16477127e+01,  7.41387177e+00,\n",
       "        -4.33683624e+01, -6.71136236e+00, -1.32375574e+01,\n",
       "         2.38703995e+01, -1.11081800e+01,  2.39574184e+01,\n",
       "        -9.99334049e+00,  2.70153503e+01, -1.88351803e+01,\n",
       "         2.26732426e+01,  7.51695967e+00,  1.64365044e+01,\n",
       "         2.31649055e+01,  2.75638885e+01, -3.43788185e+01,\n",
       "         6.66163206e+00,  2.72210426e+01,  1.37223873e+01,\n",
       "         6.59016562e+00, -1.30388250e+01,  1.06070280e+01,\n",
       "        -2.39885654e+01, -1.67612534e+01,  2.14842930e+01,\n",
       "         8.37137508e+00,  3.48063111e+00,  2.67200794e+01,\n",
       "         3.01449394e+01, -7.24979353e+00,  2.66861610e+01,\n",
       "        -7.25244761e+00, -2.16921782e+00,  1.12510967e+01,\n",
       "         1.35084152e+01, -1.37706385e+01,  1.00337286e+01,\n",
       "         2.26681862e+01,  2.94193821e+01,  2.55414333e+01,\n",
       "         2.50843678e+01,  9.49233437e+00,  2.69577131e-02,\n",
       "        -1.75534096e+01, -1.75423908e+01,  6.21087027e+00,\n",
       "        -1.52005491e+01,  2.12226887e+01,  2.75100403e+01,\n",
       "         1.91395988e+01,  1.33570538e+01, -2.04266644e+01,\n",
       "         2.93913975e+01, -2.68772602e+01,  1.07923346e+01,\n",
       "         9.48410797e+00,  2.54129448e+01,  4.95439148e+00,\n",
       "        -1.56564302e+01,  1.97409382e+01,  1.74785976e+01,\n",
       "         1.54951172e+01,  8.78602314e+00, -8.62082767e+00,\n",
       "        -2.36780376e+01,  2.27553940e+00,  2.35105247e+01,\n",
       "        -8.60146523e+00,  2.49222584e+01, -3.94776249e+00,\n",
       "         3.22848845e+00,  1.99943676e+01,  1.51521463e+01,\n",
       "         2.93060350e+00,  1.33239450e+01, -2.26265001e+00,\n",
       "         1.35111487e+00, -2.79131050e+01,  2.51102619e+01,\n",
       "         2.46397972e+01,  2.21293335e+01, -1.20487566e+01,\n",
       "         1.48471165e+01,  1.76329410e+00,  1.93752670e+01,\n",
       "         1.24731092e+01,  1.45992479e+01,  4.29950714e+00,\n",
       "         1.30583792e+01,  1.47094707e+01, -1.03179102e+01,\n",
       "         2.61803055e+01,  1.61169205e+01,  1.40899830e+01,\n",
       "         2.22600727e+01]], dtype=float32)>"
      ]
     },
     "execution_count": 69,
     "metadata": {},
     "output_type": "execute_result"
    }
   ],
   "source": [
    "# update with notes to compare\n",
    "cm((x_val[0:1],x_train[offset:offset+n_comp]))"
   ]
  },
  {
   "cell_type": "code",
   "execution_count": 70,
   "metadata": {
    "tags": []
   },
   "outputs": [
    {
     "data": {
      "text/plain": [
       "array([7], dtype=uint8)"
      ]
     },
     "execution_count": 70,
     "metadata": {},
     "output_type": "execute_result"
    }
   ],
   "source": [
    "y_val[0:1]"
   ]
  },
  {
   "cell_type": "code",
   "execution_count": 71,
   "metadata": {
    "tags": []
   },
   "outputs": [
    {
     "data": {
      "text/plain": [
       "9"
      ]
     },
     "execution_count": 71,
     "metadata": {},
     "output_type": "execute_result"
    }
   ],
   "source": [
    "y_train[np.argmax(cm((x_val[0:1],x_train[offset:offset+n_comp])))+offset]"
   ]
  },
  {
   "cell_type": "code",
   "execution_count": 72,
   "metadata": {},
   "outputs": [
    {
     "name": "stdout",
     "output_type": "stream",
     "text": [
      "True\tPred\n",
      "7 \t 9\n",
      "\n",
      "2 \t 7\n",
      "\n",
      "1 \t 1\t✔\n",
      "\n",
      "0 \t 0\t✔\n",
      "\n",
      "4 \t 7\n",
      "\n",
      "1 \t 1\t✔\n",
      "\n",
      "4 \t 9\n",
      "\n",
      "9 \t 9\t✔\n",
      "\n",
      "5 \t 2\n",
      "\n",
      "9 \t 2\n",
      "\n",
      "Accuracy: 40.0%\n"
     ]
    }
   ],
   "source": [
    "accuracy = 0.0\n",
    "n = 10\n",
    "with open(\"10_accuracy.txt\", 'w') as file:\n",
    "    print(\"True\\tPred\")\n",
    "    file.write(\"True\\tPred\" + '\\n')\n",
    "    for i in range(n):\n",
    "        true = y_val[i] \n",
    "        pred = y_train[np.argmax(cm((x_val[i:i+1], x_train[offset:offset+n_comp])))+offset]\n",
    "        print(true, '\\t', pred, end = '')\n",
    "        file.write(str(true) + '\\t\\t' + str(pred))\n",
    "        if (y_val[i] == y_train[np.argmax(cm((x_val[i:i+1], x_train[offset:offset+n_comp])))+offset]):\n",
    "            accuracy+= 1.0\n",
    "            print(\"\\t\\u2714\\n\")\n",
    "            file.write(\"\\t\\t\\u2714\\n\")\n",
    "        else:\n",
    "            print('\\n')\n",
    "            file.write('\\n')\n",
    "\n",
    "    accuracy /= n\n",
    "    print(f\"Accuracy: {accuracy*100}%\")\n",
    "    file.write(f\"Accuracy: {accuracy*100}%\\n\")"
   ]
  },
  {
   "cell_type": "code",
   "execution_count": 73,
   "metadata": {
    "tags": []
   },
   "outputs": [
    {
     "name": "stdout",
     "output_type": "stream",
     "text": [
      "10000 computations to make . . .\n",
      "Progress: 9999/10000 (99.99%)\n",
      "Final Accuracy: 29.970000000000002%\n"
     ]
    }
   ],
   "source": [
    "accuracy = 0.0\n",
    "n = y_val.shape[0]\n",
    "print(n, \"computations to make . . .\")\n",
    "for i in range(n):\n",
    "   # print(y_val[i:i+1],end='\\t')\n",
    "    #print(y_train[np.argmax(cm((x_val[i:i+1], x_train[offset:offset+n_comp])))+offset])\n",
    "    if (i % (n / 10) == 0 or i == n - 1):\n",
    "        print(f\"\\rProgress: {i}/{n} ({(i/n)*100:.2f}%)\", end=\"\")  # Update the progress\n",
    "    if (y_val[i] == y_train[np.argmax(cm((x_val[i:i+1], x_train[offset:offset+n_comp])))+offset]):\n",
    "        accuracy+= 1.0\n",
    "\n",
    "accuracy /= n\n",
    "print(f\"\\nFinal Accuracy: {accuracy*100}%\")\n",
    "with open(\"final_accuracy.txt\", 'w') as file:\n",
    "    file.write(f\"Final Accuracy: {accuracy*100}%\\n\")"
   ]
  },
  {
   "cell_type": "code",
   "execution_count": null,
   "metadata": {},
   "outputs": [],
   "source": []
  }
 ],
 "metadata": {
  "kernelspec": {
   "display_name": "Python 3 (ipykernel)",
   "language": "python",
   "name": "python3"
  },
  "language_info": {
   "codemirror_mode": {
    "name": "ipython",
    "version": 3
   },
   "file_extension": ".py",
   "mimetype": "text/x-python",
   "name": "python",
   "nbconvert_exporter": "python",
   "pygments_lexer": "ipython3",
   "version": "3.11.5"
  }
 },
 "nbformat": 4,
 "nbformat_minor": 4
}

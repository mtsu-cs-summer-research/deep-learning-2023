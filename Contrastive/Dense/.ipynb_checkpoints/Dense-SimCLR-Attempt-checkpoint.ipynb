{
 "cells": [
  {
   "cell_type": "markdown",
   "metadata": {},
   "source": [
    "### SimCLR attempt using Dense Layers"
   ]
  },
  {
   "cell_type": "code",
   "execution_count": 1,
   "metadata": {
    "tags": []
   },
   "outputs": [],
   "source": [
    "import os\n",
    "os.environ[\"LD_LIBRARY_PATH\"]='/opt/conda/lib'\n",
    "os.environ[\"XLA_FLAGS\"] = \"--xla_gpu_cuda_data_dir=/opt/conda/pkgs/cuda-toolkit\""
   ]
  },
  {
   "cell_type": "code",
   "execution_count": 2,
   "metadata": {
    "tags": []
   },
   "outputs": [
    {
     "name": "stderr",
     "output_type": "stream",
     "text": [
      "2023-11-18 18:44:51.965318: I tensorflow/core/util/port.cc:110] oneDNN custom operations are on. You may see slightly different numerical results due to floating-point round-off errors from different computation orders. To turn them off, set the environment variable `TF_ENABLE_ONEDNN_OPTS=0`.\n",
      "2023-11-18 18:44:51.998165: I tensorflow/core/platform/cpu_feature_guard.cc:182] This TensorFlow binary is optimized to use available CPU instructions in performance-critical operations.\n",
      "To enable the following instructions: AVX2 AVX512F AVX512_VNNI FMA, in other operations, rebuild TensorFlow with the appropriate compiler flags.\n",
      "2023-11-18 18:44:52.692591: W tensorflow/compiler/tf2tensorrt/utils/py_utils.cc:38] TF-TRT Warning: Could not find TensorRT\n"
     ]
    }
   ],
   "source": [
    "import matplotlib.pyplot as plt\n",
    "import numpy as np\n",
    "import numpy.typing as npt\n",
    "import tensorflow as tf\n",
    "import tensorflow.keras as keras"
   ]
  },
  {
   "cell_type": "code",
   "execution_count": 3,
   "metadata": {
    "tags": []
   },
   "outputs": [
    {
     "data": {
      "text/plain": [
       "[PhysicalDevice(name='/physical_device:CPU:0', device_type='CPU'),\n",
       " PhysicalDevice(name='/physical_device:GPU:0', device_type='GPU')]"
      ]
     },
     "execution_count": 3,
     "metadata": {},
     "output_type": "execute_result"
    }
   ],
   "source": [
    "tf.config.set_visible_devices(tf.config.get_visible_devices()[0:2])\n",
    "#tf.config.set_visible_devices(tf.config.get_visible_devices()[0:3:2])\n",
    "tf.config.get_visible_devices()"
   ]
  },
  {
   "cell_type": "code",
   "execution_count": 4,
   "metadata": {
    "tags": []
   },
   "outputs": [],
   "source": [
    "(x_train, y_train), (x_val, y_val) = tf.keras.datasets.mnist.load_data()\n",
    "x_train = x_train / 255.0 \n",
    "x_val = x_val / 255.0"
   ]
  },
  {
   "cell_type": "code",
   "execution_count": 5,
   "metadata": {
    "tags": []
   },
   "outputs": [
    {
     "data": {
      "text/plain": [
       "(60000, 28, 28)"
      ]
     },
     "execution_count": 5,
     "metadata": {},
     "output_type": "execute_result"
    }
   ],
   "source": [
    "x_train.shape"
   ]
  },
  {
   "cell_type": "code",
   "execution_count": 6,
   "metadata": {
    "tags": []
   },
   "outputs": [
    {
     "data": {
      "image/png": "[encoded data removed]",
      "text/plain": [
       "<Figure size 300x300 with 1 Axes>"
      ]
     },
     "metadata": {},
     "output_type": "display_data"
    },
    {
     "data": {
      "text/plain": [
       "5"
      ]
     },
     "execution_count": 6,
     "metadata": {},
     "output_type": "execute_result"
    }
   ],
   "source": [
    "plt.figure(figsize=(3, 3))\n",
    "plt.imshow(x_train[0], cmap=\"gray\")\n",
    "plt.show()\n",
    "y_train[0]"
   ]
  },
  {
   "cell_type": "code",
   "execution_count": 7,
   "metadata": {},
   "outputs": [
    {
     "data": {
      "image/png": "[encoded data removed]",
      "text/plain": [
       "<Figure size 640x480 with 1 Axes>"
      ]
     },
     "metadata": {},
     "output_type": "display_data"
    },
    {
     "data": {
      "text/plain": [
       "(28, 28)"
      ]
     },
     "execution_count": 7,
     "metadata": {},
     "output_type": "execute_result"
    }
   ],
   "source": [
    "a = x_train[0]\n",
    "a.shape\n",
    "plt.imshow(a)\n",
    "plt.show()\n",
    "a.shape"
   ]
  },
  {
   "cell_type": "markdown",
   "metadata": {},
   "source": [
    "### Data Augmentation: Crop and Resize"
   ]
  },
  {
   "cell_type": "code",
   "execution_count": 8,
   "metadata": {},
   "outputs": [],
   "source": [
    "# def crop_and_resize(image):\n",
    "#     crop_percent = np.random.uniform(0.5, 1)\n",
    "\n",
    "#     if crop_percent == 1:\n",
    "#         return image\n",
    "        \n",
    "#     # Get width and height from the image shape\n",
    "#     width = image.shape[0]\n",
    "#     height = image.shape[1]\n",
    "\n",
    "#     # Create new dimensions for the image\n",
    "#     crop_width = int(width * crop_percent)\n",
    "#     crop_height = int(height * crop_percent)\n",
    "#     print(crop_width, crop_height, '\\n')\n",
    "\n",
    "#     cropped = tf.image.random_crop(image, (crop_width, crop_height, 1))\n",
    "#     cropped = tf.image.resize(cropped, (image.shape[0], image.shape[1]))\n",
    "#     return cropped\n",
    "\n",
    "# b = crop_and_resize(a)\n",
    "# b.shape\n",
    "# plt.imshow(b)\n",
    "# plt.show()\n",
    "# a.shape"
   ]
  },
  {
   "cell_type": "code",
   "execution_count": 9,
   "metadata": {
    "tags": []
   },
   "outputs": [],
   "source": [
    "class DataGenerator(tf.keras.utils.Sequence):\n",
    "    def __init__(self, x, y, batch_size=32, num_batches=100, rng: np.random.Generator = np.random.default_rng(), min_crop = .5, max_crop = 1):\n",
    "        super().__init__()\n",
    "\n",
    "        # Group by labels\n",
    "        groups = [[] for _ in range(len(np.unique(y)))]\n",
    "        for x_i, y_i in zip(x, y):\n",
    "            groups[y_i].append(x_i)\n",
    "        groups = list(map(np.array, groups))\n",
    "\n",
    "        self.groups = groups\n",
    "        self.batch_size = batch_size\n",
    "        self.num_batches = num_batches\n",
    "        self.rng = rng\n",
    "\n",
    "        self.min_crop = min_crop\n",
    "        self.max_crop = max_crop\n",
    "\n",
    "        self.shuffle()\n",
    "\n",
    "    def shuffle(self):\n",
    "        self.labels = self.rng.integers(len(self.groups), size=(self.num_batches, self.batch_size))   # Which labels to draw\n",
    "        self.variants = self.rng.uniform(size=(self.num_batches, 2, self.batch_size)) # Which variant of the label\n",
    "\n",
    "    # Function to randomly crop the image\n",
    "    def crop_and_resize(self, image):\n",
    "        crop_percent = np.random.uniform(self.min_crop, self.max_crop)\n",
    "    \n",
    "        if crop_percent == 1:\n",
    "            return image\n",
    "            \n",
    "        # Get width and height from the image shape\n",
    "        width = image.shape[0]\n",
    "        height = image.shape[1]\n",
    "    \n",
    "        # Create new dimensions for the image\n",
    "        crop_width = int(width * crop_percent)\n",
    "        crop_height = int(height * crop_percent)\n",
    "    \n",
    "        cropped = tf.image.random_crop(tf.expand_dims(image,-1), (crop_width, crop_height, 1))\n",
    "        cropped = tf.squeeze(tf.image.resize(cropped, image.shape))\n",
    "        \n",
    "        return cropped\n",
    "\n",
    "\n",
    "    def __getitem__(self, batch_index):\n",
    "        batch = ([], [])\n",
    "        for label, variant_a, variant_b in zip(self.labels[batch_index], *self.variants[batch_index]):\n",
    "            group = self.groups[label]\n",
    "            variant_a_index = int(len(group)*variant_a)\n",
    "            # Instead of using two different batches, use the same with different augmentations:\n",
    "            image_a = self.crop_and_resize(group[variant_a_index])\n",
    "            image_b = self.crop_and_resize(group[variant_a_index])\n",
    "\n",
    "            batch[0].append(image_a)\n",
    "            batch[1].append(image_b)\n",
    "            \n",
    "        return tuple(np.array(batch)) # batch\n",
    "\n",
    "    def __len__(self):\n",
    "        return self.num_batches\n",
    "\n",
    "    def on_epoch_end(self):\n",
    "        self.shuffle()"
   ]
  },
  {
   "cell_type": "code",
   "execution_count": 10,
   "metadata": {
    "tags": []
   },
   "outputs": [
    {
     "name": "stderr",
     "output_type": "stream",
     "text": [
      "2023-11-18 18:44:54.401959: I tensorflow/core/common_runtime/gpu/gpu_device.cc:1635] Created device /job:localhost/replica:0/task:0/device:GPU:0 with 9804 MB memory:  -> device: 0, name: NVIDIA GeForce RTX 2080 Ti, pci bus id: 0000:68:00.0, compute capability: 7.5\n"
     ]
    },
    {
     "data": {
      "image/png": "[encoded data removed]",
      "text/plain": [
       "<Figure size 640x480 with 2 Axes>"
      ]
     },
     "metadata": {},
     "output_type": "display_data"
    },
    {
     "data": {
      "text/plain": [
       "(28, 28)"
      ]
     },
     "execution_count": 10,
     "metadata": {},
     "output_type": "execute_result"
    }
   ],
   "source": [
    "# Generator Testing/Debugging\n",
    "# [batch, x/y, set, image]\n",
    "data = DataGenerator(x_train, y_train, rng=np.random.default_rng(0), min_crop = 0.4, max_crop = 1)\n",
    "batch_index = 0\n",
    "index = 0\n",
    "plt.subplot(121)\n",
    "plt.imshow(data[batch_index][0][index])\n",
    "plt.subplot(122)\n",
    "plt.imshow(data[batch_index][1][index])\n",
    "plt.show()\n",
    "data[batch_index][0][index].shape"
   ]
  },
  {
   "cell_type": "markdown",
   "metadata": {},
   "source": [
    "### Standard: Simple MLP Encoders"
   ]
  },
  {
   "cell_type": "code",
   "execution_count": 11,
   "metadata": {
    "tags": []
   },
   "outputs": [],
   "source": [
    "y = x = tf.keras.layers.Input((28, 28))\n",
    "y = tf.keras.layers.Flatten()(y)\n",
    "y = tf.keras.layers.Dense(64, activation=\"gelu\")(y)\n",
    "y = tf.keras.layers.Dense(64, activation=\"gelu\")(y)\n",
    "y = tf.keras.layers.Dense(64)(y)\n",
    "masked_encoder = tf.keras.Model(x, y)"
   ]
  },
  {
   "cell_type": "code",
   "execution_count": 12,
   "metadata": {
    "tags": []
   },
   "outputs": [],
   "source": [
    "y = x = tf.keras.layers.Input((28, 28))\n",
    "y = tf.keras.layers.Flatten()(y)\n",
    "y = tf.keras.layers.Dense(64, activation=\"gelu\")(y)\n",
    "y = tf.keras.layers.Dense(64, activation=\"gelu\")(y)\n",
    "y = tf.keras.layers.Dense(64)(y)\n",
    "unmasked_encoder = tf.keras.Model(x, y)"
   ]
  },
  {
   "cell_type": "code",
   "execution_count": 13,
   "metadata": {},
   "outputs": [
    {
     "data": {
      "text/plain": [
       "(60000, 28, 28)"
      ]
     },
     "execution_count": 13,
     "metadata": {},
     "output_type": "execute_result"
    }
   ],
   "source": [
    "x_train.shape"
   ]
  },
  {
   "cell_type": "markdown",
   "metadata": {},
   "source": [
    "### Note: This metric only *correlates* with accuracy\n",
    "\n",
    "This is an approximate accuracy which doesn't really track the model's actual performance, and is just used here as a metric to show progress."
   ]
  },
  {
   "cell_type": "code",
   "execution_count": 14,
   "metadata": {
    "tags": []
   },
   "outputs": [],
   "source": [
    "accuracy = keras.metrics.SparseCategoricalAccuracy()\n",
    "def ContrastiveAccuracy(y_true, y_pred):\n",
    "    # return accuracy(y_true[tf.argmax(y_pred,-1)],\n",
    "    #                 y_pred)\n",
    "    acc_masked = accuracy(y_true, y_pred)\n",
    "    acc_unmasked = accuracy(y_true, tf.transpose(y_pred))\n",
    "    acc = (acc_masked + acc_unmasked) / 2.0\n",
    "    return acc"
   ]
  },
  {
   "cell_type": "code",
   "execution_count": 15,
   "metadata": {
    "tags": []
   },
   "outputs": [],
   "source": [
    "class ContrastiveModel(tf.keras.Model):\n",
    "    def __init__(\n",
    "        self,\n",
    "        masked_encoder: tf.keras.Model,\n",
    "        unmasked_encoder: tf.keras.Model,\n",
    "        embed_dim: int = 512,\n",
    "        **kwargs\n",
    "    ):\n",
    "        super().__init__(**kwargs)\n",
    "        self.masked_encoder = masked_encoder\n",
    "        self.unmasked_encoder = unmasked_encoder\n",
    "\n",
    "#         self.masked_encoder.trainable = False\n",
    "#         self.unmasked_encoder.trainable = False\n",
    "\n",
    "        self.embed_dim = embed_dim\n",
    "        self.W_masked = tf.keras.layers.Dense(\n",
    "            self.embed_dim,\n",
    "            # input_shape=self.masked_encoder.output_shape[-1],\n",
    "            use_bias=False)\n",
    "        self.W_unmasked = tf.keras.layers.Dense(\n",
    "            self.embed_dim,\n",
    "            # input_shape=self.unmasked_encoder.output_shape[-1],\n",
    "            use_bias=False)\n",
    "        self.t = self.add_weight(\n",
    "            name=\"Temperature\",\n",
    "            shape=None,\n",
    "            trainable=True\n",
    "        )\n",
    "\n",
    "    def compile(self, *args, **kwargs):\n",
    "        return super().compile(\n",
    "            *args,\n",
    "            loss=tf.keras.losses.SparseCategoricalCrossentropy(from_logits=True),\n",
    "            **kwargs)\n",
    "\n",
    "    def test_step(self, data):\n",
    "        n = tf.shape(data[0])[0]\n",
    "        y_true = tf.range(n)\n",
    "        y_pred = self(data, training=False)\n",
    "        loss_masked = self.compiled_loss(y_true, y_pred)\n",
    "        loss_unmasked = self.compiled_loss(y_true, tf.transpose(y_pred))\n",
    "        loss = (loss_masked + loss_unmasked) / 2.0\n",
    "        self.compiled_metrics.update_state(y_true, y_pred)\n",
    "        return {m.name: m.result() for m in self.metrics}\n",
    "    \n",
    "    def train_step(self, data):\n",
    "        n = tf.shape(data[0])[0]\n",
    "        y_true = tf.range(n)\n",
    "        with tf.GradientTape() as tape:\n",
    "            y_pred = self(data, training=True)\n",
    "            loss_masked = self.compiled_loss(y_true, y_pred)\n",
    "            loss_unmasked = self.compiled_loss(y_true, tf.transpose(y_pred))\n",
    "            loss = (loss_masked + loss_unmasked) / 2.0\n",
    "        grads = tape.gradient(loss, self.trainable_weights)\n",
    "        self.optimizer.apply_gradients(zip(grads, self.trainable_weights))\n",
    "        self.compiled_metrics.update_state(y_true, y_pred)\n",
    "        return {m.name: m.result() for m in self.metrics}\n",
    "\n",
    "    def call(self, inputs, training=False):\n",
    "        # Get the images from input\n",
    "        masked_images, unmasked_images = inputs[0], inputs[1]\n",
    "\n",
    "        # Embed them using the encoders\n",
    "        masked_features = self.masked_encoder(masked_images)\n",
    "        unmasked_features = self.unmasked_encoder(unmasked_images)\n",
    "\n",
    "        # Joint multimodal embedding\n",
    "        masked_embeddings = self.W_masked(masked_features)\n",
    "        unmasked_embeddings = self.W_unmasked(unmasked_features)\n",
    "\n",
    "        # Normalize\n",
    "        masked_embeddings = masked_embeddings / tf.norm(masked_embeddings)\n",
    "        unmasked_embeddings = unmasked_embeddings / tf.norm(unmasked_embeddings)\n",
    "\n",
    "        logits = tf.tensordot(masked_embeddings, tf.transpose(unmasked_embeddings), axes=1) * tf.exp(self.t)\n",
    "\n",
    "        return logits"
   ]
  },
  {
   "cell_type": "code",
   "execution_count": 16,
   "metadata": {
    "tags": []
   },
   "outputs": [],
   "source": [
    "cm = ContrastiveModel(masked_encoder, unmasked_encoder)\n",
    "cm.compile(\n",
    "    optimizer=tf.keras.optimizers.Adam(),\n",
    "    metrics=[\n",
    "        ContrastiveAccuracy\n",
    "    ],\n",
    "    run_eagerly=False # Set to true to debug\n",
    ")"
   ]
  },
  {
   "cell_type": "code",
   "execution_count": 17,
   "metadata": {},
   "outputs": [
    {
     "data": {
      "text/plain": [
       "(4, 28, 28)"
      ]
     },
     "execution_count": 17,
     "metadata": {},
     "output_type": "execute_result"
    }
   ],
   "source": [
    "data[0][1][:4].shape"
   ]
  },
  {
   "cell_type": "code",
   "execution_count": 18,
   "metadata": {
    "tags": []
   },
   "outputs": [
    {
     "data": {
      "text/plain": [
       "<tf.Tensor: shape=(4, 4), dtype=float32, numpy=\n",
       "array([[-0.01984937,  0.00781862,  0.04917615,  0.06470563],\n",
       "       [-0.00642816, -0.00594506,  0.01662985,  0.00593882],\n",
       "       [ 0.00198452,  0.00187639,  0.11416517,  0.08289903],\n",
       "       [-0.00240871,  0.01239136,  0.12485935,  0.08718221]],\n",
       "      dtype=float32)>"
      ]
     },
     "execution_count": 18,
     "metadata": {},
     "output_type": "execute_result"
    }
   ],
   "source": [
    "cm((data[0][0][:4],data[0][1][:4]))"
   ]
  },
  {
   "cell_type": "code",
   "execution_count": 19,
   "metadata": {
    "tags": []
   },
   "outputs": [],
   "source": [
    "training_data = DataGenerator(x_train, y_train, batch_size=32, rng=np.random.default_rng(0), min_crop = 0.4, max_crop = 1)\n",
    "# No cropping\n",
    "validation_data = DataGenerator(x_val, y_val, batch_size=32, rng=np.random.default_rng(0), min_crop = 1, max_crop = 1)"
   ]
  },
  {
   "cell_type": "code",
   "execution_count": 20,
   "metadata": {
    "tags": []
   },
   "outputs": [
    {
     "data": {
      "text/plain": [
       "32"
      ]
     },
     "execution_count": 20,
     "metadata": {},
     "output_type": "execute_result"
    }
   ],
   "source": [
    "len(training_data[0][0])"
   ]
  },
  {
   "cell_type": "code",
   "execution_count": 21,
   "metadata": {
    "tags": []
   },
   "outputs": [
    {
     "data": {
      "text/plain": [
       "<tf.Tensor: shape=(32, 32), dtype=float32, numpy=\n",
       "array([[ 0.00644086,  0.01487473,  0.0060723 , ...,  0.0007837 ,\n",
       "         0.00660765, -0.00838435],\n",
       "       [-0.00778947,  0.00277198,  0.00013173, ..., -0.00438532,\n",
       "        -0.00161476, -0.00303353],\n",
       "       [-0.00757516,  0.00251073,  0.00336658, ..., -0.00488554,\n",
       "        -0.00039637, -0.00556798],\n",
       "       ...,\n",
       "       [-0.0006189 ,  0.00483899,  0.00382259, ...,  0.00191273,\n",
       "         0.0032432 , -0.00315512],\n",
       "       [-0.00948251,  0.00025367, -0.00109229, ..., -0.00875755,\n",
       "        -0.00178173, -0.00563281],\n",
       "       [-0.00135969,  0.00483598,  0.002166  , ..., -0.00117014,\n",
       "         0.00133266, -0.00246364]], dtype=float32)>"
      ]
     },
     "execution_count": 21,
     "metadata": {},
     "output_type": "execute_result"
    }
   ],
   "source": [
    "cm(validation_data[0])"
   ]
  },
  {
   "cell_type": "code",
   "execution_count": 22,
   "metadata": {
    "tags": []
   },
   "outputs": [
    {
     "data": {
      "text/plain": [
       "<tf.Tensor: shape=(), dtype=float32, numpy=0.0078125>"
      ]
     },
     "execution_count": 22,
     "metadata": {},
     "output_type": "execute_result"
    }
   ],
   "source": [
    "ContrastiveAccuracy(np.arange(validation_data[0][0].shape[0]),cm(validation_data[0]))"
   ]
  },
  {
   "cell_type": "code",
   "execution_count": 23,
   "metadata": {
    "scrolled": true,
    "tags": []
   },
   "outputs": [
    {
     "name": "stdout",
     "output_type": "stream",
     "text": [
      "Epoch 1/300\n"
     ]
    },
    {
     "name": "stderr",
     "output_type": "stream",
     "text": [
      "2023-11-18 18:44:55.792093: I tensorflow/core/common_runtime/executor.cc:1197] [/device:CPU:0] (DEBUG INFO) Executor start aborting (this does not indicate an error and you can ignore this message): INVALID_ARGUMENT: You must feed a value for placeholder tensor 'Placeholder/_0' with dtype int32\n",
      "\t [[{{node Placeholder/_0}}]]\n",
      "2023-11-18 18:44:57.459525: I tensorflow/compiler/xla/service/service.cc:169] XLA service 0x555a81171a80 initialized for platform CUDA (this does not guarantee that XLA will be used). Devices:\n",
      "2023-11-18 18:44:57.459590: I tensorflow/compiler/xla/service/service.cc:177]   StreamExecutor device (0): NVIDIA GeForce RTX 2080 Ti, Compute Capability 7.5\n",
      "2023-11-18 18:44:57.463824: I tensorflow/compiler/mlir/tensorflow/utils/dump_mlir_util.cc:269] disabling MLIR crash reproducer, set env var `MLIR_CRASH_REPRODUCER_DIRECTORY` to enable.\n",
      "2023-11-18 18:44:57.482154: I tensorflow/compiler/xla/stream_executor/cuda/cuda_dnn.cc:424] Loaded cuDNN version 8800\n",
      "2023-11-18 18:44:57.603586: I ./tensorflow/compiler/jit/device_compiler.h:180] Compiled cluster using XLA!  This line is logged at most once for the lifetime of the process.\n"
     ]
    },
    {
     "name": "stdout",
     "output_type": "stream",
     "text": [
      "100/100 [==============================] - ETA: 0s - loss: 3.4302 - ContrastiveAccuracy: 0.0375"
     ]
    },
    {
     "name": "stderr",
     "output_type": "stream",
     "text": [
      "2023-11-18 18:45:07.195448: I tensorflow/core/common_runtime/executor.cc:1197] [/device:CPU:0] (DEBUG INFO) Executor start aborting (this does not indicate an error and you can ignore this message): INVALID_ARGUMENT: You must feed a value for placeholder tensor 'Placeholder/_0' with dtype int32\n",
      "\t [[{{node Placeholder/_0}}]]\n"
     ]
    },
    {
     "name": "stdout",
     "output_type": "stream",
     "text": [
      "100/100 [==============================] - 12s 92ms/step - loss: 3.4302 - ContrastiveAccuracy: 0.0375 - val_loss: 3.3562 - val_ContrastiveAccuracy: 0.0514\n",
      "Epoch 2/300\n",
      "100/100 [==============================] - 9s 90ms/step - loss: 3.3818 - ContrastiveAccuracy: 0.0550 - val_loss: 3.3321 - val_ContrastiveAccuracy: 0.0565\n",
      "Epoch 3/300\n",
      "100/100 [==============================] - 9s 90ms/step - loss: 3.3631 - ContrastiveAccuracy: 0.0575 - val_loss: 3.3072 - val_ContrastiveAccuracy: 0.0582\n",
      "Epoch 4/300\n",
      "100/100 [==============================] - 9s 91ms/step - loss: 3.3474 - ContrastiveAccuracy: 0.0587 - val_loss: 3.3021 - val_ContrastiveAccuracy: 0.0590\n",
      "Epoch 5/300\n",
      "100/100 [==============================] - 9s 90ms/step - loss: 3.3241 - ContrastiveAccuracy: 0.0593 - val_loss: 3.2622 - val_ContrastiveAccuracy: 0.0596\n",
      "Epoch 6/300\n",
      "100/100 [==============================] - 9s 90ms/step - loss: 3.3049 - ContrastiveAccuracy: 0.0598 - val_loss: 3.2425 - val_ContrastiveAccuracy: 0.0600\n",
      "Epoch 7/300\n",
      "100/100 [==============================] - 9s 90ms/step - loss: 3.2879 - ContrastiveAccuracy: 0.0602 - val_loss: 3.2150 - val_ContrastiveAccuracy: 0.0603\n",
      "Epoch 8/300\n",
      "100/100 [==============================] - 9s 89ms/step - loss: 3.2723 - ContrastiveAccuracy: 0.0604 - val_loss: 3.1881 - val_ContrastiveAccuracy: 0.0605\n",
      "Epoch 9/300\n",
      "100/100 [==============================] - 9s 90ms/step - loss: 3.2467 - ContrastiveAccuracy: 0.0606 - val_loss: 3.1581 - val_ContrastiveAccuracy: 0.0607\n",
      "Epoch 10/300\n",
      "100/100 [==============================] - 9s 89ms/step - loss: 3.2383 - ContrastiveAccuracy: 0.0607 - val_loss: 3.1333 - val_ContrastiveAccuracy: 0.0607\n",
      "Epoch 11/300\n",
      "100/100 [==============================] - 9s 89ms/step - loss: 3.2064 - ContrastiveAccuracy: 0.0608 - val_loss: 3.1172 - val_ContrastiveAccuracy: 0.0609\n",
      "Epoch 12/300\n",
      "100/100 [==============================] - 9s 89ms/step - loss: 3.1951 - ContrastiveAccuracy: 0.0609 - val_loss: 3.0821 - val_ContrastiveAccuracy: 0.0609\n",
      "Epoch 13/300\n",
      "100/100 [==============================] - 9s 88ms/step - loss: 3.1730 - ContrastiveAccuracy: 0.0610 - val_loss: 3.0558 - val_ContrastiveAccuracy: 0.0610\n",
      "Epoch 14/300\n",
      "100/100 [==============================] - 9s 88ms/step - loss: 3.1651 - ContrastiveAccuracy: 0.0611 - val_loss: 3.0337 - val_ContrastiveAccuracy: 0.0611\n",
      "Epoch 15/300\n",
      "100/100 [==============================] - 9s 88ms/step - loss: 3.1510 - ContrastiveAccuracy: 0.0611 - val_loss: 3.0186 - val_ContrastiveAccuracy: 0.0612\n",
      "Epoch 16/300\n",
      "100/100 [==============================] - 9s 88ms/step - loss: 3.1578 - ContrastiveAccuracy: 0.0612 - val_loss: 2.9957 - val_ContrastiveAccuracy: 0.0612\n",
      "Epoch 17/300\n",
      "100/100 [==============================] - 9s 88ms/step - loss: 3.1312 - ContrastiveAccuracy: 0.0612 - val_loss: 2.9813 - val_ContrastiveAccuracy: 0.0613\n",
      "Epoch 18/300\n",
      "100/100 [==============================] - 9s 88ms/step - loss: 3.1303 - ContrastiveAccuracy: 0.0613 - val_loss: 2.9999 - val_ContrastiveAccuracy: 0.0613\n",
      "Epoch 19/300\n",
      "100/100 [==============================] - 9s 88ms/step - loss: 3.1317 - ContrastiveAccuracy: 0.0614 - val_loss: 2.9608 - val_ContrastiveAccuracy: 0.0619\n",
      "Epoch 20/300\n",
      "100/100 [==============================] - 9s 88ms/step - loss: 3.0638 - ContrastiveAccuracy: 0.0628 - val_loss: 2.8854 - val_ContrastiveAccuracy: 0.0639\n",
      "Epoch 21/300\n",
      "100/100 [==============================] - 9s 88ms/step - loss: 2.9887 - ContrastiveAccuracy: 0.0651 - val_loss: 2.7394 - val_ContrastiveAccuracy: 0.0667\n",
      "Epoch 22/300\n",
      "100/100 [==============================] - 9s 88ms/step - loss: 2.9568 - ContrastiveAccuracy: 0.0682 - val_loss: 2.6672 - val_ContrastiveAccuracy: 0.0698\n",
      "Epoch 23/300\n",
      "100/100 [==============================] - 9s 88ms/step - loss: 2.9157 - ContrastiveAccuracy: 0.0715 - val_loss: 2.6412 - val_ContrastiveAccuracy: 0.0731\n",
      "Epoch 24/300\n",
      "100/100 [==============================] - 9s 88ms/step - loss: 2.9095 - ContrastiveAccuracy: 0.0745 - val_loss: 2.5733 - val_ContrastiveAccuracy: 0.0761\n",
      "Epoch 25/300\n",
      "100/100 [==============================] - 9s 88ms/step - loss: 2.8945 - ContrastiveAccuracy: 0.0776 - val_loss: 2.5495 - val_ContrastiveAccuracy: 0.0790\n",
      "Epoch 26/300\n",
      "100/100 [==============================] - 9s 88ms/step - loss: 2.9044 - ContrastiveAccuracy: 0.0804 - val_loss: 2.5471 - val_ContrastiveAccuracy: 0.0818\n",
      "Epoch 27/300\n",
      "100/100 [==============================] - 9s 88ms/step - loss: 2.8626 - ContrastiveAccuracy: 0.0833 - val_loss: 2.5519 - val_ContrastiveAccuracy: 0.0847\n",
      "Epoch 28/300\n",
      "100/100 [==============================] - 9s 88ms/step - loss: 2.8694 - ContrastiveAccuracy: 0.0860 - val_loss: 2.4899 - val_ContrastiveAccuracy: 0.0873\n",
      "Epoch 29/300\n",
      "100/100 [==============================] - 9s 88ms/step - loss: 2.8595 - ContrastiveAccuracy: 0.0887 - val_loss: 2.4628 - val_ContrastiveAccuracy: 0.0900\n",
      "Epoch 30/300\n",
      "100/100 [==============================] - 9s 88ms/step - loss: 2.8269 - ContrastiveAccuracy: 0.0913 - val_loss: 2.3731 - val_ContrastiveAccuracy: 0.0927\n",
      "Epoch 31/300\n",
      "100/100 [==============================] - 9s 88ms/step - loss: 2.7945 - ContrastiveAccuracy: 0.0942 - val_loss: 2.3274 - val_ContrastiveAccuracy: 0.0958\n",
      "Epoch 32/300\n",
      "100/100 [==============================] - 9s 88ms/step - loss: 2.7817 - ContrastiveAccuracy: 0.0974 - val_loss: 2.2868 - val_ContrastiveAccuracy: 0.0991\n",
      "Epoch 33/300\n",
      "100/100 [==============================] - 9s 88ms/step - loss: 2.7530 - ContrastiveAccuracy: 0.1008 - val_loss: 2.2901 - val_ContrastiveAccuracy: 0.1025\n",
      "Epoch 34/300\n",
      "100/100 [==============================] - 9s 88ms/step - loss: 2.7519 - ContrastiveAccuracy: 0.1041 - val_loss: 2.2109 - val_ContrastiveAccuracy: 0.1058\n",
      "Epoch 35/300\n",
      "100/100 [==============================] - 9s 88ms/step - loss: 2.7459 - ContrastiveAccuracy: 0.1075 - val_loss: 2.1716 - val_ContrastiveAccuracy: 0.1093\n",
      "Epoch 36/300\n",
      "100/100 [==============================] - 9s 88ms/step - loss: 2.7014 - ContrastiveAccuracy: 0.1111 - val_loss: 2.2003 - val_ContrastiveAccuracy: 0.1128\n",
      "Epoch 37/300\n",
      "100/100 [==============================] - 9s 88ms/step - loss: 2.7158 - ContrastiveAccuracy: 0.1144 - val_loss: 2.1462 - val_ContrastiveAccuracy: 0.1161\n",
      "Epoch 38/300\n",
      "100/100 [==============================] - 9s 88ms/step - loss: 2.7094 - ContrastiveAccuracy: 0.1179 - val_loss: 2.1566 - val_ContrastiveAccuracy: 0.1195\n",
      "Epoch 39/300\n",
      "100/100 [==============================] - 9s 88ms/step - loss: 2.6981 - ContrastiveAccuracy: 0.1212 - val_loss: 2.1211 - val_ContrastiveAccuracy: 0.1228\n",
      "Epoch 40/300\n",
      "100/100 [==============================] - 9s 88ms/step - loss: 2.7053 - ContrastiveAccuracy: 0.1244 - val_loss: 2.1385 - val_ContrastiveAccuracy: 0.1262\n",
      "Epoch 41/300\n",
      "100/100 [==============================] - 9s 88ms/step - loss: 2.6566 - ContrastiveAccuracy: 0.1281 - val_loss: 2.1006 - val_ContrastiveAccuracy: 0.1298\n",
      "Epoch 42/300\n",
      "100/100 [==============================] - 9s 88ms/step - loss: 2.6778 - ContrastiveAccuracy: 0.1315 - val_loss: 2.0255 - val_ContrastiveAccuracy: 0.1335\n",
      "Epoch 43/300\n",
      "100/100 [==============================] - 9s 88ms/step - loss: 2.6354 - ContrastiveAccuracy: 0.1354 - val_loss: 2.0922 - val_ContrastiveAccuracy: 0.1372\n",
      "Epoch 44/300\n",
      "100/100 [==============================] - 9s 88ms/step - loss: 2.6395 - ContrastiveAccuracy: 0.1391 - val_loss: 2.0909 - val_ContrastiveAccuracy: 0.1406\n",
      "Epoch 45/300\n",
      "100/100 [==============================] - 9s 88ms/step - loss: 2.6390 - ContrastiveAccuracy: 0.1422 - val_loss: 2.0610 - val_ContrastiveAccuracy: 0.1440\n",
      "Epoch 46/300\n",
      "100/100 [==============================] - 9s 88ms/step - loss: 2.5849 - ContrastiveAccuracy: 0.1457 - val_loss: 2.0272 - val_ContrastiveAccuracy: 0.1477\n",
      "Epoch 47/300\n",
      "100/100 [==============================] - 9s 88ms/step - loss: 2.6010 - ContrastiveAccuracy: 0.1496 - val_loss: 2.0474 - val_ContrastiveAccuracy: 0.1514\n",
      "Epoch 48/300\n",
      "100/100 [==============================] - 9s 88ms/step - loss: 2.5865 - ContrastiveAccuracy: 0.1532 - val_loss: 2.0190 - val_ContrastiveAccuracy: 0.1551\n",
      "Epoch 49/300\n",
      "100/100 [==============================] - 9s 88ms/step - loss: 2.5812 - ContrastiveAccuracy: 0.1568 - val_loss: 1.9943 - val_ContrastiveAccuracy: 0.1586\n",
      "Epoch 50/300\n",
      "100/100 [==============================] - 9s 88ms/step - loss: 2.5665 - ContrastiveAccuracy: 0.1604 - val_loss: 1.9594 - val_ContrastiveAccuracy: 0.1622\n",
      "Epoch 51/300\n",
      "100/100 [==============================] - 9s 88ms/step - loss: 2.5923 - ContrastiveAccuracy: 0.1639 - val_loss: 1.9514 - val_ContrastiveAccuracy: 0.1656\n",
      "Epoch 52/300\n",
      "100/100 [==============================] - 9s 88ms/step - loss: 2.5693 - ContrastiveAccuracy: 0.1672 - val_loss: 1.9745 - val_ContrastiveAccuracy: 0.1687\n",
      "Epoch 53/300\n",
      "100/100 [==============================] - 9s 88ms/step - loss: 2.5595 - ContrastiveAccuracy: 0.1701 - val_loss: 1.9716 - val_ContrastiveAccuracy: 0.1716\n",
      "Epoch 54/300\n",
      "100/100 [==============================] - 9s 88ms/step - loss: 2.5386 - ContrastiveAccuracy: 0.1730 - val_loss: 1.9878 - val_ContrastiveAccuracy: 0.1743\n",
      "Epoch 55/300\n",
      "100/100 [==============================] - 9s 88ms/step - loss: 2.5430 - ContrastiveAccuracy: 0.1757 - val_loss: 1.9802 - val_ContrastiveAccuracy: 0.1771\n",
      "Epoch 56/300\n",
      "100/100 [==============================] - 9s 91ms/step - loss: 2.5337 - ContrastiveAccuracy: 0.1786 - val_loss: 1.9409 - val_ContrastiveAccuracy: 0.1801\n",
      "Epoch 57/300\n",
      "100/100 [==============================] - 9s 88ms/step - loss: 2.5278 - ContrastiveAccuracy: 0.1818 - val_loss: 1.9284 - val_ContrastiveAccuracy: 0.1833\n",
      "Epoch 58/300\n",
      "100/100 [==============================] - 9s 88ms/step - loss: 2.5148 - ContrastiveAccuracy: 0.1848 - val_loss: 1.9049 - val_ContrastiveAccuracy: 0.1863\n",
      "Epoch 59/300\n",
      "100/100 [==============================] - 9s 89ms/step - loss: 2.4900 - ContrastiveAccuracy: 0.1877 - val_loss: 1.8694 - val_ContrastiveAccuracy: 0.1892\n",
      "Epoch 60/300\n",
      "100/100 [==============================] - 9s 88ms/step - loss: 2.5364 - ContrastiveAccuracy: 0.1906 - val_loss: 1.8987 - val_ContrastiveAccuracy: 0.1920\n",
      "Epoch 61/300\n",
      "100/100 [==============================] - 9s 88ms/step - loss: 2.4969 - ContrastiveAccuracy: 0.1934 - val_loss: 1.8953 - val_ContrastiveAccuracy: 0.1947\n",
      "Epoch 62/300\n",
      "100/100 [==============================] - 9s 88ms/step - loss: 2.5579 - ContrastiveAccuracy: 0.1960 - val_loss: 1.8581 - val_ContrastiveAccuracy: 0.1974\n",
      "Epoch 63/300\n",
      "100/100 [==============================] - 9s 88ms/step - loss: 2.5104 - ContrastiveAccuracy: 0.1987 - val_loss: 1.8503 - val_ContrastiveAccuracy: 0.2000\n",
      "Epoch 64/300\n",
      "100/100 [==============================] - 9s 88ms/step - loss: 2.4621 - ContrastiveAccuracy: 0.2013 - val_loss: 1.8288 - val_ContrastiveAccuracy: 0.2028\n",
      "Epoch 65/300\n",
      "100/100 [==============================] - 9s 88ms/step - loss: 2.4553 - ContrastiveAccuracy: 0.2042 - val_loss: 1.7553 - val_ContrastiveAccuracy: 0.2057\n",
      "Epoch 66/300\n",
      "100/100 [==============================] - 9s 88ms/step - loss: 2.4332 - ContrastiveAccuracy: 0.2072 - val_loss: 1.6818 - val_ContrastiveAccuracy: 0.2089\n",
      "Epoch 67/300\n",
      "100/100 [==============================] - 9s 89ms/step - loss: 2.4025 - ContrastiveAccuracy: 0.2106 - val_loss: 1.6205 - val_ContrastiveAccuracy: 0.2125\n",
      "Epoch 68/300\n",
      "100/100 [==============================] - 9s 88ms/step - loss: 2.4195 - ContrastiveAccuracy: 0.2143 - val_loss: 1.6898 - val_ContrastiveAccuracy: 0.2159\n",
      "Epoch 69/300\n",
      "100/100 [==============================] - 9s 88ms/step - loss: 2.3805 - ContrastiveAccuracy: 0.2177 - val_loss: 1.6275 - val_ContrastiveAccuracy: 0.2195\n",
      "Epoch 70/300\n",
      "100/100 [==============================] - 9s 88ms/step - loss: 2.3403 - ContrastiveAccuracy: 0.2212 - val_loss: 1.5591 - val_ContrastiveAccuracy: 0.2230\n",
      "Epoch 71/300\n",
      "100/100 [==============================] - 9s 88ms/step - loss: 2.3728 - ContrastiveAccuracy: 0.2248 - val_loss: 1.5587 - val_ContrastiveAccuracy: 0.2265\n",
      "Epoch 72/300\n",
      "100/100 [==============================] - 9s 88ms/step - loss: 2.3253 - ContrastiveAccuracy: 0.2284 - val_loss: 1.5270 - val_ContrastiveAccuracy: 0.2301\n",
      "Epoch 73/300\n",
      "100/100 [==============================] - 9s 88ms/step - loss: 2.3484 - ContrastiveAccuracy: 0.2319 - val_loss: 1.5177 - val_ContrastiveAccuracy: 0.2337\n",
      "Epoch 74/300\n",
      "100/100 [==============================] - 9s 88ms/step - loss: 2.2730 - ContrastiveAccuracy: 0.2356 - val_loss: 1.4712 - val_ContrastiveAccuracy: 0.2374\n",
      "Epoch 75/300\n",
      "100/100 [==============================] - 9s 88ms/step - loss: 2.3312 - ContrastiveAccuracy: 0.2392 - val_loss: 1.4735 - val_ContrastiveAccuracy: 0.2409\n",
      "Epoch 76/300\n",
      "100/100 [==============================] - 9s 88ms/step - loss: 2.3225 - ContrastiveAccuracy: 0.2427 - val_loss: 1.4660 - val_ContrastiveAccuracy: 0.2444\n",
      "Epoch 77/300\n",
      "100/100 [==============================] - 9s 88ms/step - loss: 2.2782 - ContrastiveAccuracy: 0.2461 - val_loss: 1.4681 - val_ContrastiveAccuracy: 0.2478\n",
      "Epoch 78/300\n",
      "100/100 [==============================] - 9s 88ms/step - loss: 2.2515 - ContrastiveAccuracy: 0.2495 - val_loss: 1.4284 - val_ContrastiveAccuracy: 0.2511\n",
      "Epoch 79/300\n",
      "100/100 [==============================] - 9s 88ms/step - loss: 2.3182 - ContrastiveAccuracy: 0.2527 - val_loss: 1.4776 - val_ContrastiveAccuracy: 0.2543\n",
      "Epoch 80/300\n",
      "100/100 [==============================] - 9s 88ms/step - loss: 2.2882 - ContrastiveAccuracy: 0.2558 - val_loss: 1.4774 - val_ContrastiveAccuracy: 0.2575\n",
      "Epoch 81/300\n",
      "100/100 [==============================] - 9s 88ms/step - loss: 2.2289 - ContrastiveAccuracy: 0.2592 - val_loss: 1.4033 - val_ContrastiveAccuracy: 0.2608\n",
      "Epoch 82/300\n",
      "100/100 [==============================] - 9s 88ms/step - loss: 2.3358 - ContrastiveAccuracy: 0.2623 - val_loss: 1.4978 - val_ContrastiveAccuracy: 0.2638\n",
      "Epoch 83/300\n",
      "100/100 [==============================] - 9s 88ms/step - loss: 2.2958 - ContrastiveAccuracy: 0.2654 - val_loss: 1.4556 - val_ContrastiveAccuracy: 0.2669\n",
      "Epoch 84/300\n",
      "100/100 [==============================] - 9s 88ms/step - loss: 2.2624 - ContrastiveAccuracy: 0.2684 - val_loss: 1.4684 - val_ContrastiveAccuracy: 0.2699\n",
      "Epoch 85/300\n",
      "100/100 [==============================] - 9s 88ms/step - loss: 2.2334 - ContrastiveAccuracy: 0.2713 - val_loss: 1.4363 - val_ContrastiveAccuracy: 0.2727\n",
      "Epoch 86/300\n",
      "100/100 [==============================] - 9s 88ms/step - loss: 2.2519 - ContrastiveAccuracy: 0.2741 - val_loss: 1.3851 - val_ContrastiveAccuracy: 0.2756\n",
      "Epoch 87/300\n",
      "100/100 [==============================] - 9s 88ms/step - loss: 2.2494 - ContrastiveAccuracy: 0.2771 - val_loss: 1.3842 - val_ContrastiveAccuracy: 0.2785\n",
      "Epoch 88/300\n",
      "100/100 [==============================] - 9s 88ms/step - loss: 2.1871 - ContrastiveAccuracy: 0.2799 - val_loss: 1.3099 - val_ContrastiveAccuracy: 0.2814\n",
      "Epoch 89/300\n",
      "100/100 [==============================] - 9s 88ms/step - loss: 2.2818 - ContrastiveAccuracy: 0.2829 - val_loss: 1.3870 - val_ContrastiveAccuracy: 0.2843\n",
      "Epoch 90/300\n",
      "100/100 [==============================] - 9s 88ms/step - loss: 2.2083 - ContrastiveAccuracy: 0.2858 - val_loss: 1.3526 - val_ContrastiveAccuracy: 0.2873\n",
      "Epoch 91/300\n",
      "100/100 [==============================] - 9s 88ms/step - loss: 2.2578 - ContrastiveAccuracy: 0.2887 - val_loss: 1.3530 - val_ContrastiveAccuracy: 0.2901\n",
      "Epoch 92/300\n",
      "100/100 [==============================] - 9s 88ms/step - loss: 2.2365 - ContrastiveAccuracy: 0.2915 - val_loss: 1.3774 - val_ContrastiveAccuracy: 0.2928\n",
      "Epoch 93/300\n",
      "100/100 [==============================] - 9s 88ms/step - loss: 2.2148 - ContrastiveAccuracy: 0.2940 - val_loss: 1.3352 - val_ContrastiveAccuracy: 0.2954\n",
      "Epoch 94/300\n",
      "100/100 [==============================] - 9s 88ms/step - loss: 2.2328 - ContrastiveAccuracy: 0.2967 - val_loss: 1.3693 - val_ContrastiveAccuracy: 0.2979\n",
      "Epoch 95/300\n",
      "100/100 [==============================] - 9s 88ms/step - loss: 2.2277 - ContrastiveAccuracy: 0.2992 - val_loss: 1.3325 - val_ContrastiveAccuracy: 0.3005\n",
      "Epoch 96/300\n",
      "100/100 [==============================] - 9s 88ms/step - loss: 2.2113 - ContrastiveAccuracy: 0.3018 - val_loss: 1.3301 - val_ContrastiveAccuracy: 0.3030\n",
      "Epoch 97/300\n",
      "100/100 [==============================] - 9s 88ms/step - loss: 2.2353 - ContrastiveAccuracy: 0.3043 - val_loss: 1.3940 - val_ContrastiveAccuracy: 0.3053\n",
      "Epoch 98/300\n",
      "100/100 [==============================] - 9s 88ms/step - loss: 2.1676 - ContrastiveAccuracy: 0.3064 - val_loss: 1.2943 - val_ContrastiveAccuracy: 0.3077\n",
      "Epoch 99/300\n",
      "100/100 [==============================] - 9s 88ms/step - loss: 2.1889 - ContrastiveAccuracy: 0.3089 - val_loss: 1.3311 - val_ContrastiveAccuracy: 0.3101\n",
      "Epoch 100/300\n",
      "100/100 [==============================] - 9s 88ms/step - loss: 2.2286 - ContrastiveAccuracy: 0.3113 - val_loss: 1.3189 - val_ContrastiveAccuracy: 0.3125\n",
      "Epoch 101/300\n",
      "100/100 [==============================] - 9s 88ms/step - loss: 2.1789 - ContrastiveAccuracy: 0.3138 - val_loss: 1.2881 - val_ContrastiveAccuracy: 0.3150\n",
      "Epoch 102/300\n",
      "100/100 [==============================] - 9s 88ms/step - loss: 2.1664 - ContrastiveAccuracy: 0.3162 - val_loss: 1.2930 - val_ContrastiveAccuracy: 0.3174\n",
      "Epoch 103/300\n",
      "100/100 [==============================] - 9s 88ms/step - loss: 2.2185 - ContrastiveAccuracy: 0.3185 - val_loss: 1.2898 - val_ContrastiveAccuracy: 0.3196\n",
      "Epoch 104/300\n",
      "100/100 [==============================] - 9s 88ms/step - loss: 2.2065 - ContrastiveAccuracy: 0.3208 - val_loss: 1.3102 - val_ContrastiveAccuracy: 0.3219\n",
      "Epoch 105/300\n",
      "100/100 [==============================] - 9s 88ms/step - loss: 2.1105 - ContrastiveAccuracy: 0.3230 - val_loss: 1.2680 - val_ContrastiveAccuracy: 0.3241\n",
      "Epoch 106/300\n",
      "100/100 [==============================] - 9s 88ms/step - loss: 2.1628 - ContrastiveAccuracy: 0.3252 - val_loss: 1.2720 - val_ContrastiveAccuracy: 0.3263\n",
      "Epoch 107/300\n",
      "100/100 [==============================] - 9s 88ms/step - loss: 2.2016 - ContrastiveAccuracy: 0.3274 - val_loss: 1.2432 - val_ContrastiveAccuracy: 0.3285\n",
      "Epoch 108/300\n",
      "100/100 [==============================] - 9s 88ms/step - loss: 2.1625 - ContrastiveAccuracy: 0.3296 - val_loss: 1.2464 - val_ContrastiveAccuracy: 0.3307\n",
      "Epoch 109/300\n",
      "100/100 [==============================] - 9s 88ms/step - loss: 2.1713 - ContrastiveAccuracy: 0.3318 - val_loss: 1.2114 - val_ContrastiveAccuracy: 0.3329\n",
      "Epoch 110/300\n",
      "100/100 [==============================] - 9s 88ms/step - loss: 2.1796 - ContrastiveAccuracy: 0.3340 - val_loss: 1.1845 - val_ContrastiveAccuracy: 0.3350\n",
      "Epoch 111/300\n",
      "100/100 [==============================] - 9s 88ms/step - loss: 2.1553 - ContrastiveAccuracy: 0.3361 - val_loss: 1.2565 - val_ContrastiveAccuracy: 0.3371\n",
      "Epoch 112/300\n",
      "100/100 [==============================] - 9s 88ms/step - loss: 2.1674 - ContrastiveAccuracy: 0.3382 - val_loss: 1.2002 - val_ContrastiveAccuracy: 0.3393\n",
      "Epoch 113/300\n",
      "100/100 [==============================] - 9s 88ms/step - loss: 2.1265 - ContrastiveAccuracy: 0.3404 - val_loss: 1.1398 - val_ContrastiveAccuracy: 0.3415\n",
      "Epoch 114/300\n",
      "100/100 [==============================] - 9s 88ms/step - loss: 2.1642 - ContrastiveAccuracy: 0.3426 - val_loss: 1.1730 - val_ContrastiveAccuracy: 0.3437\n",
      "Epoch 115/300\n",
      "100/100 [==============================] - 9s 88ms/step - loss: 2.1168 - ContrastiveAccuracy: 0.3447 - val_loss: 1.1325 - val_ContrastiveAccuracy: 0.3458\n",
      "Epoch 116/300\n",
      "100/100 [==============================] - 9s 88ms/step - loss: 2.1478 - ContrastiveAccuracy: 0.3468 - val_loss: 1.1625 - val_ContrastiveAccuracy: 0.3478\n",
      "Epoch 117/300\n",
      "100/100 [==============================] - 9s 88ms/step - loss: 2.1412 - ContrastiveAccuracy: 0.3487 - val_loss: 1.0994 - val_ContrastiveAccuracy: 0.3499\n",
      "Epoch 118/300\n",
      "100/100 [==============================] - 9s 88ms/step - loss: 2.0913 - ContrastiveAccuracy: 0.3510 - val_loss: 1.1360 - val_ContrastiveAccuracy: 0.3520\n",
      "Epoch 119/300\n",
      "100/100 [==============================] - 9s 88ms/step - loss: 2.1217 - ContrastiveAccuracy: 0.3531 - val_loss: 1.1777 - val_ContrastiveAccuracy: 0.3540\n",
      "Epoch 120/300\n",
      "100/100 [==============================] - 9s 88ms/step - loss: 2.1049 - ContrastiveAccuracy: 0.3550 - val_loss: 1.0888 - val_ContrastiveAccuracy: 0.3560\n",
      "Epoch 121/300\n",
      "100/100 [==============================] - 9s 88ms/step - loss: 2.0482 - ContrastiveAccuracy: 0.3571 - val_loss: 1.0796 - val_ContrastiveAccuracy: 0.3581\n",
      "Epoch 122/300\n",
      "100/100 [==============================] - 9s 88ms/step - loss: 2.0608 - ContrastiveAccuracy: 0.3592 - val_loss: 1.1653 - val_ContrastiveAccuracy: 0.3601\n",
      "Epoch 123/300\n",
      "100/100 [==============================] - 9s 88ms/step - loss: 2.0707 - ContrastiveAccuracy: 0.3610 - val_loss: 1.0569 - val_ContrastiveAccuracy: 0.3620\n",
      "Epoch 124/300\n",
      "100/100 [==============================] - 9s 88ms/step - loss: 2.0694 - ContrastiveAccuracy: 0.3630 - val_loss: 1.0997 - val_ContrastiveAccuracy: 0.3640\n",
      "Epoch 125/300\n",
      "100/100 [==============================] - 9s 88ms/step - loss: 2.0658 - ContrastiveAccuracy: 0.3649 - val_loss: 1.0854 - val_ContrastiveAccuracy: 0.3659\n",
      "Epoch 126/300\n",
      "100/100 [==============================] - 9s 88ms/step - loss: 2.1023 - ContrastiveAccuracy: 0.3669 - val_loss: 1.0811 - val_ContrastiveAccuracy: 0.3679\n",
      "Epoch 127/300\n",
      "100/100 [==============================] - 9s 88ms/step - loss: 2.1038 - ContrastiveAccuracy: 0.3688 - val_loss: 1.0272 - val_ContrastiveAccuracy: 0.3698\n",
      "Epoch 128/300\n",
      "100/100 [==============================] - 9s 88ms/step - loss: 2.0247 - ContrastiveAccuracy: 0.3708 - val_loss: 1.0097 - val_ContrastiveAccuracy: 0.3718\n",
      "Epoch 129/300\n",
      "100/100 [==============================] - 9s 88ms/step - loss: 2.0769 - ContrastiveAccuracy: 0.3728 - val_loss: 1.0149 - val_ContrastiveAccuracy: 0.3738\n",
      "Epoch 130/300\n",
      "100/100 [==============================] - 9s 88ms/step - loss: 2.0610 - ContrastiveAccuracy: 0.3747 - val_loss: 0.9912 - val_ContrastiveAccuracy: 0.3757\n",
      "Epoch 131/300\n",
      "100/100 [==============================] - 9s 88ms/step - loss: 2.0541 - ContrastiveAccuracy: 0.3767 - val_loss: 1.0600 - val_ContrastiveAccuracy: 0.3776\n",
      "Epoch 132/300\n",
      "100/100 [==============================] - 9s 88ms/step - loss: 2.0730 - ContrastiveAccuracy: 0.3785 - val_loss: 1.0303 - val_ContrastiveAccuracy: 0.3794\n",
      "Epoch 133/300\n",
      "100/100 [==============================] - 9s 88ms/step - loss: 2.0267 - ContrastiveAccuracy: 0.3803 - val_loss: 1.0261 - val_ContrastiveAccuracy: 0.3813\n",
      "Epoch 134/300\n",
      "100/100 [==============================] - 9s 88ms/step - loss: 2.0335 - ContrastiveAccuracy: 0.3822 - val_loss: 1.0190 - val_ContrastiveAccuracy: 0.3831\n",
      "Epoch 135/300\n",
      "100/100 [==============================] - 9s 88ms/step - loss: 2.0583 - ContrastiveAccuracy: 0.3839 - val_loss: 1.0284 - val_ContrastiveAccuracy: 0.3847\n",
      "Epoch 136/300\n",
      "100/100 [==============================] - 9s 88ms/step - loss: 2.0502 - ContrastiveAccuracy: 0.3856 - val_loss: 1.0403 - val_ContrastiveAccuracy: 0.3864\n",
      "Epoch 137/300\n",
      "100/100 [==============================] - 9s 88ms/step - loss: 1.9957 - ContrastiveAccuracy: 0.3872 - val_loss: 0.9847 - val_ContrastiveAccuracy: 0.3881\n",
      "Epoch 138/300\n",
      "100/100 [==============================] - 9s 88ms/step - loss: 2.0535 - ContrastiveAccuracy: 0.3889 - val_loss: 0.9997 - val_ContrastiveAccuracy: 0.3897\n",
      "Epoch 139/300\n",
      "100/100 [==============================] - 9s 88ms/step - loss: 2.0106 - ContrastiveAccuracy: 0.3905 - val_loss: 0.9722 - val_ContrastiveAccuracy: 0.3914\n",
      "Epoch 140/300\n",
      "100/100 [==============================] - 9s 88ms/step - loss: 2.0249 - ContrastiveAccuracy: 0.3922 - val_loss: 1.0031 - val_ContrastiveAccuracy: 0.3930\n",
      "Epoch 141/300\n",
      "100/100 [==============================] - 9s 88ms/step - loss: 2.0255 - ContrastiveAccuracy: 0.3939 - val_loss: 1.0119 - val_ContrastiveAccuracy: 0.3946\n",
      "Epoch 142/300\n",
      "100/100 [==============================] - 9s 88ms/step - loss: 2.0158 - ContrastiveAccuracy: 0.3954 - val_loss: 0.9815 - val_ContrastiveAccuracy: 0.3962\n",
      "Epoch 143/300\n",
      "100/100 [==============================] - 9s 88ms/step - loss: 2.0653 - ContrastiveAccuracy: 0.3969 - val_loss: 1.0182 - val_ContrastiveAccuracy: 0.3977\n",
      "Epoch 144/300\n",
      "100/100 [==============================] - 9s 88ms/step - loss: 2.0312 - ContrastiveAccuracy: 0.3985 - val_loss: 0.9607 - val_ContrastiveAccuracy: 0.3993\n",
      "Epoch 145/300\n",
      "100/100 [==============================] - 9s 88ms/step - loss: 2.0243 - ContrastiveAccuracy: 0.4001 - val_loss: 1.0069 - val_ContrastiveAccuracy: 0.4009\n",
      "Epoch 146/300\n",
      "100/100 [==============================] - 9s 88ms/step - loss: 2.0333 - ContrastiveAccuracy: 0.4017 - val_loss: 1.0041 - val_ContrastiveAccuracy: 0.4025\n",
      "Epoch 147/300\n",
      "100/100 [==============================] - 9s 88ms/step - loss: 2.0042 - ContrastiveAccuracy: 0.4033 - val_loss: 0.9568 - val_ContrastiveAccuracy: 0.4040\n",
      "Epoch 148/300\n",
      "100/100 [==============================] - 9s 88ms/step - loss: 2.0318 - ContrastiveAccuracy: 0.4048 - val_loss: 1.0120 - val_ContrastiveAccuracy: 0.4055\n",
      "Epoch 149/300\n",
      "100/100 [==============================] - 9s 88ms/step - loss: 2.0166 - ContrastiveAccuracy: 0.4063 - val_loss: 0.9542 - val_ContrastiveAccuracy: 0.4070\n",
      "Epoch 150/300\n",
      "100/100 [==============================] - 9s 88ms/step - loss: 2.0399 - ContrastiveAccuracy: 0.4078 - val_loss: 0.9883 - val_ContrastiveAccuracy: 0.4086\n",
      "Epoch 151/300\n",
      "100/100 [==============================] - 9s 88ms/step - loss: 2.0185 - ContrastiveAccuracy: 0.4093 - val_loss: 0.9495 - val_ContrastiveAccuracy: 0.4101\n",
      "Epoch 152/300\n",
      "100/100 [==============================] - 9s 88ms/step - loss: 1.9919 - ContrastiveAccuracy: 0.4109 - val_loss: 0.9105 - val_ContrastiveAccuracy: 0.4116\n",
      "Epoch 153/300\n",
      "100/100 [==============================] - 9s 88ms/step - loss: 1.9977 - ContrastiveAccuracy: 0.4123 - val_loss: 1.0169 - val_ContrastiveAccuracy: 0.4130\n",
      "Epoch 154/300\n",
      "100/100 [==============================] - 9s 88ms/step - loss: 1.9678 - ContrastiveAccuracy: 0.4137 - val_loss: 0.9262 - val_ContrastiveAccuracy: 0.4145\n",
      "Epoch 155/300\n",
      "100/100 [==============================] - 9s 88ms/step - loss: 1.9959 - ContrastiveAccuracy: 0.4152 - val_loss: 0.9581 - val_ContrastiveAccuracy: 0.4159\n",
      "Epoch 156/300\n",
      "100/100 [==============================] - 9s 88ms/step - loss: 1.9997 - ContrastiveAccuracy: 0.4166 - val_loss: 0.9398 - val_ContrastiveAccuracy: 0.4174\n",
      "Epoch 157/300\n",
      "100/100 [==============================] - 9s 88ms/step - loss: 1.9593 - ContrastiveAccuracy: 0.4181 - val_loss: 0.9150 - val_ContrastiveAccuracy: 0.4188\n",
      "Epoch 158/300\n",
      "100/100 [==============================] - 9s 88ms/step - loss: 1.9684 - ContrastiveAccuracy: 0.4195 - val_loss: 0.8962 - val_ContrastiveAccuracy: 0.4202\n",
      "Epoch 159/300\n",
      "100/100 [==============================] - 9s 88ms/step - loss: 2.0110 - ContrastiveAccuracy: 0.4209 - val_loss: 0.9667 - val_ContrastiveAccuracy: 0.4216\n",
      "Epoch 160/300\n",
      "100/100 [==============================] - 9s 88ms/step - loss: 1.9810 - ContrastiveAccuracy: 0.4223 - val_loss: 0.9209 - val_ContrastiveAccuracy: 0.4229\n",
      "Epoch 161/300\n",
      "100/100 [==============================] - 9s 88ms/step - loss: 1.9731 - ContrastiveAccuracy: 0.4236 - val_loss: 0.9331 - val_ContrastiveAccuracy: 0.4243\n",
      "Epoch 162/300\n",
      "100/100 [==============================] - 9s 88ms/step - loss: 1.9669 - ContrastiveAccuracy: 0.4249 - val_loss: 0.9366 - val_ContrastiveAccuracy: 0.4255\n",
      "Epoch 163/300\n",
      "100/100 [==============================] - 9s 88ms/step - loss: 1.9316 - ContrastiveAccuracy: 0.4262 - val_loss: 0.9097 - val_ContrastiveAccuracy: 0.4268\n",
      "Epoch 164/300\n",
      "100/100 [==============================] - 9s 88ms/step - loss: 1.9933 - ContrastiveAccuracy: 0.4275 - val_loss: 0.8990 - val_ContrastiveAccuracy: 0.4281\n",
      "Epoch 165/300\n",
      "100/100 [==============================] - 9s 88ms/step - loss: 1.9472 - ContrastiveAccuracy: 0.4288 - val_loss: 0.9150 - val_ContrastiveAccuracy: 0.4294\n",
      "Epoch 166/300\n",
      "100/100 [==============================] - 9s 88ms/step - loss: 2.0002 - ContrastiveAccuracy: 0.4301 - val_loss: 0.9129 - val_ContrastiveAccuracy: 0.4307\n",
      "Epoch 167/300\n",
      "100/100 [==============================] - 9s 88ms/step - loss: 1.9280 - ContrastiveAccuracy: 0.4314 - val_loss: 0.8800 - val_ContrastiveAccuracy: 0.4320\n",
      "Epoch 168/300\n",
      "100/100 [==============================] - 9s 88ms/step - loss: 1.9616 - ContrastiveAccuracy: 0.4327 - val_loss: 0.9152 - val_ContrastiveAccuracy: 0.4333\n",
      "Epoch 169/300\n",
      "100/100 [==============================] - 9s 88ms/step - loss: 1.9147 - ContrastiveAccuracy: 0.4339 - val_loss: 0.8964 - val_ContrastiveAccuracy: 0.4345\n",
      "Epoch 170/300\n",
      "100/100 [==============================] - 9s 88ms/step - loss: 1.9684 - ContrastiveAccuracy: 0.4351 - val_loss: 0.9015 - val_ContrastiveAccuracy: 0.4357\n",
      "Epoch 171/300\n",
      "100/100 [==============================] - 9s 88ms/step - loss: 1.9638 - ContrastiveAccuracy: 0.4363 - val_loss: 0.8932 - val_ContrastiveAccuracy: 0.4369\n",
      "Epoch 172/300\n",
      "100/100 [==============================] - 9s 87ms/step - loss: 1.9398 - ContrastiveAccuracy: 0.4376 - val_loss: 0.8645 - val_ContrastiveAccuracy: 0.4382\n",
      "Epoch 173/300\n",
      "100/100 [==============================] - 9s 88ms/step - loss: 1.9534 - ContrastiveAccuracy: 0.4388 - val_loss: 0.9090 - val_ContrastiveAccuracy: 0.4394\n",
      "Epoch 174/300\n",
      "100/100 [==============================] - 9s 88ms/step - loss: 1.9503 - ContrastiveAccuracy: 0.4400 - val_loss: 0.9011 - val_ContrastiveAccuracy: 0.4405\n",
      "Epoch 175/300\n",
      "100/100 [==============================] - 9s 88ms/step - loss: 1.9512 - ContrastiveAccuracy: 0.4411 - val_loss: 0.8965 - val_ContrastiveAccuracy: 0.4417\n",
      "Epoch 176/300\n",
      "100/100 [==============================] - 9s 88ms/step - loss: 1.9342 - ContrastiveAccuracy: 0.4423 - val_loss: 0.8781 - val_ContrastiveAccuracy: 0.4428\n",
      "Epoch 177/300\n",
      "100/100 [==============================] - 9s 87ms/step - loss: 1.9476 - ContrastiveAccuracy: 0.4434 - val_loss: 0.8650 - val_ContrastiveAccuracy: 0.4440\n",
      "Epoch 178/300\n",
      "100/100 [==============================] - 9s 88ms/step - loss: 1.9713 - ContrastiveAccuracy: 0.4445 - val_loss: 0.9234 - val_ContrastiveAccuracy: 0.4451\n",
      "Epoch 179/300\n",
      "100/100 [==============================] - 9s 88ms/step - loss: 1.9360 - ContrastiveAccuracy: 0.4456 - val_loss: 0.8594 - val_ContrastiveAccuracy: 0.4462\n",
      "Epoch 180/300\n",
      "100/100 [==============================] - 9s 87ms/step - loss: 1.8959 - ContrastiveAccuracy: 0.4468 - val_loss: 0.8725 - val_ContrastiveAccuracy: 0.4474\n",
      "Epoch 181/300\n",
      "100/100 [==============================] - 9s 88ms/step - loss: 1.8903 - ContrastiveAccuracy: 0.4479 - val_loss: 0.8572 - val_ContrastiveAccuracy: 0.4485\n",
      "Epoch 182/300\n",
      "100/100 [==============================] - 9s 88ms/step - loss: 1.9059 - ContrastiveAccuracy: 0.4491 - val_loss: 0.8258 - val_ContrastiveAccuracy: 0.4497\n",
      "Epoch 183/300\n",
      "100/100 [==============================] - 9s 87ms/step - loss: 1.9262 - ContrastiveAccuracy: 0.4503 - val_loss: 0.8237 - val_ContrastiveAccuracy: 0.4509\n",
      "Epoch 184/300\n",
      "100/100 [==============================] - 9s 88ms/step - loss: 1.9012 - ContrastiveAccuracy: 0.4515 - val_loss: 0.8516 - val_ContrastiveAccuracy: 0.4521\n",
      "Epoch 185/300\n",
      "100/100 [==============================] - 9s 87ms/step - loss: 1.9075 - ContrastiveAccuracy: 0.4526 - val_loss: 0.8595 - val_ContrastiveAccuracy: 0.4532\n",
      "Epoch 186/300\n",
      "100/100 [==============================] - 9s 88ms/step - loss: 1.9400 - ContrastiveAccuracy: 0.4538 - val_loss: 0.8807 - val_ContrastiveAccuracy: 0.4543\n",
      "Epoch 187/300\n",
      "100/100 [==============================] - 9s 87ms/step - loss: 1.8982 - ContrastiveAccuracy: 0.4548 - val_loss: 0.8202 - val_ContrastiveAccuracy: 0.4554\n",
      "Epoch 188/300\n",
      "100/100 [==============================] - 9s 87ms/step - loss: 1.9167 - ContrastiveAccuracy: 0.4559 - val_loss: 0.8022 - val_ContrastiveAccuracy: 0.4565\n",
      "Epoch 189/300\n",
      "100/100 [==============================] - 9s 88ms/step - loss: 1.9427 - ContrastiveAccuracy: 0.4570 - val_loss: 0.8402 - val_ContrastiveAccuracy: 0.4575\n",
      "Epoch 190/300\n",
      "100/100 [==============================] - 9s 88ms/step - loss: 1.9069 - ContrastiveAccuracy: 0.4581 - val_loss: 0.8428 - val_ContrastiveAccuracy: 0.4586\n",
      "Epoch 191/300\n",
      "100/100 [==============================] - 9s 88ms/step - loss: 1.9234 - ContrastiveAccuracy: 0.4592 - val_loss: 0.8333 - val_ContrastiveAccuracy: 0.4597\n",
      "Epoch 192/300\n",
      "100/100 [==============================] - 9s 88ms/step - loss: 1.8789 - ContrastiveAccuracy: 0.4602 - val_loss: 0.8048 - val_ContrastiveAccuracy: 0.4608\n",
      "Epoch 193/300\n",
      "100/100 [==============================] - 9s 87ms/step - loss: 1.9629 - ContrastiveAccuracy: 0.4613 - val_loss: 0.9044 - val_ContrastiveAccuracy: 0.4618\n",
      "Epoch 194/300\n",
      "100/100 [==============================] - 9s 88ms/step - loss: 1.9062 - ContrastiveAccuracy: 0.4623 - val_loss: 0.8412 - val_ContrastiveAccuracy: 0.4628\n",
      "Epoch 195/300\n",
      "100/100 [==============================] - 9s 88ms/step - loss: 1.8752 - ContrastiveAccuracy: 0.4634 - val_loss: 0.8646 - val_ContrastiveAccuracy: 0.4639\n",
      "Epoch 196/300\n",
      "100/100 [==============================] - 9s 88ms/step - loss: 1.9115 - ContrastiveAccuracy: 0.4644 - val_loss: 0.8305 - val_ContrastiveAccuracy: 0.4649\n",
      "Epoch 197/300\n",
      "100/100 [==============================] - 9s 88ms/step - loss: 1.8857 - ContrastiveAccuracy: 0.4654 - val_loss: 0.8045 - val_ContrastiveAccuracy: 0.4660\n",
      "Epoch 198/300\n",
      "100/100 [==============================] - 9s 88ms/step - loss: 1.8930 - ContrastiveAccuracy: 0.4665 - val_loss: 0.8536 - val_ContrastiveAccuracy: 0.4670\n",
      "Epoch 199/300\n",
      "100/100 [==============================] - 9s 87ms/step - loss: 1.8669 - ContrastiveAccuracy: 0.4675 - val_loss: 0.8457 - val_ContrastiveAccuracy: 0.4680\n",
      "Epoch 200/300\n",
      "100/100 [==============================] - 9s 88ms/step - loss: 1.9075 - ContrastiveAccuracy: 0.4685 - val_loss: 0.8234 - val_ContrastiveAccuracy: 0.4690\n",
      "Epoch 201/300\n",
      "100/100 [==============================] - 9s 88ms/step - loss: 1.8629 - ContrastiveAccuracy: 0.4695 - val_loss: 0.8050 - val_ContrastiveAccuracy: 0.4701\n",
      "Epoch 202/300\n",
      "100/100 [==============================] - 9s 88ms/step - loss: 1.9093 - ContrastiveAccuracy: 0.4706 - val_loss: 0.8030 - val_ContrastiveAccuracy: 0.4710\n",
      "Epoch 203/300\n",
      "100/100 [==============================] - 9s 88ms/step - loss: 1.8564 - ContrastiveAccuracy: 0.4715 - val_loss: 0.7539 - val_ContrastiveAccuracy: 0.4720\n",
      "Epoch 204/300\n",
      "100/100 [==============================] - 9s 87ms/step - loss: 1.8743 - ContrastiveAccuracy: 0.4725 - val_loss: 0.8202 - val_ContrastiveAccuracy: 0.4730\n",
      "Epoch 205/300\n",
      "100/100 [==============================] - 9s 88ms/step - loss: 1.9183 - ContrastiveAccuracy: 0.4735 - val_loss: 0.8087 - val_ContrastiveAccuracy: 0.4740\n",
      "Epoch 206/300\n",
      "100/100 [==============================] - 9s 88ms/step - loss: 1.8832 - ContrastiveAccuracy: 0.4744 - val_loss: 0.8258 - val_ContrastiveAccuracy: 0.4749\n",
      "Epoch 207/300\n",
      "100/100 [==============================] - 9s 87ms/step - loss: 1.8833 - ContrastiveAccuracy: 0.4753 - val_loss: 0.7829 - val_ContrastiveAccuracy: 0.4758\n",
      "Epoch 208/300\n",
      "100/100 [==============================] - 9s 88ms/step - loss: 1.8351 - ContrastiveAccuracy: 0.4763 - val_loss: 0.7701 - val_ContrastiveAccuracy: 0.4768\n",
      "Epoch 209/300\n",
      "100/100 [==============================] - 9s 88ms/step - loss: 1.8906 - ContrastiveAccuracy: 0.4772 - val_loss: 0.8166 - val_ContrastiveAccuracy: 0.4777\n",
      "Epoch 210/300\n",
      "100/100 [==============================] - 9s 87ms/step - loss: 1.9332 - ContrastiveAccuracy: 0.4781 - val_loss: 0.8247 - val_ContrastiveAccuracy: 0.4786\n",
      "Epoch 211/300\n",
      "100/100 [==============================] - 9s 88ms/step - loss: 1.8398 - ContrastiveAccuracy: 0.4791 - val_loss: 0.7864 - val_ContrastiveAccuracy: 0.4795\n",
      "Epoch 212/300\n",
      "100/100 [==============================] - 9s 88ms/step - loss: 1.8729 - ContrastiveAccuracy: 0.4800 - val_loss: 0.7873 - val_ContrastiveAccuracy: 0.4804\n",
      "Epoch 213/300\n",
      "100/100 [==============================] - 9s 88ms/step - loss: 1.8377 - ContrastiveAccuracy: 0.4809 - val_loss: 0.7609 - val_ContrastiveAccuracy: 0.4814\n",
      "Epoch 214/300\n",
      "100/100 [==============================] - 9s 88ms/step - loss: 1.8134 - ContrastiveAccuracy: 0.4819 - val_loss: 0.7547 - val_ContrastiveAccuracy: 0.4823\n",
      "Epoch 215/300\n",
      "100/100 [==============================] - 9s 88ms/step - loss: 1.8603 - ContrastiveAccuracy: 0.4828 - val_loss: 0.7651 - val_ContrastiveAccuracy: 0.4833\n",
      "Epoch 216/300\n",
      "100/100 [==============================] - 9s 88ms/step - loss: 1.8175 - ContrastiveAccuracy: 0.4837 - val_loss: 0.7835 - val_ContrastiveAccuracy: 0.4842\n",
      "Epoch 217/300\n",
      "100/100 [==============================] - 9s 88ms/step - loss: 1.8613 - ContrastiveAccuracy: 0.4845 - val_loss: 0.7641 - val_ContrastiveAccuracy: 0.4850\n",
      "Epoch 218/300\n",
      "100/100 [==============================] - 9s 87ms/step - loss: 1.8735 - ContrastiveAccuracy: 0.4854 - val_loss: 0.7997 - val_ContrastiveAccuracy: 0.4859\n"
     ]
    }
   ],
   "source": [
    "callback = tf.keras.callbacks.EarlyStopping(monitor = \"val_loss\", mode = 'min', patience = 15)\n",
    "history = cm.fit(training_data,\n",
    "                 epochs=300,\n",
    "                 verbose=1,\n",
    "                 validation_data=validation_data,\n",
    "                 callbacks=[callback]\n",
    "                )"
   ]
  },
  {
   "cell_type": "code",
   "execution_count": 24,
   "metadata": {},
   "outputs": [
    {
     "name": "stdout",
     "output_type": "stream",
     "text": [
      "Model: \"contrastive_model\"\n",
      "_________________________________________________________________\n",
      " Layer (type)                Output Shape              Param #   \n",
      "=================================================================\n",
      " model (Functional)          (None, 64)                58560     \n",
      "                                                                 \n",
      " model_1 (Functional)        (None, 64)                58560     \n",
      "                                                                 \n",
      " dense_6 (Dense)             multiple                  32768     \n",
      "                                                                 \n",
      " dense_7 (Dense)             multiple                  32768     \n",
      "                                                                 \n",
      "=================================================================\n",
      "Total params: 182,657\n",
      "Trainable params: 182,657\n",
      "Non-trainable params: 0\n",
      "_________________________________________________________________\n"
     ]
    }
   ],
   "source": [
    "cm.summary()"
   ]
  },
  {
   "cell_type": "code",
   "execution_count": 25,
   "metadata": {},
   "outputs": [],
   "source": [
    "with open(\"history.txt\", 'w') as file:\n",
    "    file.write(f\"Epochs: {len(history.history['loss'])}\\n\")\n",
    "    file.write(f\"Loss: {history.history['loss'][-1]}\\n\")\n",
    "    file.write(f\"Validation Loss: {history.history['val_loss'][-1]}\\n\")\n",
    "    file.write(f\"Contrastive Accuracy: {history.history['ContrastiveAccuracy'][-1] * 100}%\\n\")\n",
    "    file.write(f\"Validation Contrastive Accuracy: {history.history['val_ContrastiveAccuracy'][-1] * 100}%\\n\")"
   ]
  },
  {
   "cell_type": "code",
   "execution_count": 26,
   "metadata": {},
   "outputs": [],
   "source": [
    "cm.save_weights(\"Weights/11-18-23\")"
   ]
  },
  {
   "cell_type": "code",
   "execution_count": 27,
   "metadata": {
    "tags": []
   },
   "outputs": [
    {
     "data": {
      "image/png": "[encoded data removed]",
      "text/plain": [
       "<Figure size 640x480 with 2 Axes>"
      ]
     },
     "metadata": {},
     "output_type": "display_data"
    }
   ],
   "source": [
    "# Plot History in one image\n",
    "plt.figure(1)\n",
    "\n",
    "# Loss history\n",
    "plt.subplot(211)\n",
    "plt.plot(history.history['loss'],label='Training')\n",
    "plt.plot(history.history['val_loss'],label='Validation')\n",
    "plt.legend()\n",
    "\n",
    "plt.xlabel('Epoch')\n",
    "plt.ylabel('Loss')\n",
    "plt.title('Dense Layer Loss')\n",
    "\n",
    "# Accuracy history\n",
    "plt.subplot(212)\n",
    "plt.plot(history.history['ContrastiveAccuracy'],label='Training')\n",
    "plt.plot(history.history['val_ContrastiveAccuracy'],label='Validation')\n",
    "plt.legend()\n",
    "\n",
    "plt.xlabel('Epoch')\n",
    "plt.ylabel('Loss')\n",
    "plt.title('Dense Layer Accuracy')\n",
    "\n",
    "plt.tight_layout(h_pad = 5.0)\n",
    "plt.savefig('history.png')\n",
    "plt.show()"
   ]
  },
  {
   "cell_type": "code",
   "execution_count": 28,
   "metadata": {},
   "outputs": [
    {
     "data": {
      "image/png": "[encoded data removed]",
      "text/plain": [
       "<Figure size 640x480 with 1 Axes>"
      ]
     },
     "metadata": {},
     "output_type": "display_data"
    }
   ],
   "source": [
    "# Plot Loss in individual image\n",
    "plt.plot(history.history['loss'],label='Training')\n",
    "plt.plot(history.history['val_loss'],label='Validation')\n",
    "plt.legend()\n",
    "\n",
    "plt.xlabel('Epoch')\n",
    "plt.ylabel('Accuracy')\n",
    "plt.title('Dense Loss')\n",
    "\n",
    "plt.savefig('history_loss.png')\n",
    "plt.show()"
   ]
  },
  {
   "cell_type": "code",
   "execution_count": 29,
   "metadata": {},
   "outputs": [
    {
     "data": {
      "image/png": "[encoded data removed]",
      "text/plain": [
       "<Figure size 640x480 with 1 Axes>"
      ]
     },
     "metadata": {},
     "output_type": "display_data"
    }
   ],
   "source": [
    "# Plot Accuracy in individual image\n",
    "plt.plot(history.history['ContrastiveAccuracy'],label='Training')\n",
    "plt.plot(history.history['val_ContrastiveAccuracy'],label='Validation')\n",
    "plt.legend()\n",
    "\n",
    "plt.xlabel('Epoch')\n",
    "plt.ylabel('Loss')\n",
    "plt.title('Dense Accuracy')\n",
    "\n",
    "plt.savefig('history_accuracy.png')\n",
    "plt.show()"
   ]
  },
  {
   "cell_type": "markdown",
   "metadata": {},
   "source": [
    "### Obtaining Realistic Accuracies"
   ]
  },
  {
   "cell_type": "code",
   "execution_count": 30,
   "metadata": {
    "tags": []
   },
   "outputs": [],
   "source": [
    "offset = 0\n",
    "n_comp = 100"
   ]
  },
  {
   "cell_type": "code",
   "execution_count": 31,
   "metadata": {
    "tags": []
   },
   "outputs": [
    {
     "data": {
      "text/plain": [
       "<tf.Tensor: shape=(1, 100), dtype=float32, numpy=\n",
       "array([[-16.8279    , -14.898927  ,  -1.8065755 ,  -7.6366777 ,\n",
       "         -6.207816  , -23.818169  , -33.67066   , -19.11212   ,\n",
       "        -24.119072  ,  -9.119907  , -25.39172   , -11.0074625 ,\n",
       "        -29.857115  , -30.055939  , -26.17699   ,  -1.421785  ,\n",
       "         -7.9126406 , -18.867464  ,  -9.027688  ,  -2.5459862 ,\n",
       "        -19.907387  , -20.151674  ,   2.4167778 ,  -7.9100113 ,\n",
       "        -12.397852  , -31.543163  ,   3.9956086 , -32.471157  ,\n",
       "        -20.545961  ,  -4.1470404 , -22.410437  , -21.97358   ,\n",
       "        -14.453408  ,  -7.5352902 , -29.93137   ,  -8.152089  ,\n",
       "        -45.21536   , -25.809502  ,  -7.7956324 , -27.8774    ,\n",
       "        -21.885138  , -18.620024  ,  -0.12903513,  -1.0982137 ,\n",
       "         -7.9032745 ,  -2.5713634 ,  -6.431065  , -13.643881  ,\n",
       "        -16.451439  , -24.279646  , -12.482425  , -18.242105  ,\n",
       "          2.7222118 ,  -2.3907976 ,   3.2832553 , -16.631348  ,\n",
       "        -19.887997  ,   0.72155493, -21.25162   ,  -7.8885465 ,\n",
       "         -5.7986345 ,  -5.033681  , -33.732826  , -34.519608  ,\n",
       "         -0.2555291 , -12.929304  , -26.8041    ,  -8.302681  ,\n",
       "         -6.963509  , -28.137323  , -32.734848  ,  -0.51355964,\n",
       "        -20.714302  , -26.926813  , -21.564663  , -17.47274   ,\n",
       "        -10.947826  ,  -7.8467073 , -14.644752  ,  -5.8427615 ,\n",
       "         -9.997235  , -23.491491  , -33.74969   , -27.740637  ,\n",
       "          6.099998  , -12.735966  , -13.9137125 ,  -9.283049  ,\n",
       "        -10.568801  ,  -6.1766663 , -30.48933   ,  -3.2280328 ,\n",
       "         -1.0277818 , -30.356169  , -14.7220335 , -23.121756  ,\n",
       "          2.6749284 , -18.851965  , -15.446431  ,  -3.9483974 ]],\n",
       "      dtype=float32)>"
      ]
     },
     "execution_count": 31,
     "metadata": {},
     "output_type": "execute_result"
    }
   ],
   "source": [
    "# update with notes to compare\n",
    "cm((x_val[0:1],x_train[offset:offset+n_comp]))"
   ]
  },
  {
   "cell_type": "code",
   "execution_count": 32,
   "metadata": {
    "tags": []
   },
   "outputs": [
    {
     "data": {
      "text/plain": [
       "array([7], dtype=uint8)"
      ]
     },
     "execution_count": 32,
     "metadata": {},
     "output_type": "execute_result"
    }
   ],
   "source": [
    "y_val[0:1]"
   ]
  },
  {
   "cell_type": "code",
   "execution_count": 33,
   "metadata": {
    "tags": []
   },
   "outputs": [
    {
     "data": {
      "text/plain": [
       "7"
      ]
     },
     "execution_count": 33,
     "metadata": {},
     "output_type": "execute_result"
    }
   ],
   "source": [
    "y_train[np.argmax(cm((x_val[0:1],x_train[offset:offset+n_comp])))+offset]"
   ]
  },
  {
   "cell_type": "code",
   "execution_count": 34,
   "metadata": {},
   "outputs": [
    {
     "name": "stdout",
     "output_type": "stream",
     "text": [
      "True\tPred\n",
      "7 \t 7\t✔\n",
      "\n",
      "2 \t 2\t✔\n",
      "\n",
      "1 \t 1\t✔\n",
      "\n",
      "0 \t 0\t✔\n",
      "\n",
      "4 \t 7\n",
      "\n",
      "1 \t 1\t✔\n",
      "\n",
      "4 \t 7\n",
      "\n",
      "9 \t 3\n",
      "\n",
      "5 \t 2\n",
      "\n",
      "9 \t 9\t✔\n",
      "\n",
      "Accuracy: 60.00%\n"
     ]
    }
   ],
   "source": [
    "accuracy = 0.0\n",
    "n = 10\n",
    "with open(\"10_accuracy.txt\", 'w') as file:\n",
    "    print(\"True\\tPred\")\n",
    "    file.write(\"True\\tPred\" + '\\n')\n",
    "    for i in range(n):\n",
    "        true = y_val[i] \n",
    "        pred = y_train[np.argmax(cm((x_val[i:i+1], x_train[offset:offset+n_comp])))+offset]\n",
    "        print(true, '\\t', pred, end = '')\n",
    "        file.write(str(true) + '\\t\\t' + str(pred))\n",
    "        if (y_val[i] == y_train[np.argmax(cm((x_val[i:i+1], x_train[offset:offset+n_comp])))+offset]):\n",
    "            accuracy+= 1.0\n",
    "            print(\"\\t\\u2714\\n\")\n",
    "            file.write(\"\\t\\t\\u2714\\n\")\n",
    "        else:\n",
    "            print('\\n')\n",
    "            file.write('\\n')\n",
    "\n",
    "    accuracy /= n\n",
    "    print(f\"Accuracy: {accuracy*100:.2f}%\")\n",
    "    file.write(f\"Accuracy: {accuracy*100:.2f}%\\n\")"
   ]
  },
  {
   "cell_type": "code",
   "execution_count": 36,
   "metadata": {
    "tags": []
   },
   "outputs": [
    {
     "name": "stdout",
     "output_type": "stream",
     "text": [
      "10000 computations to make . . .\n",
      "Progress: 9999/10000 (99.99%)\n",
      "Final Accuracy: 48.24%\n"
     ]
    }
   ],
   "source": [
    "accuracy = 0.0\n",
    "n = y_val.shape[0]\n",
    "print(n, \"computations to make . . .\")\n",
    "for i in range(n):\n",
    "   # print(y_val[i:i+1],end='\\t')\n",
    "    #print(y_train[np.argmax(cm((x_val[i:i+1], x_train[offset:offset+n_comp])))+offset])\n",
    "    if (i % (n / 10) == 0 or i == n - 1):\n",
    "        print(f\"\\rProgress: {i}/{n} ({(i/n)*100:.2f}%)\", end=\"\")  # Update the progress\n",
    "    if (y_val[i] == y_train[np.argmax(cm((x_val[i:i+1], x_train[offset:offset+n_comp])))+offset]):\n",
    "        accuracy+= 1.0\n",
    "\n",
    "accuracy /= n\n",
    "print(f\"\\nFinal Accuracy: {accuracy*100:.2f}%\")\n",
    "with open(\"final_accuracy.txt\", 'w') as file:\n",
    "    file.write(f\"Final Accuracy: {accuracy*100:.2f}%\\n\")"
   ]
  },
  {
   "cell_type": "code",
   "execution_count": null,
   "metadata": {},
   "outputs": [],
   "source": []
  }
 ],
 "metadata": {
  "kernelspec": {
   "display_name": "Python 3 (ipykernel)",
   "language": "python",
   "name": "python3"
  },
  "language_info": {
   "codemirror_mode": {
    "name": "ipython",
    "version": 3
   },
   "file_extension": ".py",
   "mimetype": "text/x-python",
   "name": "python",
   "nbconvert_exporter": "python",
   "pygments_lexer": "ipython3",
   "version": "3.11.5"
  }
 },
 "nbformat": 4,
 "nbformat_minor": 4
}

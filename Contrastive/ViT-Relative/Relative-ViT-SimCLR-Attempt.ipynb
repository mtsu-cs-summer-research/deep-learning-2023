{
 "cells": [
  {
   "cell_type": "markdown",
   "metadata": {},
   "source": [
    "### SimCLR attempt using Vision Transformer"
   ]
  },
  {
   "cell_type": "code",
   "execution_count": 1,
   "metadata": {},
   "outputs": [],
   "source": [
    "# Implement Relative MultiHead Attention - likely other Transformer block components\n",
    "# No causal mask for images\n",
    "# Exchange position encodings for relative position encodings?"
   ]
  },
  {
   "cell_type": "code",
   "execution_count": 2,
   "metadata": {
    "tags": []
   },
   "outputs": [],
   "source": [
    "import os\n",
    "os.environ[\"LD_LIBRARY_PATH\"]='/opt/conda/lib'\n",
    "os.environ[\"XLA_FLAGS\"] = \"--xla_gpu_cuda_data_dir=/opt/conda/pkgs/cuda-toolkit\""
   ]
  },
  {
   "cell_type": "code",
   "execution_count": 3,
   "metadata": {
    "tags": []
   },
   "outputs": [
    {
     "name": "stderr",
     "output_type": "stream",
     "text": [
      "2023-12-11 18:17:56.959645: I tensorflow/core/util/port.cc:110] oneDNN custom operations are on. You may see slightly different numerical results due to floating-point round-off errors from different computation orders. To turn them off, set the environment variable `TF_ENABLE_ONEDNN_OPTS=0`.\n",
      "2023-12-11 18:17:56.993945: I tensorflow/core/platform/cpu_feature_guard.cc:182] This TensorFlow binary is optimized to use available CPU instructions in performance-critical operations.\n",
      "To enable the following instructions: AVX2 AVX512F AVX512_VNNI FMA, in other operations, rebuild TensorFlow with the appropriate compiler flags.\n",
      "2023-12-11 18:17:57.721949: W tensorflow/compiler/tf2tensorrt/utils/py_utils.cc:38] TF-TRT Warning: Could not find TensorRT\n"
     ]
    }
   ],
   "source": [
    "import matplotlib.pyplot as plt\n",
    "import numpy as np\n",
    "import numpy.typing as npt\n",
    "import tensorflow as tf\n",
    "import tensorflow.keras as keras"
   ]
  },
  {
   "cell_type": "code",
   "execution_count": 4,
   "metadata": {
    "tags": []
   },
   "outputs": [],
   "source": [
    "(x_train, y_train), (x_val, y_val) = keras.datasets.mnist.load_data()\n",
    "\n",
    "x_train = x_train / 255.0\n",
    "x_val = x_val / 255.0"
   ]
  },
  {
   "cell_type": "code",
   "execution_count": 5,
   "metadata": {
    "tags": []
   },
   "outputs": [
    {
     "data": {
      "text/plain": [
       "(60000, 28, 28)"
      ]
     },
     "execution_count": 5,
     "metadata": {},
     "output_type": "execute_result"
    }
   ],
   "source": [
    "x_train.shape"
   ]
  },
  {
   "cell_type": "code",
   "execution_count": 6,
   "metadata": {
    "tags": []
   },
   "outputs": [
    {
     "data": {
      "image/png": "[encoded data removed]",
      "text/plain": [
       "<Figure size 300x300 with 1 Axes>"
      ]
     },
     "metadata": {},
     "output_type": "display_data"
    },
    {
     "data": {
      "text/plain": [
       "5"
      ]
     },
     "execution_count": 6,
     "metadata": {},
     "output_type": "execute_result"
    }
   ],
   "source": [
    "plt.figure(figsize=(3, 3))\n",
    "plt.imshow(x_train[0], cmap=\"gray\")\n",
    "plt.show()\n",
    "y_train[0]"
   ]
  },
  {
   "cell_type": "code",
   "execution_count": 7,
   "metadata": {},
   "outputs": [
    {
     "data": {
      "image/png": "[encoded data removed]",
      "text/plain": [
       "<Figure size 640x480 with 1 Axes>"
      ]
     },
     "metadata": {},
     "output_type": "display_data"
    },
    {
     "data": {
      "text/plain": [
       "(28, 28)"
      ]
     },
     "execution_count": 7,
     "metadata": {},
     "output_type": "execute_result"
    }
   ],
   "source": [
    "a = x_train[0]\n",
    "a.shape\n",
    "plt.imshow(a)\n",
    "plt.show()\n",
    "a.shape"
   ]
  },
  {
   "cell_type": "code",
   "execution_count": 8,
   "metadata": {},
   "outputs": [
    {
     "name": "stdout",
     "output_type": "stream",
     "text": [
      "24 24 \n",
      "\n"
     ]
    },
    {
     "name": "stderr",
     "output_type": "stream",
     "text": [
      "2023-12-11 18:17:59.347952: I tensorflow/core/common_runtime/gpu/gpu_device.cc:1635] Created device /job:localhost/replica:0/task:0/device:GPU:0 with 9804 MB memory:  -> device: 0, name: NVIDIA GeForce RTX 2080 Ti, pci bus id: 0000:68:00.0, compute capability: 7.5\n"
     ]
    },
    {
     "data": {
      "image/png": "[encoded data removed]",
      "text/plain": [
       "<Figure size 640x480 with 1 Axes>"
      ]
     },
     "metadata": {},
     "output_type": "display_data"
    },
    {
     "data": {
      "text/plain": [
       "(28, 28)"
      ]
     },
     "execution_count": 8,
     "metadata": {},
     "output_type": "execute_result"
    }
   ],
   "source": [
    "def crop_and_resize(image):\n",
    "    crop_percent = np.random.uniform(0.4, 1)\n",
    "\n",
    "    if crop_percent == 1:\n",
    "        return image\n",
    "        \n",
    "    # Get width and height from the image shape\n",
    "    width = image.shape[0]\n",
    "    height = image.shape[1]\n",
    "\n",
    "    # Create new dimensions for the image\n",
    "    crop_width = int(width * crop_percent)\n",
    "    crop_height = int(height * crop_percent)\n",
    "    print(crop_width, crop_height, '\\n')\n",
    "\n",
    "    cropped = tf.image.random_crop(tf.expand_dims(image, -1), (crop_width, crop_height, 1))\n",
    "    cropped = tf.image.resize(cropped, (image.shape[0], image.shape[1]))\n",
    "    return cropped\n",
    "\n",
    "b = crop_and_resize(a)\n",
    "b.shape\n",
    "plt.imshow(b)\n",
    "plt.show()\n",
    "a.shape"
   ]
  },
  {
   "cell_type": "code",
   "execution_count": 9,
   "metadata": {
    "tags": []
   },
   "outputs": [],
   "source": [
    "class DataGenerator(tf.keras.utils.Sequence):\n",
    "    def __init__(self, x, y, batch_size=32, num_batches=100, rng: np.random.Generator = np.random.default_rng(), min_crop = .5, max_crop = 1):\n",
    "        super().__init__()\n",
    "\n",
    "        # Group by labels\n",
    "        groups = [[] for _ in range(len(np.unique(y)))]\n",
    "        for x_i, y_i in zip(x, y):\n",
    "            groups[y_i].append(x_i)\n",
    "        groups = list(map(np.array, groups))\n",
    "\n",
    "        self.groups = groups\n",
    "        self.batch_size = batch_size\n",
    "        self.num_batches = num_batches\n",
    "        self.rng = rng\n",
    "\n",
    "        self.min_crop = min_crop\n",
    "        self.max_crop = max_crop\n",
    "\n",
    "        self.shuffle()\n",
    "\n",
    "    def shuffle(self):\n",
    "        self.labels = self.rng.integers(len(self.groups), size=(self.num_batches, self.batch_size))   # Which labels to draw\n",
    "        self.variants = self.rng.uniform(size=(self.num_batches, 2, self.batch_size)) # Which variant of the label\n",
    "\n",
    "    # Function to randomly crop the image\n",
    "    def crop_and_resize(self, image):\n",
    "        crop_percent = np.random.uniform(self.min_crop, self.max_crop)\n",
    "    \n",
    "        if crop_percent == 1:\n",
    "            return image\n",
    "            \n",
    "        # Get width and height from the image shape\n",
    "        width = image.shape[0]\n",
    "        height = image.shape[1]\n",
    "    \n",
    "        # Create new dimensions for the image\n",
    "        crop_width = int(width * crop_percent)\n",
    "        crop_height = int(height * crop_percent)\n",
    "    \n",
    "        cropped = tf.image.random_crop(tf.expand_dims(image, -1), (crop_width, crop_height, 1))\n",
    "        cropped = tf.squeeze(tf.image.resize(cropped, image.shape))\n",
    "        \n",
    "        return cropped\n",
    "\n",
    "\n",
    "    def __getitem__(self, batch_index):\n",
    "        batch = ([], [])\n",
    "        for label, variant_a, variant_b in zip(self.labels[batch_index], *self.variants[batch_index]):\n",
    "            group = self.groups[label]\n",
    "            variant_a_index = int(len(group)*variant_a)\n",
    "            # Instead of using two different batches, use the same with different augmentations:\n",
    "            image_a = self.crop_and_resize(group[variant_a_index])\n",
    "            image_b = self.crop_and_resize(group[variant_a_index])\n",
    "\n",
    "            batch[0].append(image_a)\n",
    "            batch[1].append(image_b)\n",
    "            \n",
    "        return tuple(np.array(batch)) # batch\n",
    "\n",
    "    def __len__(self):\n",
    "        return self.num_batches\n",
    "\n",
    "    def on_epoch_end(self):\n",
    "        self.shuffle()"
   ]
  },
  {
   "cell_type": "code",
   "execution_count": 10,
   "metadata": {
    "tags": []
   },
   "outputs": [
    {
     "data": {
      "image/png": "[encoded data removed]",
      "text/plain": [
       "<Figure size 640x480 with 2 Axes>"
      ]
     },
     "metadata": {},
     "output_type": "display_data"
    },
    {
     "data": {
      "text/plain": [
       "(28, 28)"
      ]
     },
     "execution_count": 10,
     "metadata": {},
     "output_type": "execute_result"
    }
   ],
   "source": [
    "# Generator Testing/Debugging\n",
    "# [batch, x/y, set, image]\n",
    "data = DataGenerator(x_train, y_train, rng=np.random.default_rng(0), min_crop = 0.4, max_crop = 1)\n",
    "batch_index = 0\n",
    "index = 0\n",
    "plt.subplot(121)\n",
    "plt.imshow(data[batch_index][0][index])\n",
    "plt.subplot(122)\n",
    "plt.imshow(data[batch_index][1][index])\n",
    "plt.show()\n",
    "data[batch_index][0][index].shape"
   ]
  },
  {
   "cell_type": "markdown",
   "metadata": {},
   "source": [
    "### ViT Encoders"
   ]
  },
  {
   "cell_type": "code",
   "execution_count": 11,
   "metadata": {},
   "outputs": [],
   "source": [
    "#Relative Mutli Head Attention from SirDavidLudwig's DeepDNA\n",
    "#https://github.com/DLii-Research/deep-dna/tree/master\n",
    "\n",
    "class RelativeMultiHeadAttention(keras.layers.MultiHeadAttention):\n",
    "    def __init__(self, max_seq_len=None, **kwargs):\n",
    "        super().__init__(**kwargs)\n",
    "        self._max_seq_len = max_seq_len\n",
    "\n",
    "    def build(self, input_shape):\n",
    "        if self._max_seq_len is None:\n",
    "            self._max_seq_len = input_shape[1]\n",
    "            assert self._max_seq_len is not None, \"RelativeMultiHeadAttention requires max_seq_len to be specified.\"\n",
    "        self._rel_embeds = self.add_weight(\"relative_embeddings\",\n",
    "                                           shape=(self._max_seq_len, self._key_dim),\n",
    "                                           initializer=\"glorot_uniform\", trainable=True)\n",
    "        return super().build(input_shape)\n",
    "\n",
    "    def get_config(self):\n",
    "        config = super().get_config()\n",
    "        config.update({\n",
    "            \"max_seq_len\": self._max_seq_len\n",
    "        })\n",
    "        return config\n",
    "\n",
    "    def _skew(self, QEr):\n",
    "        padded = tf.pad(QEr, [[0, 0], [0, 0], [0, 0], [1, 0]])\n",
    "        shape = tf.shape(padded)\n",
    "        reshaped = tf.reshape(padded, (shape[0], shape[1], shape[3], shape[2]))\n",
    "        return reshaped[:,:,1:,:]\n",
    "\n",
    "    def _compute_attention(self, query, key, value, attention_mask=None, training=None):\n",
    "        # Note: Applying scalar multiply at the smaller end of einsum improves\n",
    "        # XLA performance, but may introduce slight numeric differences in\n",
    "        # the Transformer attention head.\n",
    "        query = tf.multiply(query, 1.0 / np.sqrt(float(self._key_dim)))\n",
    "\n",
    "        # Compute relative position encodings\n",
    "        rel_enc = self._skew(tf.einsum(\"acbd,ed->abce\", query, self._rel_embeds))\n",
    "\n",
    "        # Take the dot product between \"query\" and \"key\" to get the raw\n",
    "        # attention scores.\n",
    "        attention_scores = tf.einsum(self._dot_product_equation, key, query)\n",
    "\n",
    "        attention_scores = self._masked_softmax(attention_scores + rel_enc, attention_mask)\n",
    "\n",
    "        # This is actually dropping out entire tokens to attend to, which might\n",
    "        # seem a bit unusual, but is taken from the original Transformer paper.\n",
    "        attention_scores_dropout = self._dropout_layer(attention_scores, training=training)\n",
    "\n",
    "        # `context_layer` = [B, T, N, H]\n",
    "        attention_output = tf.einsum(self._combine_equation, attention_scores_dropout, value)\n",
    "        return attention_output, attention_scores\n"
   ]
  },
  {
   "cell_type": "code",
   "execution_count": 12,
   "metadata": {},
   "outputs": [],
   "source": [
    "class TransformerBlock(keras.layers.Layer):\n",
    "    def __init__(self, embed_dim, num_heads, ff_dim, rate=0.1, max_seq_len=None):\n",
    "        super(TransformerBlock, self).__init__()\n",
    "        self.att = RelativeMultiHeadAttention(max_seq_len=max_seq_len, num_heads=num_heads, key_dim=embed_dim)\n",
    "        self.ffn = keras.Sequential(\n",
    "            [keras.layers.Dense(ff_dim, activation=\"gelu\"),\n",
    "             keras.layers.Dense(embed_dim),]\n",
    "        )\n",
    "        self.layernorm1 = keras.layers.LayerNormalization(epsilon=1e-6)\n",
    "        self.layernorm2 = keras.layers.LayerNormalization(epsilon=1e-6)\n",
    "        self.dropout1 = keras.layers.Dropout(rate)\n",
    "        self.dropout2 = keras.layers.Dropout(rate)\n",
    "\n",
    "    def compute_output_shape(self, input_shape):\n",
    "        return input_shape\n",
    "        \n",
    "    def call(self, x, training):\n",
    "        y = x\n",
    "        y = self.layernorm1(y, training=training)\n",
    "        y, scores = self.att(y, y, return_attention_scores=True, training=training)\n",
    "        y = self.dropout1(y, training=training)\n",
    "        x += y\n",
    "        y = x\n",
    "        y = self.layernorm2(y, training=training)\n",
    "        y = self.ffn(y, training=training)\n",
    "        y = self.dropout2(y, training=training)\n",
    "        return (x + y, scores)\n"
   ]
  },
  {
   "cell_type": "code",
   "execution_count": 13,
   "metadata": {
    "tags": []
   },
   "outputs": [],
   "source": [
    "class PositionEmbedding(keras.layers.Layer):\n",
    "    def __init__(self, maxlen, embed_dim):\n",
    "        super(PositionEmbedding, self).__init__()\n",
    "        self.pos_emb = keras.layers.Embedding(input_dim=maxlen, output_dim=embed_dim)\n",
    "\n",
    "    def call(self, x):\n",
    "        maxlen = tf.shape(x)[-2] # x already embedded\n",
    "        positions = tf.range(start=0, limit=maxlen, delta=1)\n",
    "        positions = self.pos_emb(positions)\n",
    "        return x + positions"
   ]
  },
  {
   "cell_type": "code",
   "execution_count": 14,
   "metadata": {
    "tags": []
   },
   "outputs": [],
   "source": [
    "embed_dim = 64\n",
    "kernel = 4\n",
    "num_heads = 6\n",
    "ff_dim = 512\n",
    "stack = 2\n",
    "\n",
    "# Note the input size (there is only one channel - intensity)\n",
    "# these images... if you are using color images, your would\n",
    "# need to set the last dimension of the input_shape to -3-\n",
    "# above and this would carry over into this cell...\n",
    "y = x = keras.layers.Input(shape=x_train.shape[1:])\n",
    "# This layer will just be passed a constant integer for\n",
    "# embedding (class token - see the ViT paper)\n",
    "# input_class = keras.layers.Input(shape=(1,))\n",
    "\n",
    "# Patches\n",
    "y = keras.layers.Conv2D(embed_dim,\n",
    "                        kernel_size=(kernel,kernel),\n",
    "                        strides=(kernel,kernel))(tf.expand_dims(y,-1))\n",
    "temp = y\n",
    "\n",
    "# Hybrid CNN\n",
    "# y = keras.layers.Conv2D(embed_dim*2,\n",
    "#                         kernel_size=(5, 5),\n",
    "#                         strides=2,\n",
    "#                         activation='gelu')(y)\n",
    "# y = keras.layers.Conv2D(embed_dim,\n",
    "#                         kernel_size=(5, 5),\n",
    "#                         strides=2,\n",
    "#                         activation='gelu')(y)\n",
    "\n",
    "# Flatten 2D arrangement to 1D arrangement of tokens\n",
    "y = keras.layers.Reshape((-1,embed_dim))(y)\n",
    "y = PositionEmbedding(y.shape[-2],embed_dim)(y)\n",
    "\n",
    "# Create class token\n",
    "c = keras.layers.Lambda(lambda x: tf.tile(tf.constant([[0]]),(tf.shape(x)[0],1)))(y)\n",
    "c = keras.layers.Embedding(input_dim=1,output_dim=embed_dim)(c)\n",
    "\n",
    "# Prepend class token\n",
    "y = keras.layers.Concatenate(axis=1)([c,y])\n",
    "\n",
    "for _ in range(stack):\n",
    "    y = TransformerBlock(embed_dim, num_heads, ff_dim)(y)[0]\n",
    "# Lambda layer is like the ViT the paper...\n",
    "# y = keras.layers.Lambda(lambda x: x[:,0,:])(y)\n",
    "# Use the following -instead- of Lambda is common in other\n",
    "# models I have seen... probably not important though\n",
    "y = keras.layers.GlobalAveragePooling1D()(y)\n",
    "# y = keras.layers.Dropout(0.1)(y)\n",
    "# y = keras.layers.Dense(embed_dim,activation='gelu')(y)\n",
    "#    y = keras.layers.Dropout(0.5)(y)\n",
    "# y = keras.layers.Dense(10)(y)\n",
    "\n",
    "model = keras.Model(x,y)\n",
    "# model.compile(optimizer=keras.optimizers.Nadam(learning_rate=0.0001),\n",
    "#               loss=keras.losses.SparseCategoricalCrossentropy(from_logits=True),\n",
    "#               metrics=keras.metrics.SparseCategoricalAccuracy())\n",
    "# model.summary()\n",
    "masked_encoder = model\n",
    "# model = keras.Model(x,temp)\n",
    "# keras.utils.plot_model(model,show_shapes=True,expand_nested=True)"
   ]
  },
  {
   "cell_type": "code",
   "execution_count": 15,
   "metadata": {
    "tags": []
   },
   "outputs": [
    {
     "name": "stdout",
     "output_type": "stream",
     "text": [
      "Model: \"model_1\"\n",
      "__________________________________________________________________________________________________\n",
      " Layer (type)                   Output Shape         Param #     Connected to                     \n",
      "==================================================================================================\n",
      " input_2 (InputLayer)           [(None, 28, 28)]     0           []                               \n",
      "                                                                                                  \n",
      " tf.expand_dims_1 (TFOpLambda)  (None, 28, 28, 1)    0           ['input_2[0][0]']                \n",
      "                                                                                                  \n",
      " conv2d_1 (Conv2D)              (None, 7, 7, 64)     1088        ['tf.expand_dims_1[0][0]']       \n",
      "                                                                                                  \n",
      " reshape_1 (Reshape)            (None, 49, 64)       0           ['conv2d_1[0][0]']               \n",
      "                                                                                                  \n",
      " position_embedding_1 (Position  (None, 49, 64)      3136        ['reshape_1[0][0]']              \n",
      " Embedding)                                                                                       \n",
      "                                                                                                  \n",
      " lambda_1 (Lambda)              (None, 1)            0           ['position_embedding_1[0][0]']   \n",
      "                                                                                                  \n",
      " embedding_3 (Embedding)        (None, 1, 64)        64          ['lambda_1[0][0]']               \n",
      "                                                                                                  \n",
      " concatenate_1 (Concatenate)    (None, 50, 64)       0           ['embedding_3[0][0]',            \n",
      "                                                                  'position_embedding_1[0][0]']   \n",
      "                                                                                                  \n",
      " transformer_block_2 (Transform  ((None, 50, 64),    169088      ['concatenate_1[0][0]']          \n",
      " erBlock)                        (None, 6, 50, 50))                                               \n",
      "                                                                                                  \n",
      " transformer_block_3 (Transform  ((None, 50, 64),    169088      ['transformer_block_2[0][0]']    \n",
      " erBlock)                        (None, 6, 50, 50))                                               \n",
      "                                                                                                  \n",
      " global_average_pooling1d_1 (Gl  (None, 64)          0           ['transformer_block_3[0][0]']    \n",
      " obalAveragePooling1D)                                                                            \n",
      "                                                                                                  \n",
      "==================================================================================================\n",
      "Total params: 342,464\n",
      "Trainable params: 342,464\n",
      "Non-trainable params: 0\n",
      "__________________________________________________________________________________________________\n"
     ]
    }
   ],
   "source": [
    "embed_dim = 64\n",
    "kernel = 4\n",
    "num_heads = 6\n",
    "ff_dim = 512\n",
    "stack = 2\n",
    "\n",
    "# Note the input size (there is only one channel - intensity)\n",
    "# these images... if you are using color images, your would\n",
    "# need to set the last dimension of the input_shape to -3-\n",
    "# above and this would carry over into this cell...\n",
    "y = x = keras.layers.Input(shape=x_train.shape[1:])\n",
    "# This layer will just be passed a constant integer for\n",
    "# embedding (class token - see the ViT paper)\n",
    "# input_class = keras.layers.Input(shape=(1,))\n",
    "\n",
    "# Patches\n",
    "y = keras.layers.Conv2D(embed_dim,\n",
    "                        kernel_size=(kernel,kernel),\n",
    "                        strides=(kernel,kernel))(tf.expand_dims(y,-1))\n",
    "# Hybrid CNN\n",
    "# y = keras.layers.Conv2D(embed_dim*2,\n",
    "#                         kernel_size=(5, 5),\n",
    "#                         strides=2,\n",
    "#                         activation='gelu')(y)\n",
    "# y = keras.layers.Conv2D(embed_dim,\n",
    "#                         kernel_size=(5, 5),\n",
    "#                         strides=2,\n",
    "#                         activation='gelu')(y)\n",
    "\n",
    "# Flatten 2D arrangement to 1D arrangement of tokens\n",
    "y = keras.layers.Reshape((-1,embed_dim))(y)\n",
    "y = PositionEmbedding(y.shape[-2],embed_dim)(y)\n",
    "\n",
    "# Create class token\n",
    "c = keras.layers.Lambda(lambda x: tf.tile(tf.constant([[0]]),(tf.shape(x)[0],1)))(y)\n",
    "c = keras.layers.Embedding(input_dim=1,output_dim=embed_dim)(c)\n",
    "\n",
    "# Prepend class token\n",
    "y = keras.layers.Concatenate(axis=1)([c,y])\n",
    "\n",
    "for _ in range(stack):\n",
    "    y = TransformerBlock(embed_dim, num_heads, ff_dim)(y)[0]\n",
    "# Lambda layer is like the ViT the paper...\n",
    "# y = keras.layers.Lambda(lambda x: x[:,0,:])(y)\n",
    "# Use the following -instead- of Lambda is common in other\n",
    "# models I have seen... probably not important though\n",
    "y = keras.layers.GlobalAveragePooling1D()(y)\n",
    "# y = keras.layers.Dropout(0.1)(y)\n",
    "# y = keras.layers.Dense(embed_dim,activation='gelu')(y)\n",
    "#    y = keras.layers.Dropout(0.5)(y)\n",
    "# y = keras.layers.Dense(10)(y)\n",
    "\n",
    "model = keras.Model(x,y)\n",
    "# model.compile(optimizer=keras.optimizers.Nadam(learning_rate=0.0001),\n",
    "#               loss=keras.losses.SparseCategoricalCrossentropy(from_logits=True),\n",
    "#               metrics=keras.metrics.SparseCategoricalAccuracy())\n",
    "model.summary()\n",
    "unmasked_encoder = model\n",
    "# keras.utils.plot_model(model,show_shapes=True,expand_nested=True)"
   ]
  },
  {
   "cell_type": "markdown",
   "metadata": {},
   "source": [
    "### Note: This metric only *correlates* with accuracy\n",
    "\n",
    "This is an approximate accuracy which doesn't really track the model's actual performance, and is just used here as a metric to show progress."
   ]
  },
  {
   "cell_type": "code",
   "execution_count": 16,
   "metadata": {
    "tags": []
   },
   "outputs": [],
   "source": [
    "accuracy = keras.metrics.SparseCategoricalAccuracy()\n",
    "def ContrastiveAccuracy(y_true, y_pred):\n",
    "    # return accuracy(y_true[tf.argmax(y_pred,-1)],\n",
    "    #                 y_pred)\n",
    "    acc_masked = accuracy(y_true, y_pred)\n",
    "    acc_unmasked = accuracy(y_true, tf.transpose(y_pred))\n",
    "    acc = (acc_masked + acc_unmasked) / 2.0\n",
    "    return acc"
   ]
  },
  {
   "cell_type": "code",
   "execution_count": 17,
   "metadata": {
    "tags": []
   },
   "outputs": [],
   "source": [
    "class ContrastiveModel(tf.keras.Model):\n",
    "    def __init__(\n",
    "        self,\n",
    "        masked_encoder: tf.keras.Model,\n",
    "        unmasked_encoder: tf.keras.Model,\n",
    "        embed_dim: int = 512,\n",
    "        **kwargs\n",
    "    ):\n",
    "        super().__init__(**kwargs)\n",
    "        self.masked_encoder = masked_encoder\n",
    "        self.unmasked_encoder = unmasked_encoder\n",
    "\n",
    "#         self.masked_encoder.trainable = False\n",
    "#         self.unmasked_encoder.trainable = False\n",
    "\n",
    "        self.embed_dim = embed_dim\n",
    "        self.W_masked = tf.keras.layers.Dense(\n",
    "            self.embed_dim,\n",
    "            # input_shape=self.masked_encoder.output_shape[-1],\n",
    "            use_bias=False)\n",
    "        self.W_unmasked = tf.keras.layers.Dense(\n",
    "            self.embed_dim,\n",
    "            # input_shape=self.unmasked_encoder.output_shape[-1],\n",
    "            use_bias=False)\n",
    "        self.t = self.add_weight(\n",
    "            name=\"Temperature\",\n",
    "            shape=None,\n",
    "            trainable=True\n",
    "        )\n",
    "\n",
    "    def compile(self, *args, **kwargs):\n",
    "        return super().compile(\n",
    "            *args,\n",
    "            loss=tf.keras.losses.SparseCategoricalCrossentropy(from_logits=True),\n",
    "            **kwargs)\n",
    "\n",
    "    def test_step(self, data):\n",
    "        n = tf.shape(data[0])[0]\n",
    "        y_true = tf.range(n)\n",
    "        y_pred = self(data, training=False)\n",
    "        loss_masked = self.compiled_loss(y_true, y_pred)\n",
    "        loss_unmasked = self.compiled_loss(y_true, tf.transpose(y_pred))\n",
    "        loss = (loss_masked + loss_unmasked) / 2.0\n",
    "        self.compiled_metrics.update_state(y_true, y_pred)\n",
    "        return {m.name: m.result() for m in self.metrics}\n",
    "    \n",
    "    def train_step(self, data):\n",
    "        n = tf.shape(data[0])[0]\n",
    "        y_true = tf.range(n)\n",
    "        with tf.GradientTape() as tape:\n",
    "            y_pred = self(data, training=True)\n",
    "            loss_masked = self.compiled_loss(y_true, y_pred)\n",
    "            loss_unmasked = self.compiled_loss(y_true, tf.transpose(y_pred))\n",
    "            loss = (loss_masked + loss_unmasked) / 2.0\n",
    "        grads = tape.gradient(loss, self.trainable_weights)\n",
    "        self.optimizer.apply_gradients(zip(grads, self.trainable_weights))\n",
    "        self.compiled_metrics.update_state(y_true, y_pred)\n",
    "        return {m.name: m.result() for m in self.metrics}\n",
    "\n",
    "    def call(self, inputs, training=False):\n",
    "        # Get the images from input\n",
    "        masked_images, unmasked_images = inputs[0], inputs[1]\n",
    "\n",
    "        # Embed them using the encoders\n",
    "        masked_features = self.masked_encoder(masked_images)\n",
    "        unmasked_features = self.unmasked_encoder(unmasked_images)\n",
    "\n",
    "        # Joint multimodal embedding\n",
    "        masked_embeddings = self.W_masked(masked_features)\n",
    "        unmasked_embeddings = self.W_unmasked(unmasked_features)\n",
    "\n",
    "        # Normalize\n",
    "        masked_embeddings = masked_embeddings / tf.norm(masked_embeddings)\n",
    "        unmasked_embeddings = unmasked_embeddings / tf.norm(unmasked_embeddings)\n",
    "\n",
    "        logits = tf.tensordot(masked_embeddings, tf.transpose(unmasked_embeddings), axes=1) * tf.exp(self.t)\n",
    "\n",
    "        return logits"
   ]
  },
  {
   "cell_type": "code",
   "execution_count": 18,
   "metadata": {
    "tags": []
   },
   "outputs": [],
   "source": [
    "cm = ContrastiveModel(masked_encoder, unmasked_encoder)\n",
    "cm.compile(\n",
    "    optimizer=tf.keras.optimizers.Adam(),\n",
    "    metrics=[\n",
    "        ContrastiveAccuracy\n",
    "    ],\n",
    "    run_eagerly=False # Set to true to debug\n",
    ")"
   ]
  },
  {
   "cell_type": "code",
   "execution_count": 19,
   "metadata": {},
   "outputs": [
    {
     "data": {
      "text/plain": [
       "(4, 28, 28)"
      ]
     },
     "execution_count": 19,
     "metadata": {},
     "output_type": "execute_result"
    }
   ],
   "source": [
    "data[0][1][:4].shape"
   ]
  },
  {
   "cell_type": "code",
   "execution_count": 20,
   "metadata": {
    "tags": []
   },
   "outputs": [
    {
     "name": "stderr",
     "output_type": "stream",
     "text": [
      "2023-12-11 18:18:01.213964: I tensorflow/compiler/xla/stream_executor/cuda/cuda_dnn.cc:424] Loaded cuDNN version 8800\n"
     ]
    },
    {
     "data": {
      "text/plain": [
       "<tf.Tensor: shape=(4, 4), dtype=float32, numpy=\n",
       "array([[-0.00832582, -0.00785728, -0.00640082, -0.01011904],\n",
       "       [-0.00458156, -0.00336003, -0.00273784, -0.00630155],\n",
       "       [-0.00623451, -0.00656486, -0.00542668, -0.00913957],\n",
       "       [-0.00815359, -0.00788638, -0.00676085, -0.0105783 ]],\n",
       "      dtype=float32)>"
      ]
     },
     "execution_count": 20,
     "metadata": {},
     "output_type": "execute_result"
    }
   ],
   "source": [
    "cm((data[0][0][:4],data[0][1][:4]))"
   ]
  },
  {
   "cell_type": "code",
   "execution_count": 21,
   "metadata": {
    "tags": []
   },
   "outputs": [],
   "source": [
    "training_data = DataGenerator(x_train, y_train, batch_size=32, rng=np.random.default_rng(0), min_crop = 0.4, max_crop = 1)\n",
    "# No cropping\n",
    "validation_data = DataGenerator(x_val, y_val, batch_size=32, rng=np.random.default_rng(0), min_crop = 1, max_crop = 1)"
   ]
  },
  {
   "cell_type": "code",
   "execution_count": 22,
   "metadata": {
    "tags": []
   },
   "outputs": [
    {
     "data": {
      "text/plain": [
       "32"
      ]
     },
     "execution_count": 22,
     "metadata": {},
     "output_type": "execute_result"
    }
   ],
   "source": [
    "len(training_data[0][0])"
   ]
  },
  {
   "cell_type": "code",
   "execution_count": 23,
   "metadata": {
    "tags": []
   },
   "outputs": [
    {
     "data": {
      "text/plain": [
       "<tf.Tensor: shape=(32, 32), dtype=float32, numpy=\n",
       "array([[-9.31109127e-04, -5.88802097e-04, -1.16842764e-03, ...,\n",
       "        -9.61535377e-04, -1.43894786e-03, -1.39971741e-03],\n",
       "       [-8.02952971e-04, -4.36416740e-04, -9.38789512e-04, ...,\n",
       "        -7.45000143e-04, -1.19403412e-03, -1.19864906e-03],\n",
       "       [-7.25947670e-04, -2.89749354e-04, -8.51300429e-04, ...,\n",
       "        -6.45881228e-04, -1.08295667e-03, -9.08498769e-04],\n",
       "       ...,\n",
       "       [-6.95080962e-04, -2.43185030e-04, -8.55666120e-04, ...,\n",
       "        -5.64623624e-04, -1.05300616e-03, -9.63798957e-04],\n",
       "       [-5.51610428e-04, -1.13448295e-04, -7.25477817e-04, ...,\n",
       "        -4.41897399e-04, -9.32432420e-04, -9.46076994e-04],\n",
       "       [-1.28518790e-04,  3.51093564e-04, -1.85409968e-04, ...,\n",
       "        -3.38494510e-06, -2.85431684e-04, -3.59747704e-04]], dtype=float32)>"
      ]
     },
     "execution_count": 23,
     "metadata": {},
     "output_type": "execute_result"
    }
   ],
   "source": [
    "cm(validation_data[0])"
   ]
  },
  {
   "cell_type": "code",
   "execution_count": 24,
   "metadata": {
    "tags": []
   },
   "outputs": [
    {
     "data": {
      "text/plain": [
       "<tf.Tensor: shape=(), dtype=float32, numpy=0.03125>"
      ]
     },
     "execution_count": 24,
     "metadata": {},
     "output_type": "execute_result"
    }
   ],
   "source": [
    "ContrastiveAccuracy(np.arange(validation_data[0][0].shape[0]),cm(validation_data[0]))"
   ]
  },
  {
   "cell_type": "code",
   "execution_count": 25,
   "metadata": {
    "scrolled": true,
    "tags": []
   },
   "outputs": [
    {
     "name": "stdout",
     "output_type": "stream",
     "text": [
      "Epoch 1/300\n"
     ]
    },
    {
     "name": "stderr",
     "output_type": "stream",
     "text": [
      "2023-12-11 18:18:02.569323: I tensorflow/core/common_runtime/executor.cc:1197] [/device:CPU:0] (DEBUG INFO) Executor start aborting (this does not indicate an error and you can ignore this message): INVALID_ARGUMENT: You must feed a value for placeholder tensor 'Placeholder/_0' with dtype int32\n",
      "\t [[{{node Placeholder/_0}}]]\n",
      "2023-12-11 18:18:09.961724: I tensorflow/compiler/xla/service/service.cc:169] XLA service 0x55af9c565430 initialized for platform CUDA (this does not guarantee that XLA will be used). Devices:\n",
      "2023-12-11 18:18:09.961963: I tensorflow/compiler/xla/service/service.cc:177]   StreamExecutor device (0): NVIDIA GeForce RTX 2080 Ti, Compute Capability 7.5\n",
      "2023-12-11 18:18:10.047242: I tensorflow/compiler/mlir/tensorflow/utils/dump_mlir_util.cc:269] disabling MLIR crash reproducer, set env var `MLIR_CRASH_REPRODUCER_DIRECTORY` to enable.\n",
      "2023-12-11 18:18:10.501444: I ./tensorflow/compiler/jit/device_compiler.h:180] Compiled cluster using XLA!  This line is logged at most once for the lifetime of the process.\n"
     ]
    },
    {
     "name": "stdout",
     "output_type": "stream",
     "text": [
      "100/100 [==============================] - ETA: 0s - loss: 3.4587 - ContrastiveAccuracy: 0.0502"
     ]
    },
    {
     "name": "stderr",
     "output_type": "stream",
     "text": [
      "2023-12-11 18:18:25.673985: I tensorflow/core/common_runtime/executor.cc:1197] [/device:CPU:0] (DEBUG INFO) Executor start aborting (this does not indicate an error and you can ignore this message): INVALID_ARGUMENT: You must feed a value for placeholder tensor 'Placeholder/_0' with dtype int32\n",
      "\t [[{{node Placeholder/_0}}]]\n"
     ]
    },
    {
     "name": "stdout",
     "output_type": "stream",
     "text": [
      "100/100 [==============================] - 24s 111ms/step - loss: 3.4587 - ContrastiveAccuracy: 0.0502 - val_loss: 3.4584 - val_ContrastiveAccuracy: 0.0555\n",
      "Epoch 2/300\n",
      "100/100 [==============================] - 10s 103ms/step - loss: 3.4553 - ContrastiveAccuracy: 0.0573 - val_loss: 3.4585 - val_ContrastiveAccuracy: 0.0577\n",
      "Epoch 3/300\n",
      "100/100 [==============================] - 10s 103ms/step - loss: 3.4542 - ContrastiveAccuracy: 0.0579 - val_loss: 3.4506 - val_ContrastiveAccuracy: 0.0580\n",
      "Epoch 4/300\n",
      "100/100 [==============================] - 10s 103ms/step - loss: 3.4520 - ContrastiveAccuracy: 0.0581 - val_loss: 3.4519 - val_ContrastiveAccuracy: 0.0582\n",
      "Epoch 5/300\n",
      "100/100 [==============================] - 10s 103ms/step - loss: 3.4495 - ContrastiveAccuracy: 0.0584 - val_loss: 3.4453 - val_ContrastiveAccuracy: 0.0586\n",
      "Epoch 6/300\n",
      "100/100 [==============================] - 10s 102ms/step - loss: 3.4453 - ContrastiveAccuracy: 0.0588 - val_loss: 3.4355 - val_ContrastiveAccuracy: 0.0590\n",
      "Epoch 7/300\n",
      "100/100 [==============================] - 10s 102ms/step - loss: 3.4431 - ContrastiveAccuracy: 0.0590 - val_loss: 3.4349 - val_ContrastiveAccuracy: 0.0591\n",
      "Epoch 8/300\n",
      "100/100 [==============================] - 10s 102ms/step - loss: 3.4394 - ContrastiveAccuracy: 0.0592 - val_loss: 3.4433 - val_ContrastiveAccuracy: 0.0593\n",
      "Epoch 9/300\n",
      "100/100 [==============================] - 10s 102ms/step - loss: 3.4358 - ContrastiveAccuracy: 0.0593 - val_loss: 3.4386 - val_ContrastiveAccuracy: 0.0593\n",
      "Epoch 10/300\n",
      "100/100 [==============================] - 10s 102ms/step - loss: 3.4283 - ContrastiveAccuracy: 0.0593 - val_loss: 3.4178 - val_ContrastiveAccuracy: 0.0594\n",
      "Epoch 11/300\n",
      "100/100 [==============================] - 10s 102ms/step - loss: 3.4225 - ContrastiveAccuracy: 0.0594 - val_loss: 3.4183 - val_ContrastiveAccuracy: 0.0595\n",
      "Epoch 12/300\n",
      "100/100 [==============================] - 10s 102ms/step - loss: 3.4159 - ContrastiveAccuracy: 0.0596 - val_loss: 3.4060 - val_ContrastiveAccuracy: 0.0596\n",
      "Epoch 13/300\n",
      "100/100 [==============================] - 10s 102ms/step - loss: 3.4060 - ContrastiveAccuracy: 0.0597 - val_loss: 3.3900 - val_ContrastiveAccuracy: 0.0597\n",
      "Epoch 14/300\n",
      "100/100 [==============================] - 10s 102ms/step - loss: 3.3989 - ContrastiveAccuracy: 0.0598 - val_loss: 3.3870 - val_ContrastiveAccuracy: 0.0598\n",
      "Epoch 15/300\n",
      "100/100 [==============================] - 10s 102ms/step - loss: 3.3879 - ContrastiveAccuracy: 0.0598 - val_loss: 3.3687 - val_ContrastiveAccuracy: 0.0599\n",
      "Epoch 16/300\n",
      "100/100 [==============================] - 10s 101ms/step - loss: 3.3717 - ContrastiveAccuracy: 0.0599 - val_loss: 3.3696 - val_ContrastiveAccuracy: 0.0600\n",
      "Epoch 17/300\n",
      "100/100 [==============================] - 10s 102ms/step - loss: 3.3540 - ContrastiveAccuracy: 0.0600 - val_loss: 3.3458 - val_ContrastiveAccuracy: 0.0601\n",
      "Epoch 18/300\n",
      "100/100 [==============================] - 10s 101ms/step - loss: 3.3406 - ContrastiveAccuracy: 0.0601 - val_loss: 3.2964 - val_ContrastiveAccuracy: 0.0602\n",
      "Epoch 19/300\n",
      "100/100 [==============================] - 10s 101ms/step - loss: 3.3199 - ContrastiveAccuracy: 0.0602 - val_loss: 3.2661 - val_ContrastiveAccuracy: 0.0602\n",
      "Epoch 20/300\n",
      "100/100 [==============================] - 10s 102ms/step - loss: 3.3109 - ContrastiveAccuracy: 0.0603 - val_loss: 3.2481 - val_ContrastiveAccuracy: 0.0603\n",
      "Epoch 21/300\n",
      "100/100 [==============================] - 10s 102ms/step - loss: 3.2733 - ContrastiveAccuracy: 0.0603 - val_loss: 3.2201 - val_ContrastiveAccuracy: 0.0604\n",
      "Epoch 22/300\n",
      "100/100 [==============================] - 10s 102ms/step - loss: 3.2512 - ContrastiveAccuracy: 0.0604 - val_loss: 3.1858 - val_ContrastiveAccuracy: 0.0604\n",
      "Epoch 23/300\n",
      "100/100 [==============================] - 10s 102ms/step - loss: 3.2272 - ContrastiveAccuracy: 0.0605 - val_loss: 3.1447 - val_ContrastiveAccuracy: 0.0605\n",
      "Epoch 24/300\n",
      "100/100 [==============================] - 10s 101ms/step - loss: 3.2085 - ContrastiveAccuracy: 0.0605 - val_loss: 3.1130 - val_ContrastiveAccuracy: 0.0605\n",
      "Epoch 25/300\n",
      "100/100 [==============================] - 10s 102ms/step - loss: 3.1846 - ContrastiveAccuracy: 0.0606 - val_loss: 3.0718 - val_ContrastiveAccuracy: 0.0606\n",
      "Epoch 26/300\n",
      "100/100 [==============================] - 10s 101ms/step - loss: 3.1773 - ContrastiveAccuracy: 0.0606 - val_loss: 3.0656 - val_ContrastiveAccuracy: 0.0607\n",
      "Epoch 27/300\n",
      "100/100 [==============================] - 10s 101ms/step - loss: 3.1592 - ContrastiveAccuracy: 0.0607 - val_loss: 3.0381 - val_ContrastiveAccuracy: 0.0607\n",
      "Epoch 28/300\n",
      "100/100 [==============================] - 10s 102ms/step - loss: 3.1398 - ContrastiveAccuracy: 0.0607 - val_loss: 3.0026 - val_ContrastiveAccuracy: 0.0607\n",
      "Epoch 29/300\n",
      "100/100 [==============================] - 10s 101ms/step - loss: 3.1479 - ContrastiveAccuracy: 0.0608 - val_loss: 2.9984 - val_ContrastiveAccuracy: 0.0608\n",
      "Epoch 30/300\n",
      "100/100 [==============================] - 10s 101ms/step - loss: 3.1439 - ContrastiveAccuracy: 0.0608 - val_loss: 3.0248 - val_ContrastiveAccuracy: 0.0608\n",
      "Epoch 31/300\n",
      "100/100 [==============================] - 10s 101ms/step - loss: 3.1329 - ContrastiveAccuracy: 0.0608 - val_loss: 3.0142 - val_ContrastiveAccuracy: 0.0609\n",
      "Epoch 32/300\n",
      "100/100 [==============================] - 10s 101ms/step - loss: 3.1002 - ContrastiveAccuracy: 0.0609 - val_loss: 2.9293 - val_ContrastiveAccuracy: 0.0613\n",
      "Epoch 33/300\n",
      "100/100 [==============================] - 10s 102ms/step - loss: 3.0621 - ContrastiveAccuracy: 0.0617 - val_loss: 2.8733 - val_ContrastiveAccuracy: 0.0623\n",
      "Epoch 34/300\n",
      "100/100 [==============================] - 10s 101ms/step - loss: 3.0335 - ContrastiveAccuracy: 0.0629 - val_loss: 2.9330 - val_ContrastiveAccuracy: 0.0634\n",
      "Epoch 35/300\n",
      "100/100 [==============================] - 10s 101ms/step - loss: 2.9862 - ContrastiveAccuracy: 0.0640 - val_loss: 2.7679 - val_ContrastiveAccuracy: 0.0648\n",
      "Epoch 36/300\n",
      "100/100 [==============================] - 10s 101ms/step - loss: 2.9477 - ContrastiveAccuracy: 0.0655 - val_loss: 2.7679 - val_ContrastiveAccuracy: 0.0664\n",
      "Epoch 37/300\n",
      "100/100 [==============================] - 10s 101ms/step - loss: 2.9009 - ContrastiveAccuracy: 0.0674 - val_loss: 2.6552 - val_ContrastiveAccuracy: 0.0684\n",
      "Epoch 38/300\n",
      "100/100 [==============================] - 10s 101ms/step - loss: 2.8661 - ContrastiveAccuracy: 0.0694 - val_loss: 2.5828 - val_ContrastiveAccuracy: 0.0705\n",
      "Epoch 39/300\n",
      "100/100 [==============================] - 10s 101ms/step - loss: 2.8339 - ContrastiveAccuracy: 0.0716 - val_loss: 2.5791 - val_ContrastiveAccuracy: 0.0727\n",
      "Epoch 40/300\n",
      "100/100 [==============================] - 10s 101ms/step - loss: 2.8107 - ContrastiveAccuracy: 0.0737 - val_loss: 2.5427 - val_ContrastiveAccuracy: 0.0748\n",
      "Epoch 41/300\n",
      "100/100 [==============================] - 10s 102ms/step - loss: 2.8284 - ContrastiveAccuracy: 0.0758 - val_loss: 2.5203 - val_ContrastiveAccuracy: 0.0769\n",
      "Epoch 42/300\n",
      "100/100 [==============================] - 10s 101ms/step - loss: 2.8056 - ContrastiveAccuracy: 0.0779 - val_loss: 2.5010 - val_ContrastiveAccuracy: 0.0790\n",
      "Epoch 43/300\n",
      "100/100 [==============================] - 10s 101ms/step - loss: 2.7867 - ContrastiveAccuracy: 0.0800 - val_loss: 2.5082 - val_ContrastiveAccuracy: 0.0810\n",
      "Epoch 44/300\n",
      "100/100 [==============================] - 10s 101ms/step - loss: 2.7801 - ContrastiveAccuracy: 0.0820 - val_loss: 2.5190 - val_ContrastiveAccuracy: 0.0829\n",
      "Epoch 45/300\n",
      "100/100 [==============================] - 10s 101ms/step - loss: 2.7682 - ContrastiveAccuracy: 0.0838 - val_loss: 2.4714 - val_ContrastiveAccuracy: 0.0848\n",
      "Epoch 46/300\n",
      "100/100 [==============================] - 10s 101ms/step - loss: 2.7077 - ContrastiveAccuracy: 0.0859 - val_loss: 2.3589 - val_ContrastiveAccuracy: 0.0871\n",
      "Epoch 47/300\n",
      "100/100 [==============================] - 10s 101ms/step - loss: 2.6333 - ContrastiveAccuracy: 0.0885 - val_loss: 2.3677 - val_ContrastiveAccuracy: 0.0898\n",
      "Epoch 48/300\n",
      "100/100 [==============================] - 10s 101ms/step - loss: 2.5755 - ContrastiveAccuracy: 0.0912 - val_loss: 2.2002 - val_ContrastiveAccuracy: 0.0929\n",
      "Epoch 49/300\n",
      "100/100 [==============================] - 10s 102ms/step - loss: 2.5609 - ContrastiveAccuracy: 0.0946 - val_loss: 2.1530 - val_ContrastiveAccuracy: 0.0962\n",
      "Epoch 50/300\n",
      "100/100 [==============================] - 10s 101ms/step - loss: 2.5640 - ContrastiveAccuracy: 0.0978 - val_loss: 2.1653 - val_ContrastiveAccuracy: 0.0993\n",
      "Epoch 51/300\n",
      "100/100 [==============================] - 10s 101ms/step - loss: 2.5541 - ContrastiveAccuracy: 0.1008 - val_loss: 2.1007 - val_ContrastiveAccuracy: 0.1024\n",
      "Epoch 52/300\n",
      "100/100 [==============================] - 10s 101ms/step - loss: 2.5300 - ContrastiveAccuracy: 0.1041 - val_loss: 2.0962 - val_ContrastiveAccuracy: 0.1057\n",
      "Epoch 53/300\n",
      "100/100 [==============================] - 10s 101ms/step - loss: 2.5371 - ContrastiveAccuracy: 0.1074 - val_loss: 2.0577 - val_ContrastiveAccuracy: 0.1090\n",
      "Epoch 54/300\n",
      "100/100 [==============================] - 10s 101ms/step - loss: 2.4991 - ContrastiveAccuracy: 0.1107 - val_loss: 2.0006 - val_ContrastiveAccuracy: 0.1125\n",
      "Epoch 55/300\n",
      "100/100 [==============================] - 10s 101ms/step - loss: 2.4711 - ContrastiveAccuracy: 0.1143 - val_loss: 1.9507 - val_ContrastiveAccuracy: 0.1161\n",
      "Epoch 56/300\n",
      "100/100 [==============================] - 10s 101ms/step - loss: 2.4500 - ContrastiveAccuracy: 0.1179 - val_loss: 1.9542 - val_ContrastiveAccuracy: 0.1196\n",
      "Epoch 57/300\n",
      "100/100 [==============================] - 10s 101ms/step - loss: 2.4124 - ContrastiveAccuracy: 0.1214 - val_loss: 1.8495 - val_ContrastiveAccuracy: 0.1231\n",
      "Epoch 58/300\n",
      "100/100 [==============================] - 10s 102ms/step - loss: 2.4418 - ContrastiveAccuracy: 0.1248 - val_loss: 1.9011 - val_ContrastiveAccuracy: 0.1264\n",
      "Epoch 59/300\n",
      "100/100 [==============================] - 10s 101ms/step - loss: 2.4736 - ContrastiveAccuracy: 0.1280 - val_loss: 1.9579 - val_ContrastiveAccuracy: 0.1295\n",
      "Epoch 60/300\n",
      "100/100 [==============================] - 10s 102ms/step - loss: 2.4468 - ContrastiveAccuracy: 0.1310 - val_loss: 1.9130 - val_ContrastiveAccuracy: 0.1326\n",
      "Epoch 61/300\n",
      "100/100 [==============================] - 10s 101ms/step - loss: 2.3853 - ContrastiveAccuracy: 0.1340 - val_loss: 1.8869 - val_ContrastiveAccuracy: 0.1357\n",
      "Epoch 62/300\n",
      "100/100 [==============================] - 10s 101ms/step - loss: 2.4532 - ContrastiveAccuracy: 0.1375 - val_loss: 1.9419 - val_ContrastiveAccuracy: 0.1389\n",
      "Epoch 63/300\n",
      "100/100 [==============================] - 10s 101ms/step - loss: 2.4037 - ContrastiveAccuracy: 0.1402 - val_loss: 1.8189 - val_ContrastiveAccuracy: 0.1418\n",
      "Epoch 64/300\n",
      "100/100 [==============================] - 10s 101ms/step - loss: 2.3965 - ContrastiveAccuracy: 0.1434 - val_loss: 1.8335 - val_ContrastiveAccuracy: 0.1449\n",
      "Epoch 65/300\n",
      "100/100 [==============================] - 10s 101ms/step - loss: 2.4065 - ContrastiveAccuracy: 0.1464 - val_loss: 1.8223 - val_ContrastiveAccuracy: 0.1480\n",
      "Epoch 66/300\n",
      "100/100 [==============================] - 10s 101ms/step - loss: 2.3905 - ContrastiveAccuracy: 0.1497 - val_loss: 1.8554 - val_ContrastiveAccuracy: 0.1511\n",
      "Epoch 67/300\n",
      "100/100 [==============================] - 10s 101ms/step - loss: 2.3439 - ContrastiveAccuracy: 0.1525 - val_loss: 1.8196 - val_ContrastiveAccuracy: 0.1540\n",
      "Epoch 68/300\n",
      "100/100 [==============================] - 10s 101ms/step - loss: 2.3657 - ContrastiveAccuracy: 0.1554 - val_loss: 1.7602 - val_ContrastiveAccuracy: 0.1568\n",
      "Epoch 69/300\n",
      "100/100 [==============================] - 10s 102ms/step - loss: 2.3849 - ContrastiveAccuracy: 0.1583 - val_loss: 1.8158 - val_ContrastiveAccuracy: 0.1597\n",
      "Epoch 70/300\n",
      "100/100 [==============================] - 10s 102ms/step - loss: 2.3881 - ContrastiveAccuracy: 0.1611 - val_loss: 1.8017 - val_ContrastiveAccuracy: 0.1625\n",
      "Epoch 71/300\n",
      "100/100 [==============================] - 10s 101ms/step - loss: 2.3584 - ContrastiveAccuracy: 0.1639 - val_loss: 1.7092 - val_ContrastiveAccuracy: 0.1654\n",
      "Epoch 72/300\n",
      "100/100 [==============================] - 10s 101ms/step - loss: 2.3737 - ContrastiveAccuracy: 0.1668 - val_loss: 1.7898 - val_ContrastiveAccuracy: 0.1682\n",
      "Epoch 73/300\n",
      "100/100 [==============================] - 10s 101ms/step - loss: 2.3378 - ContrastiveAccuracy: 0.1697 - val_loss: 1.7866 - val_ContrastiveAccuracy: 0.1710\n",
      "Epoch 74/300\n",
      "100/100 [==============================] - 10s 101ms/step - loss: 2.3150 - ContrastiveAccuracy: 0.1723 - val_loss: 1.8806 - val_ContrastiveAccuracy: 0.1732\n",
      "Epoch 75/300\n",
      "100/100 [==============================] - 10s 101ms/step - loss: 2.3820 - ContrastiveAccuracy: 0.1741 - val_loss: 1.7784 - val_ContrastiveAccuracy: 0.1754\n",
      "Epoch 76/300\n",
      "100/100 [==============================] - 10s 101ms/step - loss: 2.3601 - ContrastiveAccuracy: 0.1768 - val_loss: 1.7733 - val_ContrastiveAccuracy: 0.1781\n",
      "Epoch 77/300\n",
      "100/100 [==============================] - 10s 101ms/step - loss: 2.3135 - ContrastiveAccuracy: 0.1794 - val_loss: 1.7288 - val_ContrastiveAccuracy: 0.1807\n",
      "Epoch 78/300\n",
      "100/100 [==============================] - 10s 101ms/step - loss: 2.3335 - ContrastiveAccuracy: 0.1819 - val_loss: 1.7269 - val_ContrastiveAccuracy: 0.1832\n",
      "Epoch 79/300\n",
      "100/100 [==============================] - 10s 102ms/step - loss: 2.3402 - ContrastiveAccuracy: 0.1844 - val_loss: 1.7445 - val_ContrastiveAccuracy: 0.1857\n",
      "Epoch 80/300\n",
      "100/100 [==============================] - 10s 101ms/step - loss: 2.3393 - ContrastiveAccuracy: 0.1869 - val_loss: 1.6715 - val_ContrastiveAccuracy: 0.1882\n",
      "Epoch 81/300\n",
      "100/100 [==============================] - 10s 102ms/step - loss: 2.3062 - ContrastiveAccuracy: 0.1895 - val_loss: 1.7218 - val_ContrastiveAccuracy: 0.1907\n",
      "Epoch 82/300\n",
      "100/100 [==============================] - 10s 101ms/step - loss: 2.2872 - ContrastiveAccuracy: 0.1920 - val_loss: 1.7302 - val_ContrastiveAccuracy: 0.1931\n",
      "Epoch 83/300\n",
      "100/100 [==============================] - 10s 101ms/step - loss: 2.2983 - ContrastiveAccuracy: 0.1943 - val_loss: 1.6799 - val_ContrastiveAccuracy: 0.1955\n",
      "Epoch 84/300\n",
      "100/100 [==============================] - 10s 101ms/step - loss: 2.2950 - ContrastiveAccuracy: 0.1967 - val_loss: 1.6780 - val_ContrastiveAccuracy: 0.1980\n",
      "Epoch 85/300\n",
      "100/100 [==============================] - 10s 101ms/step - loss: 2.3051 - ContrastiveAccuracy: 0.1992 - val_loss: 1.7391 - val_ContrastiveAccuracy: 0.2004\n",
      "Epoch 86/300\n",
      "100/100 [==============================] - 10s 102ms/step - loss: 2.2229 - ContrastiveAccuracy: 0.2015 - val_loss: 1.7357 - val_ContrastiveAccuracy: 0.2027\n",
      "Epoch 87/300\n",
      "100/100 [==============================] - 10s 102ms/step - loss: 2.2511 - ContrastiveAccuracy: 0.2039 - val_loss: 1.7346 - val_ContrastiveAccuracy: 0.2050\n",
      "Epoch 88/300\n",
      "100/100 [==============================] - 10s 101ms/step - loss: 2.2644 - ContrastiveAccuracy: 0.2061 - val_loss: 1.7257 - val_ContrastiveAccuracy: 0.2072\n",
      "Epoch 89/300\n",
      "100/100 [==============================] - 10s 101ms/step - loss: 2.2350 - ContrastiveAccuracy: 0.2083 - val_loss: 1.6198 - val_ContrastiveAccuracy: 0.2096\n",
      "Epoch 90/300\n",
      "100/100 [==============================] - 10s 102ms/step - loss: 2.1894 - ContrastiveAccuracy: 0.2109 - val_loss: 1.5714 - val_ContrastiveAccuracy: 0.2123\n",
      "Epoch 91/300\n",
      "100/100 [==============================] - 10s 101ms/step - loss: 2.1780 - ContrastiveAccuracy: 0.2138 - val_loss: 1.5498 - val_ContrastiveAccuracy: 0.2152\n",
      "Epoch 92/300\n",
      "100/100 [==============================] - 10s 101ms/step - loss: 2.1274 - ContrastiveAccuracy: 0.2166 - val_loss: 1.6088 - val_ContrastiveAccuracy: 0.2178\n",
      "Epoch 93/300\n",
      "100/100 [==============================] - 10s 101ms/step - loss: 2.1277 - ContrastiveAccuracy: 0.2191 - val_loss: 1.5248 - val_ContrastiveAccuracy: 0.2203\n",
      "Epoch 94/300\n",
      "100/100 [==============================] - 10s 102ms/step - loss: 2.1595 - ContrastiveAccuracy: 0.2215 - val_loss: 1.5570 - val_ContrastiveAccuracy: 0.2228\n",
      "Epoch 95/300\n",
      "100/100 [==============================] - 10s 102ms/step - loss: 2.1164 - ContrastiveAccuracy: 0.2242 - val_loss: 1.6066 - val_ContrastiveAccuracy: 0.2252\n",
      "Epoch 96/300\n",
      "100/100 [==============================] - 10s 102ms/step - loss: 2.1181 - ContrastiveAccuracy: 0.2263 - val_loss: 1.5956 - val_ContrastiveAccuracy: 0.2273\n",
      "Epoch 97/300\n",
      "100/100 [==============================] - 10s 102ms/step - loss: 2.1207 - ContrastiveAccuracy: 0.2284 - val_loss: 1.4454 - val_ContrastiveAccuracy: 0.2298\n",
      "Epoch 98/300\n",
      "100/100 [==============================] - 10s 102ms/step - loss: 2.0802 - ContrastiveAccuracy: 0.2313 - val_loss: 1.3590 - val_ContrastiveAccuracy: 0.2327\n",
      "Epoch 99/300\n",
      "100/100 [==============================] - 10s 101ms/step - loss: 2.1053 - ContrastiveAccuracy: 0.2341 - val_loss: 1.4096 - val_ContrastiveAccuracy: 0.2355\n",
      "Epoch 100/300\n",
      "100/100 [==============================] - 10s 104ms/step - loss: 2.0649 - ContrastiveAccuracy: 0.2368 - val_loss: 1.3410 - val_ContrastiveAccuracy: 0.2381\n",
      "Epoch 101/300\n",
      "100/100 [==============================] - 10s 101ms/step - loss: 2.0397 - ContrastiveAccuracy: 0.2394 - val_loss: 1.3163 - val_ContrastiveAccuracy: 0.2409\n",
      "Epoch 102/300\n",
      "100/100 [==============================] - 10s 101ms/step - loss: 2.0607 - ContrastiveAccuracy: 0.2422 - val_loss: 1.3273 - val_ContrastiveAccuracy: 0.2436\n",
      "Epoch 103/300\n",
      "100/100 [==============================] - 10s 101ms/step - loss: 2.0478 - ContrastiveAccuracy: 0.2450 - val_loss: 1.2907 - val_ContrastiveAccuracy: 0.2463\n",
      "Epoch 104/300\n",
      "100/100 [==============================] - 10s 101ms/step - loss: 2.0470 - ContrastiveAccuracy: 0.2476 - val_loss: 1.4359 - val_ContrastiveAccuracy: 0.2487\n",
      "Epoch 105/300\n",
      "100/100 [==============================] - 10s 101ms/step - loss: 2.0034 - ContrastiveAccuracy: 0.2497 - val_loss: 1.3075 - val_ContrastiveAccuracy: 0.2509\n",
      "Epoch 106/300\n",
      "100/100 [==============================] - 10s 102ms/step - loss: 1.9856 - ContrastiveAccuracy: 0.2521 - val_loss: 1.3119 - val_ContrastiveAccuracy: 0.2534\n",
      "Epoch 107/300\n",
      "100/100 [==============================] - 10s 101ms/step - loss: 2.0012 - ContrastiveAccuracy: 0.2546 - val_loss: 1.2732 - val_ContrastiveAccuracy: 0.2560\n",
      "Epoch 108/300\n",
      "100/100 [==============================] - 10s 102ms/step - loss: 2.0082 - ContrastiveAccuracy: 0.2574 - val_loss: 1.3257 - val_ContrastiveAccuracy: 0.2586\n",
      "Epoch 109/300\n",
      "100/100 [==============================] - 10s 102ms/step - loss: 2.0583 - ContrastiveAccuracy: 0.2598 - val_loss: 1.2890 - val_ContrastiveAccuracy: 0.2609\n",
      "Epoch 110/300\n",
      "100/100 [==============================] - 10s 104ms/step - loss: 1.9550 - ContrastiveAccuracy: 0.2622 - val_loss: 1.2505 - val_ContrastiveAccuracy: 0.2635\n",
      "Epoch 111/300\n",
      "100/100 [==============================] - 10s 101ms/step - loss: 1.9391 - ContrastiveAccuracy: 0.2647 - val_loss: 1.3240 - val_ContrastiveAccuracy: 0.2659\n",
      "Epoch 112/300\n",
      "100/100 [==============================] - 10s 101ms/step - loss: 1.9686 - ContrastiveAccuracy: 0.2671 - val_loss: 1.2524 - val_ContrastiveAccuracy: 0.2684\n",
      "Epoch 113/300\n",
      "100/100 [==============================] - 10s 101ms/step - loss: 1.9915 - ContrastiveAccuracy: 0.2697 - val_loss: 1.2015 - val_ContrastiveAccuracy: 0.2709\n",
      "Epoch 114/300\n",
      "100/100 [==============================] - 10s 102ms/step - loss: 1.9750 - ContrastiveAccuracy: 0.2722 - val_loss: 1.1753 - val_ContrastiveAccuracy: 0.2735\n",
      "Epoch 115/300\n",
      "100/100 [==============================] - 10s 101ms/step - loss: 1.9317 - ContrastiveAccuracy: 0.2748 - val_loss: 1.2090 - val_ContrastiveAccuracy: 0.2760\n",
      "Epoch 116/300\n",
      "100/100 [==============================] - 10s 102ms/step - loss: 1.9020 - ContrastiveAccuracy: 0.2771 - val_loss: 1.3550 - val_ContrastiveAccuracy: 0.2780\n",
      "Epoch 117/300\n",
      "100/100 [==============================] - 10s 102ms/step - loss: 1.9154 - ContrastiveAccuracy: 0.2788 - val_loss: 1.1169 - val_ContrastiveAccuracy: 0.2801\n",
      "Epoch 118/300\n",
      "100/100 [==============================] - 10s 101ms/step - loss: 1.8557 - ContrastiveAccuracy: 0.2813 - val_loss: 1.1960 - val_ContrastiveAccuracy: 0.2824\n",
      "Epoch 119/300\n",
      "100/100 [==============================] - 10s 101ms/step - loss: 1.9590 - ContrastiveAccuracy: 0.2835 - val_loss: 1.1775 - val_ContrastiveAccuracy: 0.2847\n",
      "Epoch 120/300\n",
      "100/100 [==============================] - 10s 101ms/step - loss: 1.9128 - ContrastiveAccuracy: 0.2858 - val_loss: 1.1388 - val_ContrastiveAccuracy: 0.2870\n",
      "Epoch 121/300\n",
      "100/100 [==============================] - 10s 102ms/step - loss: 1.9118 - ContrastiveAccuracy: 0.2882 - val_loss: 1.2394 - val_ContrastiveAccuracy: 0.2893\n",
      "Epoch 122/300\n",
      "100/100 [==============================] - 10s 101ms/step - loss: 1.9028 - ContrastiveAccuracy: 0.2904 - val_loss: 1.1213 - val_ContrastiveAccuracy: 0.2916\n",
      "Epoch 123/300\n",
      "100/100 [==============================] - 10s 101ms/step - loss: 1.8646 - ContrastiveAccuracy: 0.2928 - val_loss: 1.1552 - val_ContrastiveAccuracy: 0.2940\n",
      "Epoch 124/300\n",
      "100/100 [==============================] - 10s 102ms/step - loss: 1.8945 - ContrastiveAccuracy: 0.2951 - val_loss: 1.1556 - val_ContrastiveAccuracy: 0.2963\n",
      "Epoch 125/300\n",
      "100/100 [==============================] - 10s 102ms/step - loss: 1.8757 - ContrastiveAccuracy: 0.2974 - val_loss: 1.1421 - val_ContrastiveAccuracy: 0.2985\n",
      "Epoch 126/300\n",
      "100/100 [==============================] - 10s 101ms/step - loss: 1.8946 - ContrastiveAccuracy: 0.2996 - val_loss: 1.1032 - val_ContrastiveAccuracy: 0.3007\n",
      "Epoch 127/300\n",
      "100/100 [==============================] - 10s 101ms/step - loss: 1.8942 - ContrastiveAccuracy: 0.3019 - val_loss: 1.1089 - val_ContrastiveAccuracy: 0.3031\n",
      "Epoch 128/300\n",
      "100/100 [==============================] - 10s 102ms/step - loss: 1.8529 - ContrastiveAccuracy: 0.3042 - val_loss: 1.2656 - val_ContrastiveAccuracy: 0.3051\n",
      "Epoch 129/300\n",
      "100/100 [==============================] - 10s 101ms/step - loss: 1.9215 - ContrastiveAccuracy: 0.3060 - val_loss: 1.1840 - val_ContrastiveAccuracy: 0.3070\n",
      "Epoch 130/300\n",
      "100/100 [==============================] - 10s 101ms/step - loss: 1.8652 - ContrastiveAccuracy: 0.3079 - val_loss: 1.1805 - val_ContrastiveAccuracy: 0.3089\n",
      "Epoch 131/300\n",
      "100/100 [==============================] - 10s 102ms/step - loss: 1.8895 - ContrastiveAccuracy: 0.3099 - val_loss: 1.2781 - val_ContrastiveAccuracy: 0.3107\n",
      "Epoch 132/300\n",
      "100/100 [==============================] - 10s 102ms/step - loss: 1.8468 - ContrastiveAccuracy: 0.3114 - val_loss: 1.1341 - val_ContrastiveAccuracy: 0.3124\n",
      "Epoch 133/300\n",
      "100/100 [==============================] - 10s 101ms/step - loss: 1.8100 - ContrastiveAccuracy: 0.3134 - val_loss: 1.0983 - val_ContrastiveAccuracy: 0.3144\n",
      "Epoch 134/300\n",
      "100/100 [==============================] - 10s 102ms/step - loss: 1.8619 - ContrastiveAccuracy: 0.3154 - val_loss: 1.1045 - val_ContrastiveAccuracy: 0.3164\n",
      "Epoch 135/300\n",
      "100/100 [==============================] - 10s 102ms/step - loss: 1.7960 - ContrastiveAccuracy: 0.3175 - val_loss: 1.1156 - val_ContrastiveAccuracy: 0.3185\n",
      "Epoch 136/300\n",
      "100/100 [==============================] - 10s 102ms/step - loss: 1.8394 - ContrastiveAccuracy: 0.3194 - val_loss: 1.0900 - val_ContrastiveAccuracy: 0.3204\n",
      "Epoch 137/300\n",
      "100/100 [==============================] - 10s 101ms/step - loss: 1.7938 - ContrastiveAccuracy: 0.3213 - val_loss: 1.0669 - val_ContrastiveAccuracy: 0.3224\n",
      "Epoch 138/300\n",
      "100/100 [==============================] - 10s 102ms/step - loss: 1.7998 - ContrastiveAccuracy: 0.3233 - val_loss: 1.0412 - val_ContrastiveAccuracy: 0.3243\n",
      "Epoch 139/300\n",
      "100/100 [==============================] - 10s 101ms/step - loss: 1.8231 - ContrastiveAccuracy: 0.3253 - val_loss: 1.0960 - val_ContrastiveAccuracy: 0.3262\n",
      "Epoch 140/300\n",
      "100/100 [==============================] - 10s 101ms/step - loss: 1.7933 - ContrastiveAccuracy: 0.3271 - val_loss: 1.1155 - val_ContrastiveAccuracy: 0.3280\n",
      "Epoch 141/300\n",
      "100/100 [==============================] - 10s 101ms/step - loss: 1.8314 - ContrastiveAccuracy: 0.3289 - val_loss: 1.0391 - val_ContrastiveAccuracy: 0.3299\n",
      "Epoch 142/300\n",
      "100/100 [==============================] - 10s 101ms/step - loss: 1.7863 - ContrastiveAccuracy: 0.3308 - val_loss: 1.1166 - val_ContrastiveAccuracy: 0.3317\n",
      "Epoch 143/300\n",
      "100/100 [==============================] - 10s 101ms/step - loss: 1.8288 - ContrastiveAccuracy: 0.3326 - val_loss: 1.0549 - val_ContrastiveAccuracy: 0.3335\n",
      "Epoch 144/300\n",
      "100/100 [==============================] - 10s 101ms/step - loss: 1.7910 - ContrastiveAccuracy: 0.3345 - val_loss: 1.0417 - val_ContrastiveAccuracy: 0.3355\n",
      "Epoch 145/300\n",
      "100/100 [==============================] - 10s 102ms/step - loss: 1.7616 - ContrastiveAccuracy: 0.3364 - val_loss: 1.1613 - val_ContrastiveAccuracy: 0.3372\n",
      "Epoch 146/300\n",
      "100/100 [==============================] - 10s 102ms/step - loss: 1.8015 - ContrastiveAccuracy: 0.3379 - val_loss: 1.0874 - val_ContrastiveAccuracy: 0.3387\n",
      "Epoch 147/300\n",
      "100/100 [==============================] - 10s 101ms/step - loss: 1.7850 - ContrastiveAccuracy: 0.3395 - val_loss: 1.0725 - val_ContrastiveAccuracy: 0.3404\n",
      "Epoch 148/300\n",
      "100/100 [==============================] - 10s 102ms/step - loss: 1.7603 - ContrastiveAccuracy: 0.3414 - val_loss: 1.1050 - val_ContrastiveAccuracy: 0.3423\n",
      "Epoch 149/300\n",
      "100/100 [==============================] - 10s 101ms/step - loss: 1.7728 - ContrastiveAccuracy: 0.3432 - val_loss: 1.0793 - val_ContrastiveAccuracy: 0.3440\n",
      "Epoch 150/300\n",
      "100/100 [==============================] - 10s 101ms/step - loss: 1.7425 - ContrastiveAccuracy: 0.3449 - val_loss: 1.0221 - val_ContrastiveAccuracy: 0.3459\n",
      "Epoch 151/300\n",
      "100/100 [==============================] - 10s 102ms/step - loss: 1.7313 - ContrastiveAccuracy: 0.3468 - val_loss: 1.0483 - val_ContrastiveAccuracy: 0.3477\n",
      "Epoch 152/300\n",
      "100/100 [==============================] - 10s 102ms/step - loss: 1.7670 - ContrastiveAccuracy: 0.3486 - val_loss: 1.0823 - val_ContrastiveAccuracy: 0.3494\n",
      "Epoch 153/300\n",
      "100/100 [==============================] - 10s 101ms/step - loss: 1.7599 - ContrastiveAccuracy: 0.3502 - val_loss: 1.0548 - val_ContrastiveAccuracy: 0.3509\n",
      "Epoch 154/300\n",
      "100/100 [==============================] - 10s 101ms/step - loss: 1.7148 - ContrastiveAccuracy: 0.3517 - val_loss: 1.0938 - val_ContrastiveAccuracy: 0.3524\n",
      "Epoch 155/300\n",
      "100/100 [==============================] - 10s 101ms/step - loss: 1.7803 - ContrastiveAccuracy: 0.3530 - val_loss: 1.0506 - val_ContrastiveAccuracy: 0.3539\n",
      "Epoch 156/300\n",
      "100/100 [==============================] - 10s 101ms/step - loss: 1.8464 - ContrastiveAccuracy: 0.3546 - val_loss: 1.2730 - val_ContrastiveAccuracy: 0.3551\n",
      "Epoch 157/300\n",
      "100/100 [==============================] - 10s 101ms/step - loss: 1.6950 - ContrastiveAccuracy: 0.3557 - val_loss: 0.9855 - val_ContrastiveAccuracy: 0.3565\n",
      "Epoch 158/300\n",
      "100/100 [==============================] - 10s 101ms/step - loss: 1.7380 - ContrastiveAccuracy: 0.3574 - val_loss: 1.0140 - val_ContrastiveAccuracy: 0.3582\n",
      "Epoch 159/300\n",
      "100/100 [==============================] - 10s 101ms/step - loss: 1.7487 - ContrastiveAccuracy: 0.3591 - val_loss: 1.0804 - val_ContrastiveAccuracy: 0.3598\n",
      "Epoch 160/300\n",
      "100/100 [==============================] - 10s 102ms/step - loss: 1.6991 - ContrastiveAccuracy: 0.3606 - val_loss: 1.0725 - val_ContrastiveAccuracy: 0.3614\n",
      "Epoch 161/300\n",
      "100/100 [==============================] - 10s 101ms/step - loss: 1.7717 - ContrastiveAccuracy: 0.3621 - val_loss: 1.0432 - val_ContrastiveAccuracy: 0.3629\n",
      "Epoch 162/300\n",
      "100/100 [==============================] - 10s 101ms/step - loss: 1.7508 - ContrastiveAccuracy: 0.3637 - val_loss: 1.0896 - val_ContrastiveAccuracy: 0.3645\n",
      "Epoch 163/300\n",
      "100/100 [==============================] - 10s 102ms/step - loss: 1.6796 - ContrastiveAccuracy: 0.3653 - val_loss: 1.0314 - val_ContrastiveAccuracy: 0.3661\n",
      "Epoch 164/300\n",
      "100/100 [==============================] - 10s 101ms/step - loss: 1.7253 - ContrastiveAccuracy: 0.3669 - val_loss: 1.1561 - val_ContrastiveAccuracy: 0.3676\n",
      "Epoch 165/300\n",
      "100/100 [==============================] - 10s 101ms/step - loss: 1.7381 - ContrastiveAccuracy: 0.3682 - val_loss: 1.1132 - val_ContrastiveAccuracy: 0.3688\n",
      "Epoch 166/300\n",
      "100/100 [==============================] - 10s 101ms/step - loss: 1.7156 - ContrastiveAccuracy: 0.3695 - val_loss: 1.0825 - val_ContrastiveAccuracy: 0.3702\n",
      "Epoch 167/300\n",
      "100/100 [==============================] - 10s 102ms/step - loss: 1.6360 - ContrastiveAccuracy: 0.3710 - val_loss: 1.0629 - val_ContrastiveAccuracy: 0.3717\n",
      "Epoch 168/300\n",
      "100/100 [==============================] - 10s 101ms/step - loss: 1.6277 - ContrastiveAccuracy: 0.3725 - val_loss: 1.0119 - val_ContrastiveAccuracy: 0.3732\n",
      "Epoch 169/300\n",
      "100/100 [==============================] - 10s 101ms/step - loss: 1.6456 - ContrastiveAccuracy: 0.3740 - val_loss: 1.0323 - val_ContrastiveAccuracy: 0.3747\n",
      "Epoch 170/300\n",
      "100/100 [==============================] - 10s 102ms/step - loss: 1.6271 - ContrastiveAccuracy: 0.3755 - val_loss: 1.0575 - val_ContrastiveAccuracy: 0.3762\n",
      "Epoch 171/300\n",
      "100/100 [==============================] - 10s 102ms/step - loss: 1.6266 - ContrastiveAccuracy: 0.3769 - val_loss: 1.0078 - val_ContrastiveAccuracy: 0.3776\n",
      "Epoch 172/300\n",
      "100/100 [==============================] - 10s 102ms/step - loss: 1.5873 - ContrastiveAccuracy: 0.3784 - val_loss: 0.9592 - val_ContrastiveAccuracy: 0.3792\n",
      "Epoch 173/300\n",
      "100/100 [==============================] - 10s 101ms/step - loss: 1.5747 - ContrastiveAccuracy: 0.3799 - val_loss: 1.1179 - val_ContrastiveAccuracy: 0.3805\n",
      "Epoch 174/300\n",
      "100/100 [==============================] - 10s 101ms/step - loss: 1.5711 - ContrastiveAccuracy: 0.3811 - val_loss: 1.0417 - val_ContrastiveAccuracy: 0.3817\n",
      "Epoch 175/300\n",
      "100/100 [==============================] - 10s 101ms/step - loss: 1.5838 - ContrastiveAccuracy: 0.3823 - val_loss: 0.9740 - val_ContrastiveAccuracy: 0.3830\n",
      "Epoch 176/300\n",
      "100/100 [==============================] - 10s 102ms/step - loss: 1.5959 - ContrastiveAccuracy: 0.3837 - val_loss: 0.9377 - val_ContrastiveAccuracy: 0.3844\n",
      "Epoch 177/300\n",
      "100/100 [==============================] - 10s 101ms/step - loss: 1.5442 - ContrastiveAccuracy: 0.3851 - val_loss: 0.9759 - val_ContrastiveAccuracy: 0.3858\n",
      "Epoch 178/300\n",
      "100/100 [==============================] - 10s 102ms/step - loss: 1.5901 - ContrastiveAccuracy: 0.3865 - val_loss: 0.9405 - val_ContrastiveAccuracy: 0.3872\n",
      "Epoch 179/300\n",
      "100/100 [==============================] - 10s 102ms/step - loss: 1.5851 - ContrastiveAccuracy: 0.3880 - val_loss: 0.9840 - val_ContrastiveAccuracy: 0.3887\n",
      "Epoch 180/300\n",
      "100/100 [==============================] - 10s 101ms/step - loss: 1.5463 - ContrastiveAccuracy: 0.3894 - val_loss: 0.9191 - val_ContrastiveAccuracy: 0.3901\n",
      "Epoch 181/300\n",
      "100/100 [==============================] - 10s 102ms/step - loss: 1.5231 - ContrastiveAccuracy: 0.3908 - val_loss: 1.0145 - val_ContrastiveAccuracy: 0.3915\n",
      "Epoch 182/300\n",
      "100/100 [==============================] - 10s 101ms/step - loss: 1.5208 - ContrastiveAccuracy: 0.3921 - val_loss: 0.8873 - val_ContrastiveAccuracy: 0.3928\n",
      "Epoch 183/300\n",
      "100/100 [==============================] - 10s 101ms/step - loss: 1.5374 - ContrastiveAccuracy: 0.3935 - val_loss: 0.8906 - val_ContrastiveAccuracy: 0.3942\n",
      "Epoch 184/300\n",
      "100/100 [==============================] - 10s 101ms/step - loss: 1.4986 - ContrastiveAccuracy: 0.3948 - val_loss: 0.8761 - val_ContrastiveAccuracy: 0.3955\n",
      "Epoch 185/300\n",
      "100/100 [==============================] - 10s 101ms/step - loss: 1.4867 - ContrastiveAccuracy: 0.3962 - val_loss: 0.8860 - val_ContrastiveAccuracy: 0.3969\n",
      "Epoch 186/300\n",
      "100/100 [==============================] - 10s 101ms/step - loss: 1.4981 - ContrastiveAccuracy: 0.3976 - val_loss: 0.8752 - val_ContrastiveAccuracy: 0.3983\n",
      "Epoch 187/300\n",
      "100/100 [==============================] - 10s 102ms/step - loss: 1.5148 - ContrastiveAccuracy: 0.3989 - val_loss: 0.8275 - val_ContrastiveAccuracy: 0.3996\n",
      "Epoch 188/300\n",
      "100/100 [==============================] - 10s 101ms/step - loss: 1.4808 - ContrastiveAccuracy: 0.4003 - val_loss: 0.8534 - val_ContrastiveAccuracy: 0.4010\n",
      "Epoch 189/300\n",
      "100/100 [==============================] - 10s 101ms/step - loss: 1.4892 - ContrastiveAccuracy: 0.4017 - val_loss: 0.7474 - val_ContrastiveAccuracy: 0.4024\n",
      "Epoch 190/300\n",
      "100/100 [==============================] - 10s 101ms/step - loss: 1.5031 - ContrastiveAccuracy: 0.4031 - val_loss: 0.9519 - val_ContrastiveAccuracy: 0.4036\n",
      "Epoch 191/300\n",
      "100/100 [==============================] - 10s 102ms/step - loss: 1.5001 - ContrastiveAccuracy: 0.4041 - val_loss: 0.8396 - val_ContrastiveAccuracy: 0.4048\n",
      "Epoch 192/300\n",
      "100/100 [==============================] - 10s 101ms/step - loss: 1.4797 - ContrastiveAccuracy: 0.4055 - val_loss: 0.8438 - val_ContrastiveAccuracy: 0.4062\n",
      "Epoch 193/300\n",
      "100/100 [==============================] - 10s 101ms/step - loss: 1.5067 - ContrastiveAccuracy: 0.4068 - val_loss: 0.8375 - val_ContrastiveAccuracy: 0.4074\n",
      "Epoch 194/300\n",
      "100/100 [==============================] - 10s 102ms/step - loss: 1.5023 - ContrastiveAccuracy: 0.4081 - val_loss: 0.8181 - val_ContrastiveAccuracy: 0.4088\n",
      "Epoch 195/300\n",
      "100/100 [==============================] - 10s 101ms/step - loss: 1.4505 - ContrastiveAccuracy: 0.4095 - val_loss: 0.8442 - val_ContrastiveAccuracy: 0.4101\n",
      "Epoch 196/300\n",
      "100/100 [==============================] - 10s 101ms/step - loss: 1.4412 - ContrastiveAccuracy: 0.4107 - val_loss: 0.7663 - val_ContrastiveAccuracy: 0.4114\n",
      "Epoch 197/300\n",
      "100/100 [==============================] - 10s 102ms/step - loss: 1.4955 - ContrastiveAccuracy: 0.4121 - val_loss: 0.7790 - val_ContrastiveAccuracy: 0.4127\n",
      "Epoch 198/300\n",
      "100/100 [==============================] - 10s 102ms/step - loss: 1.4320 - ContrastiveAccuracy: 0.4134 - val_loss: 0.7942 - val_ContrastiveAccuracy: 0.4140\n",
      "Epoch 199/300\n",
      "100/100 [==============================] - 10s 102ms/step - loss: 1.4047 - ContrastiveAccuracy: 0.4147 - val_loss: 0.7643 - val_ContrastiveAccuracy: 0.4153\n",
      "Epoch 200/300\n",
      "100/100 [==============================] - 10s 102ms/step - loss: 1.4199 - ContrastiveAccuracy: 0.4160 - val_loss: 0.8121 - val_ContrastiveAccuracy: 0.4166\n",
      "Epoch 201/300\n",
      "100/100 [==============================] - 10s 102ms/step - loss: 1.3652 - ContrastiveAccuracy: 0.4171 - val_loss: 0.7800 - val_ContrastiveAccuracy: 0.4178\n",
      "Epoch 202/300\n",
      "100/100 [==============================] - 10s 102ms/step - loss: 1.4542 - ContrastiveAccuracy: 0.4184 - val_loss: 0.8546 - val_ContrastiveAccuracy: 0.4189\n",
      "Epoch 203/300\n",
      "100/100 [==============================] - 10s 101ms/step - loss: 1.4500 - ContrastiveAccuracy: 0.4195 - val_loss: 0.7811 - val_ContrastiveAccuracy: 0.4201\n",
      "Epoch 204/300\n",
      "100/100 [==============================] - 10s 101ms/step - loss: 1.4241 - ContrastiveAccuracy: 0.4207 - val_loss: 0.8630 - val_ContrastiveAccuracy: 0.4212\n"
     ]
    }
   ],
   "source": [
    "callback = tf.keras.callbacks.EarlyStopping(monitor = \"val_loss\", mode = 'min', patience = 15)\n",
    "history = cm.fit(training_data,\n",
    "                 epochs=300,\n",
    "                 verbose=1,\n",
    "                 validation_data=validation_data,\n",
    "                 callbacks=[callback]\n",
    "                )"
   ]
  },
  {
   "cell_type": "code",
   "execution_count": 26,
   "metadata": {},
   "outputs": [
    {
     "name": "stdout",
     "output_type": "stream",
     "text": [
      "Model: \"contrastive_model\"\n",
      "_________________________________________________________________\n",
      " Layer (type)                Output Shape              Param #   \n",
      "=================================================================\n",
      " model (Functional)          (None, 64)                342464    \n",
      "                                                                 \n",
      " model_1 (Functional)        (None, 64)                342464    \n",
      "                                                                 \n",
      " dense_8 (Dense)             multiple                  32768     \n",
      "                                                                 \n",
      " dense_9 (Dense)             multiple                  32768     \n",
      "                                                                 \n",
      "=================================================================\n",
      "Total params: 750,465\n",
      "Trainable params: 750,465\n",
      "Non-trainable params: 0\n",
      "_________________________________________________________________\n"
     ]
    }
   ],
   "source": [
    "cm.summary()"
   ]
  },
  {
   "cell_type": "code",
   "execution_count": 27,
   "metadata": {},
   "outputs": [],
   "source": [
    "with open(\"training_history.txt\", 'w') as file:\n",
    "    file.write(f\"Epochs: {len(history.history['loss'])}\\n\")\n",
    "    file.write(f\"Loss: {history.history['loss'][-1]}\\n\")\n",
    "    file.write(f\"Validation Loss: {history.history['val_loss'][-1]}\\n\")\n",
    "    file.write(f\"Contrastive Accuracy: {history.history['ContrastiveAccuracy'][-1] * 100}%\\n\")\n",
    "    file.write(f\"Validation Contrastive Accuracy: {history.history['val_ContrastiveAccuracy'][-1] * 100}%\\n\")"
   ]
  },
  {
   "cell_type": "code",
   "execution_count": 39,
   "metadata": {},
   "outputs": [],
   "source": [
    "cm.save_weights(\"Weights/ViT-Relative-12-1-23\")"
   ]
  },
  {
   "cell_type": "code",
   "execution_count": 40,
   "metadata": {},
   "outputs": [
    {
     "data": {
      "image/png": "[encoded data removed]",
      "text/plain": [
       "<Figure size 640x480 with 2 Axes>"
      ]
     },
     "metadata": {},
     "output_type": "display_data"
    }
   ],
   "source": [
    "# Plot History in one image\n",
    "plt.figure(1)\n",
    "\n",
    "# Loss history\n",
    "plt.subplot(211)\n",
    "plt.plot(history.history['loss'],label='Training')\n",
    "plt.plot(history.history['val_loss'],label='Validation')\n",
    "plt.legend()\n",
    "\n",
    "plt.xlabel('Epoch')\n",
    "plt.ylabel('Loss')\n",
    "plt.title('ViT Relative Loss')\n",
    "\n",
    "# Accuracy history\n",
    "plt.subplot(212)\n",
    "plt.plot(history.history['ContrastiveAccuracy'],label='Training')\n",
    "plt.plot(history.history['val_ContrastiveAccuracy'],label='Validation')\n",
    "plt.legend()\n",
    "\n",
    "plt.xlabel('Epoch')\n",
    "plt.ylabel('Accuracy')\n",
    "plt.title('ViT Relative Accuracy')\n",
    "\n",
    "plt.tight_layout(h_pad = 5.0)\n",
    "plt.savefig('history.png')\n",
    "plt.show()"
   ]
  },
  {
   "cell_type": "code",
   "execution_count": 41,
   "metadata": {
    "tags": []
   },
   "outputs": [
    {
     "data": {
      "image/png": "[encoded data removed]",
      "text/plain": [
       "<Figure size 640x480 with 1 Axes>"
      ]
     },
     "metadata": {},
     "output_type": "display_data"
    }
   ],
   "source": [
    "# Plot Loss in individual image\n",
    "plt.plot(history.history['loss'],label='Training')\n",
    "plt.plot(history.history['val_loss'],label='Validation')\n",
    "plt.legend()\n",
    "\n",
    "plt.xlabel('Epochs')\n",
    "plt.ylabel('Loss')\n",
    "plt.title('ViT Relative Loss')\n",
    "\n",
    "plt.savefig('history_loss.png')\n",
    "plt.show()"
   ]
  },
  {
   "cell_type": "code",
   "execution_count": 42,
   "metadata": {
    "tags": []
   },
   "outputs": [
    {
     "data": {
      "image/png": "[encoded data removed]",
      "text/plain": [
       "<Figure size 640x480 with 1 Axes>"
      ]
     },
     "metadata": {},
     "output_type": "display_data"
    }
   ],
   "source": [
    "# Plot Accuracy in individual image\n",
    "plt.plot(history.history['ContrastiveAccuracy'],label='Training')\n",
    "plt.plot(history.history['val_ContrastiveAccuracy'],label='Validation')\n",
    "plt.legend()\n",
    "\n",
    "plt.xlabel('Epochs')\n",
    "plt.ylabel('Loss')\n",
    "plt.title('ViT Relative Accuracy')\n",
    "\n",
    "plt.savefig('history_acc.png')\n",
    "plt.show()"
   ]
  },
  {
   "cell_type": "markdown",
   "metadata": {},
   "source": [
    "### Obtaining Realistic Accuracies"
   ]
  },
  {
   "cell_type": "code",
   "execution_count": 43,
   "metadata": {
    "tags": []
   },
   "outputs": [],
   "source": [
    "offset = 0\n",
    "n_comp = 100"
   ]
  },
  {
   "cell_type": "code",
   "execution_count": 44,
   "metadata": {
    "tags": []
   },
   "outputs": [
    {
     "data": {
      "text/plain": [
       "<tf.Tensor: shape=(1, 100), dtype=float32, numpy=\n",
       "array([[-72.235664 ,  -3.8605049, -26.399536 ,   6.305437 ,  -1.5451634,\n",
       "        -25.34533  , -82.74507  , -40.16518  , -51.189674 ,  14.695642 ,\n",
       "        -55.04699  ,  -8.746872 , -56.234688 ,  12.846314 , -49.303772 ,\n",
       "         10.878586 , -43.684856 , -12.335782 ,  -9.782861 ,   5.889885 ,\n",
       "        -75.033    , -21.774687 ,  16.682577 ,   7.9315042, -34.52922  ,\n",
       "        -37.733307 , -19.580416 , -59.344944 , -48.28281  ,  10.623447 ,\n",
       "        -45.83359  , -20.528986 ,   8.14895  ,   7.2513843, -16.265873 ,\n",
       "         -1.1997019, -37.993305 , -27.030937 , -28.460114 ,  -8.008462 ,\n",
       "        -39.384964 , -13.621149 , -13.852325 ,  14.587149 ,   3.7096217,\n",
       "         10.408582 , -29.91952  , -59.880695 , -62.648216 , -63.74081  ,\n",
       "        -37.729343 , -27.515087 ,   7.4708447,  13.858329 ,   6.0352254,\n",
       "         -9.342829 , -63.249332 ,  15.706642 , -57.23625  ,   1.8508859,\n",
       "        -19.138117 ,  16.178797 , -23.307915 , -33.17758  ,  11.493704 ,\n",
       "        -13.341689 ,   1.0127294, -17.53069  , -46.190083 , -38.85076  ,\n",
       "        -32.075104 ,   5.9974713, -31.24421  ,  15.446724 , -55.760063 ,\n",
       "        -16.44818  ,   0.8749571,   1.8102516, -14.398962 ,  -4.971084 ,\n",
       "        -35.64376  , -15.240454 , -74.311424 ,  12.2911   ,   6.6519365,\n",
       "         -8.43929  , -71.234825 ,  -3.2001462, -42.803146 ,   9.586313 ,\n",
       "        -11.19072  ,   1.0577613, -34.713135 ,  -1.5064229, -13.813227 ,\n",
       "        -28.425282 ,   1.8412526, -14.916314 , -31.700745 ,  11.16247  ]],\n",
       "      dtype=float32)>"
      ]
     },
     "execution_count": 44,
     "metadata": {},
     "output_type": "execute_result"
    }
   ],
   "source": [
    "# update with notes to compare\n",
    "cm((x_val[0:1],x_train[offset:offset+n_comp]))"
   ]
  },
  {
   "cell_type": "code",
   "execution_count": 45,
   "metadata": {
    "tags": []
   },
   "outputs": [
    {
     "data": {
      "text/plain": [
       "array([7], dtype=uint8)"
      ]
     },
     "execution_count": 45,
     "metadata": {},
     "output_type": "execute_result"
    }
   ],
   "source": [
    "y_val[0:1]"
   ]
  },
  {
   "cell_type": "code",
   "execution_count": 46,
   "metadata": {
    "tags": []
   },
   "outputs": [
    {
     "data": {
      "text/plain": [
       "9"
      ]
     },
     "execution_count": 46,
     "metadata": {},
     "output_type": "execute_result"
    }
   ],
   "source": [
    "y_train[np.argmax(cm((x_val[0:1],x_train[offset:offset+n_comp])))+offset]"
   ]
  },
  {
   "cell_type": "code",
   "execution_count": 47,
   "metadata": {},
   "outputs": [
    {
     "name": "stdout",
     "output_type": "stream",
     "text": [
      "True\tPred\n",
      "7 \t 9\n",
      "\n",
      "2 \t 6\n",
      "\n",
      "1 \t 1\t✔\n",
      "\n",
      "0 \t 0\t✔\n",
      "\n",
      "4 \t 4\t✔\n",
      "\n",
      "1 \t 1\t✔\n",
      "\n",
      "4 \t 9\n",
      "\n",
      "9 \t 3\n",
      "\n",
      "5 \t 3\n",
      "\n",
      "9 \t 9\t✔\n",
      "\n",
      "Accuracy: 50.0%\n"
     ]
    }
   ],
   "source": [
    "accuracy = 0.0\n",
    "n = 10\n",
    "with open(\"10_accuracy.txt\", 'w') as file:\n",
    "    print(\"True\\tPred\")\n",
    "    file.write(\"True\\tPred\" + '\\n')\n",
    "    for i in range(n):\n",
    "        true = y_val[i] \n",
    "        pred = y_train[np.argmax(cm((x_val[i:i+1], x_train[offset:offset+n_comp])))+offset]\n",
    "        print(true, '\\t', pred, end = '')\n",
    "        file.write(str(true) + '\\t\\t' + str(pred))\n",
    "        if (y_val[i] == y_train[np.argmax(cm((x_val[i:i+1], x_train[offset:offset+n_comp])))+offset]):\n",
    "            accuracy+= 1.0\n",
    "            print(\"\\t\\u2714\\n\")\n",
    "            file.write(\"\\t\\t\\u2714\\n\")\n",
    "        else:\n",
    "            print('\\n')\n",
    "            file.write('\\n')\n",
    "\n",
    "    accuracy /= n\n",
    "    print(f\"Accuracy: {accuracy*100}%\")\n",
    "    file.write(f\"Accuracy: {accuracy*100}%\\n\")"
   ]
  },
  {
   "cell_type": "code",
   "execution_count": 48,
   "metadata": {
    "tags": []
   },
   "outputs": [
    {
     "name": "stdout",
     "output_type": "stream",
     "text": [
      "10000 computations to make . . .\n",
      "Progress: 9999/10000 (99.99%)\n",
      "Final Accuracy: 30.630000000000003%\n"
     ]
    }
   ],
   "source": [
    "accuracy = 0.0\n",
    "n = y_val.shape[0]\n",
    "print(n, \"computations to make . . .\")\n",
    "for i in range(n):\n",
    "   # print(y_val[i:i+1],end='\\t')\n",
    "    #print(y_train[np.argmax(cm((x_val[i:i+1], x_train[offset:offset+n_comp])))+offset])\n",
    "    if (i % (n / 10) == 0 or i == n - 1):\n",
    "        print(f\"\\rProgress: {i}/{n} ({(i/n)*100:.2f}%)\", end=\"\")  # Update the progress\n",
    "    if (y_val[i] == y_train[np.argmax(cm((x_val[i:i+1], x_train[offset:offset+n_comp])))+offset]):\n",
    "        accuracy+= 1.0\n",
    "\n",
    "accuracy /= n\n",
    "print(f\"\\nFinal Accuracy: {accuracy*100}%\")\n",
    "with open(\"final_accuracy.txt\", 'w') as file:\n",
    "    file.write(f\"Final Accuracy: {accuracy*100}%\\n\")"
   ]
  },
  {
   "cell_type": "code",
   "execution_count": null,
   "metadata": {},
   "outputs": [],
   "source": []
  }
 ],
 "metadata": {
  "kernelspec": {
   "display_name": "Python 3 (ipykernel)",
   "language": "python",
   "name": "python3"
  },
  "language_info": {
   "codemirror_mode": {
    "name": "ipython",
    "version": 3
   },
   "file_extension": ".py",
   "mimetype": "text/x-python",
   "name": "python",
   "nbconvert_exporter": "python",
   "pygments_lexer": "ipython3",
   "version": "3.11.5"
  }
 },
 "nbformat": 4,
 "nbformat_minor": 4
}

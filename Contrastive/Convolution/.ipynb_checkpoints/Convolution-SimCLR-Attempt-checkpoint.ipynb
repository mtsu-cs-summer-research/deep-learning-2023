{
 "cells": [
  {
   "cell_type": "markdown",
   "metadata": {},
   "source": [
    "### SimCLR attempt using Convolution Net"
   ]
  },
  {
   "cell_type": "code",
   "execution_count": 1,
   "metadata": {
    "tags": []
   },
   "outputs": [],
   "source": [
    "import os\n",
    "os.environ[\"LD_LIBRARY_PATH\"]='/opt/conda/lib'\n",
    "os.environ[\"XLA_FLAGS\"] = \"--xla_gpu_cuda_data_dir=/opt/conda/pkgs/cuda-toolkit\""
   ]
  },
  {
   "cell_type": "code",
   "execution_count": 2,
   "metadata": {
    "tags": []
   },
   "outputs": [
    {
     "name": "stderr",
     "output_type": "stream",
     "text": [
      "2023-11-18 19:23:35.440410: I tensorflow/core/util/port.cc:110] oneDNN custom operations are on. You may see slightly different numerical results due to floating-point round-off errors from different computation orders. To turn them off, set the environment variable `TF_ENABLE_ONEDNN_OPTS=0`.\n",
      "2023-11-18 19:23:35.472970: I tensorflow/core/platform/cpu_feature_guard.cc:182] This TensorFlow binary is optimized to use available CPU instructions in performance-critical operations.\n",
      "To enable the following instructions: AVX2 AVX512F AVX512_VNNI FMA, in other operations, rebuild TensorFlow with the appropriate compiler flags.\n",
      "2023-11-18 19:23:36.167793: W tensorflow/compiler/tf2tensorrt/utils/py_utils.cc:38] TF-TRT Warning: Could not find TensorRT\n"
     ]
    }
   ],
   "source": [
    "import matplotlib.pyplot as plt\n",
    "import numpy as np\n",
    "import numpy.typing as npt\n",
    "import tensorflow as tf\n",
    "import tensorflow.keras as keras"
   ]
  },
  {
   "cell_type": "code",
   "execution_count": 3,
   "metadata": {
    "tags": []
   },
   "outputs": [
    {
     "data": {
      "text/plain": [
       "[PhysicalDevice(name='/physical_device:CPU:0', device_type='CPU'),\n",
       " PhysicalDevice(name='/physical_device:GPU:0', device_type='GPU')]"
      ]
     },
     "execution_count": 3,
     "metadata": {},
     "output_type": "execute_result"
    }
   ],
   "source": [
    "tf.config.set_visible_devices(tf.config.get_visible_devices()[0:2])\n",
    "#tf.config.set_visible_devices(tf.config.get_visible_devices()[0:3:2])\n",
    "tf.config.get_visible_devices()"
   ]
  },
  {
   "cell_type": "code",
   "execution_count": 4,
   "metadata": {
    "tags": []
   },
   "outputs": [],
   "source": [
    "(x_train, y_train), (x_val, y_val) = tf.keras.datasets.mnist.load_data()\n",
    "# x_train = x_train.astype('float32').reshape(x_train.shape+(1,))\n",
    "x_train = x_train / 255.0 \n",
    "x_val = x_val / 255.0"
   ]
  },
  {
   "cell_type": "code",
   "execution_count": 5,
   "metadata": {
    "tags": []
   },
   "outputs": [
    {
     "data": {
      "text/plain": [
       "(60000, 28, 28)"
      ]
     },
     "execution_count": 5,
     "metadata": {},
     "output_type": "execute_result"
    }
   ],
   "source": [
    "x_train.shape"
   ]
  },
  {
   "cell_type": "code",
   "execution_count": 6,
   "metadata": {
    "tags": []
   },
   "outputs": [
    {
     "data": {
      "image/png": "[encoded data removed]",
      "text/plain": [
       "<Figure size 300x300 with 1 Axes>"
      ]
     },
     "metadata": {},
     "output_type": "display_data"
    },
    {
     "data": {
      "text/plain": [
       "5"
      ]
     },
     "execution_count": 6,
     "metadata": {},
     "output_type": "execute_result"
    }
   ],
   "source": [
    "plt.figure(figsize=(3, 3))\n",
    "plt.imshow(x_train[0], cmap=\"gray\")\n",
    "plt.show()\n",
    "y_train[0]"
   ]
  },
  {
   "cell_type": "code",
   "execution_count": 7,
   "metadata": {},
   "outputs": [
    {
     "data": {
      "image/png": "[encoded data removed]",
      "text/plain": [
       "<Figure size 640x480 with 1 Axes>"
      ]
     },
     "metadata": {},
     "output_type": "display_data"
    },
    {
     "data": {
      "text/plain": [
       "(28, 28)"
      ]
     },
     "execution_count": 7,
     "metadata": {},
     "output_type": "execute_result"
    }
   ],
   "source": [
    "a = x_train[0]\n",
    "a.shape\n",
    "plt.imshow(a)\n",
    "plt.show()\n",
    "a.shape"
   ]
  },
  {
   "cell_type": "code",
   "execution_count": 8,
   "metadata": {},
   "outputs": [],
   "source": [
    "# def crop_and_resize(image):\n",
    "#     crop_percent = np.random.uniform(0.5, 1)\n",
    "\n",
    "#     if crop_percent == 1:\n",
    "#         return image\n",
    "        \n",
    "#     # Get width and height from the image shape\n",
    "#     width = image.shape[0]\n",
    "#     height = image.shape[1]\n",
    "\n",
    "#     # Create new dimensions for the image\n",
    "#     crop_width = int(width * crop_percent)\n",
    "#     crop_height = int(height * crop_percent)\n",
    "#     print(crop_width, crop_height, '\\n')\n",
    "\n",
    "#     cropped = tf.image.random_crop(image, (crop_width, crop_height, 1))\n",
    "#     cropped = tf.image.resize(cropped, (image.shape[0], image.shape[1]))\n",
    "#     return cropped\n",
    "\n",
    "# b = crop_and_resize(a)\n",
    "# b.shape\n",
    "# plt.imshow(b)\n",
    "# plt.show()\n",
    "# a.shape"
   ]
  },
  {
   "cell_type": "code",
   "execution_count": 9,
   "metadata": {
    "tags": []
   },
   "outputs": [],
   "source": [
    "class DataGenerator(tf.keras.utils.Sequence):\n",
    "    def __init__(self, x, y, batch_size=32, num_batches=100, rng: np.random.Generator = np.random.default_rng(), min_crop = .5, max_crop = 1):\n",
    "        super().__init__()\n",
    "\n",
    "        # Group by labels\n",
    "        groups = [[] for _ in range(len(np.unique(y)))]\n",
    "        for x_i, y_i in zip(x, y):\n",
    "            groups[y_i].append(x_i)\n",
    "        groups = list(map(np.array, groups))\n",
    "\n",
    "        self.groups = groups\n",
    "        self.batch_size = batch_size\n",
    "        self.num_batches = num_batches\n",
    "        self.rng = rng\n",
    "\n",
    "        self.min_crop = min_crop\n",
    "        self.max_crop = max_crop\n",
    "\n",
    "        self.shuffle()\n",
    "\n",
    "    def shuffle(self):\n",
    "        self.labels = self.rng.integers(len(self.groups), size=(self.num_batches, self.batch_size))   # Which labels to draw\n",
    "        self.variants = self.rng.uniform(size=(self.num_batches, 2, self.batch_size)) # Which variant of the label\n",
    "\n",
    "    # Function to randomly crop the image\n",
    "    def crop_and_resize(self, image):\n",
    "        crop_percent = np.random.uniform(self.min_crop, self.max_crop)\n",
    "    \n",
    "        if crop_percent == 1:\n",
    "            return image\n",
    "            \n",
    "        # Get width and height from the image shape\n",
    "        width = image.shape[0]\n",
    "        height = image.shape[1]\n",
    "    \n",
    "        # Create new dimensions for the image\n",
    "        crop_width = int(width * crop_percent)\n",
    "        crop_height = int(height * crop_percent)\n",
    "    \n",
    "        cropped = tf.image.random_crop(tf.expand_dims(image,-1), (crop_width, crop_height, 1))\n",
    "        cropped = tf.squeeze(tf.image.resize(cropped, image.shape))\n",
    "        \n",
    "        return cropped\n",
    "\n",
    "\n",
    "    def __getitem__(self, batch_index):\n",
    "        batch = ([], [])\n",
    "        for label, variant_a, variant_b in zip(self.labels[batch_index], *self.variants[batch_index]):\n",
    "            group = self.groups[label]\n",
    "            variant_a_index = int(len(group)*variant_a)\n",
    "            # Instead of using two different batches, use the same with different augmentations:\n",
    "            image_a = self.crop_and_resize(group[variant_a_index])\n",
    "            image_b = self.crop_and_resize(group[variant_a_index])\n",
    "\n",
    "            batch[0].append(image_a)\n",
    "            batch[1].append(image_b)\n",
    "            \n",
    "        return tuple(np.array(batch)) # batch\n",
    "\n",
    "    def __len__(self):\n",
    "        return self.num_batches\n",
    "\n",
    "    def on_epoch_end(self):\n",
    "        self.shuffle()"
   ]
  },
  {
   "cell_type": "code",
   "execution_count": 10,
   "metadata": {
    "tags": []
   },
   "outputs": [
    {
     "name": "stderr",
     "output_type": "stream",
     "text": [
      "2023-11-18 19:23:37.845779: I tensorflow/core/common_runtime/gpu/gpu_device.cc:1635] Created device /job:localhost/replica:0/task:0/device:GPU:0 with 647 MB memory:  -> device: 0, name: NVIDIA GeForce RTX 2080 Ti, pci bus id: 0000:68:00.0, compute capability: 7.5\n"
     ]
    },
    {
     "data": {
      "image/png": "[encoded data removed]",
      "text/plain": [
       "<Figure size 640x480 with 2 Axes>"
      ]
     },
     "metadata": {},
     "output_type": "display_data"
    },
    {
     "data": {
      "text/plain": [
       "(28, 28)"
      ]
     },
     "execution_count": 10,
     "metadata": {},
     "output_type": "execute_result"
    }
   ],
   "source": [
    "# Generator Testing/Debugging\n",
    "# [batch, x/y, set, image]\n",
    "data = DataGenerator(x_train, y_train, rng=np.random.default_rng(0), min_crop = 0.4, max_crop = 1)\n",
    "batch_index = 0\n",
    "index = 0\n",
    "plt.subplot(121)\n",
    "plt.imshow(data[batch_index][0][index])\n",
    "plt.subplot(122)\n",
    "plt.imshow(data[batch_index][1][index])\n",
    "plt.show()\n",
    "data[batch_index][0][index].shape"
   ]
  },
  {
   "cell_type": "markdown",
   "metadata": {},
   "source": [
    "### Sequential Model"
   ]
  },
  {
   "cell_type": "code",
   "execution_count": 11,
   "metadata": {},
   "outputs": [
    {
     "data": {
      "text/plain": [
       "(60000, 28, 28)"
      ]
     },
     "execution_count": 11,
     "metadata": {},
     "output_type": "execute_result"
    }
   ],
   "source": [
    "x_train.shape"
   ]
  },
  {
   "cell_type": "code",
   "execution_count": 12,
   "metadata": {},
   "outputs": [
    {
     "data": {
      "text/plain": [
       "(60000, 28, 28, 1)"
      ]
     },
     "execution_count": 12,
     "metadata": {},
     "output_type": "execute_result"
    }
   ],
   "source": [
    "x_train_reshape = x_train.astype('float32').reshape(x_train.shape+(1,))\n",
    "x_train_reshape.shape"
   ]
  },
  {
   "cell_type": "code",
   "execution_count": 13,
   "metadata": {},
   "outputs": [
    {
     "data": {
      "text/plain": [
       "(60000, 10)"
      ]
     },
     "execution_count": 13,
     "metadata": {},
     "output_type": "execute_result"
    }
   ],
   "source": [
    "y_train_reshape = keras.utils.to_categorical(y_train, len(np.unique(y_train)))\n",
    "y_train_reshape.shape"
   ]
  },
  {
   "cell_type": "code",
   "execution_count": 14,
   "metadata": {},
   "outputs": [],
   "source": [
    "model = keras.Sequential()\n",
    "# Note the input size (there is only one channel - intensity)\n",
    "# these images... if you are using color images, your would\n",
    "# need to set the last dimension of the input_shape to -3-\n",
    "# above and this would carry over into this cell...\n",
    "model.add(keras.layers.Conv2D(64, kernel_size=(8, 8),\n",
    "                              activation='relu',\n",
    "                              input_shape=[x_train_reshape.shape[1],\n",
    "                                           x_train_reshape.shape[2],\n",
    "                                           x_train_reshape.shape[3]]))\n",
    "model.add(keras.layers.Conv2D(128, (8, 8), activation='relu'))\n",
    "model.add(keras.layers.MaxPooling2D(pool_size=(2, 2)))\n",
    "model.add(keras.layers.Conv2D(128, (3, 3), activation='relu'))\n",
    "model.add(keras.layers.Conv2D(128, (2, 2), activation='relu'))\n",
    "model.add(keras.layers.MaxPooling2D(pool_size=(2, 2)))\n",
    "model.add(keras.layers.Dropout(0.25))\n",
    "model.add(keras.layers.Flatten())\n",
    "model.add(keras.layers.Dense(128, activation='relu'))\n",
    "model.add(keras.layers.Dropout(0.5))\n",
    "model.add(keras.layers.Dense(y_train_reshape.shape[1], activation='softmax'))\n",
    "\n",
    "masked_encoder = model\n",
    "unmasked_encoder = model"
   ]
  },
  {
   "cell_type": "markdown",
   "metadata": {},
   "source": [
    "### Note: This metric only *correlates* with accuracy\n",
    "\n",
    "This is an approximate accuracy which doesn't really track the model's actual performance, and is just used here as a metric to show progress."
   ]
  },
  {
   "cell_type": "code",
   "execution_count": 15,
   "metadata": {
    "tags": []
   },
   "outputs": [],
   "source": [
    "accuracy = keras.metrics.SparseCategoricalAccuracy()\n",
    "def ContrastiveAccuracy(y_true, y_pred):\n",
    "    # return accuracy(y_true[tf.argmax(y_pred,-1)],\n",
    "    #                 y_pred)\n",
    "    acc_masked = accuracy(y_true, y_pred)\n",
    "    acc_unmasked = accuracy(y_true, tf.transpose(y_pred))\n",
    "    acc = (acc_masked + acc_unmasked) / 2.0\n",
    "    return acc"
   ]
  },
  {
   "cell_type": "code",
   "execution_count": 16,
   "metadata": {
    "tags": []
   },
   "outputs": [],
   "source": [
    "class ContrastiveModel(tf.keras.Model):\n",
    "    def __init__(\n",
    "        self,\n",
    "        masked_encoder: tf.keras.Model,\n",
    "        unmasked_encoder: tf.keras.Model,\n",
    "        embed_dim: int = 512,\n",
    "        **kwargs\n",
    "    ):\n",
    "        super().__init__(**kwargs)\n",
    "        self.masked_encoder = masked_encoder\n",
    "        self.unmasked_encoder = unmasked_encoder\n",
    "\n",
    "#         self.masked_encoder.trainable = False\n",
    "#         self.unmasked_encoder.trainable = False\n",
    "\n",
    "        self.embed_dim = embed_dim\n",
    "        self.W_masked = tf.keras.layers.Dense(\n",
    "            self.embed_dim,\n",
    "            # input_shape=self.masked_encoder.output_shape[-1],\n",
    "            use_bias=False)\n",
    "        self.W_unmasked = tf.keras.layers.Dense(\n",
    "            self.embed_dim,\n",
    "            # input_shape=self.unmasked_encoder.output_shape[-1],\n",
    "            use_bias=False)\n",
    "        self.t = self.add_weight(\n",
    "            name=\"Temperature\",\n",
    "            shape=None,\n",
    "            trainable=True\n",
    "        )\n",
    "\n",
    "    def compile(self, *args, **kwargs):\n",
    "        return super().compile(\n",
    "            *args,\n",
    "            loss=tf.keras.losses.SparseCategoricalCrossentropy(from_logits=True),\n",
    "            **kwargs)\n",
    "\n",
    "    def test_step(self, data):\n",
    "        n = tf.shape(data[0])[0]\n",
    "        y_true = tf.range(n)\n",
    "        y_pred = self(data, training=False)\n",
    "        loss_masked = self.compiled_loss(y_true, y_pred)\n",
    "        loss_unmasked = self.compiled_loss(y_true, tf.transpose(y_pred))\n",
    "        loss = (loss_masked + loss_unmasked) / 2.0\n",
    "        self.compiled_metrics.update_state(y_true, y_pred)\n",
    "        return {m.name: m.result() for m in self.metrics}\n",
    "    \n",
    "    def train_step(self, data):\n",
    "        n = tf.shape(data[0])[0]\n",
    "        y_true = tf.range(n)\n",
    "        with tf.GradientTape() as tape:\n",
    "            y_pred = self(data, training=True)\n",
    "            loss_masked = self.compiled_loss(y_true, y_pred)\n",
    "            loss_unmasked = self.compiled_loss(y_true, tf.transpose(y_pred))\n",
    "            loss = (loss_masked + loss_unmasked) / 2.0\n",
    "        grads = tape.gradient(loss, self.trainable_weights)\n",
    "        self.optimizer.apply_gradients(zip(grads, self.trainable_weights))\n",
    "        self.compiled_metrics.update_state(y_true, y_pred)\n",
    "        return {m.name: m.result() for m in self.metrics}\n",
    "\n",
    "    def call(self, inputs, training=False):\n",
    "        # Get the images from input\n",
    "        masked_images, unmasked_images = inputs[0], inputs[1]\n",
    "\n",
    "        # Embed them using the encoders\n",
    "        masked_features = self.masked_encoder(masked_images)\n",
    "        unmasked_features = self.unmasked_encoder(unmasked_images)\n",
    "\n",
    "        # Joint multimodal embedding\n",
    "        masked_embeddings = self.W_masked(masked_features)\n",
    "        unmasked_embeddings = self.W_unmasked(unmasked_features)\n",
    "\n",
    "        # Normalize\n",
    "        masked_embeddings = masked_embeddings / tf.norm(masked_embeddings)\n",
    "        unmasked_embeddings = unmasked_embeddings / tf.norm(unmasked_embeddings)\n",
    "\n",
    "        logits = tf.tensordot(masked_embeddings, tf.transpose(unmasked_embeddings), axes=1) * tf.exp(self.t)\n",
    "\n",
    "        return logits"
   ]
  },
  {
   "cell_type": "code",
   "execution_count": 17,
   "metadata": {
    "tags": []
   },
   "outputs": [],
   "source": [
    "cm = ContrastiveModel(masked_encoder, unmasked_encoder)\n",
    "cm.compile(\n",
    "    optimizer=tf.keras.optimizers.Adam(),\n",
    "    metrics=[\n",
    "        ContrastiveAccuracy\n",
    "    ],\n",
    "    run_eagerly=False # Set to true to debug\n",
    ")"
   ]
  },
  {
   "cell_type": "code",
   "execution_count": 18,
   "metadata": {},
   "outputs": [
    {
     "data": {
      "text/plain": [
       "(4, 28, 28)"
      ]
     },
     "execution_count": 18,
     "metadata": {},
     "output_type": "execute_result"
    }
   ],
   "source": [
    "data[0][1][:4].shape"
   ]
  },
  {
   "cell_type": "code",
   "execution_count": 19,
   "metadata": {
    "tags": []
   },
   "outputs": [
    {
     "name": "stderr",
     "output_type": "stream",
     "text": [
      "2023-11-18 19:23:38.821530: I tensorflow/compiler/xla/stream_executor/cuda/cuda_dnn.cc:424] Loaded cuDNN version 8800\n"
     ]
    },
    {
     "data": {
      "text/plain": [
       "<tf.Tensor: shape=(4, 4), dtype=float32, numpy=\n",
       "array([[-0.00069009, -0.00072892, -0.00077364, -0.00071273],\n",
       "       [-0.00067259, -0.00070977, -0.00075384, -0.00069391],\n",
       "       [-0.00055697, -0.00059492, -0.00063852, -0.00057727],\n",
       "       [-0.00070162, -0.00073847, -0.00078363, -0.00072317]],\n",
       "      dtype=float32)>"
      ]
     },
     "execution_count": 19,
     "metadata": {},
     "output_type": "execute_result"
    }
   ],
   "source": [
    "cm((data[0][0][:4],data[0][1][:4]))"
   ]
  },
  {
   "cell_type": "code",
   "execution_count": 20,
   "metadata": {
    "tags": []
   },
   "outputs": [],
   "source": [
    "training_data = DataGenerator(x_train, y_train, batch_size=32, rng=np.random.default_rng(0), min_crop = 0.4, max_crop = 1)\n",
    "# No cropping\n",
    "validation_data = DataGenerator(x_val, y_val, batch_size=32, rng=np.random.default_rng(0), min_crop = 1, max_crop = 1)"
   ]
  },
  {
   "cell_type": "code",
   "execution_count": 21,
   "metadata": {
    "tags": []
   },
   "outputs": [
    {
     "data": {
      "text/plain": [
       "32"
      ]
     },
     "execution_count": 21,
     "metadata": {},
     "output_type": "execute_result"
    }
   ],
   "source": [
    "len(training_data[0][0])"
   ]
  },
  {
   "cell_type": "code",
   "execution_count": 22,
   "metadata": {
    "tags": []
   },
   "outputs": [
    {
     "data": {
      "text/plain": [
       "<tf.Tensor: shape=(32, 32), dtype=float32, numpy=\n",
       "array([[-6.0156734e-05, -5.5890872e-05, -5.3714986e-05, ...,\n",
       "        -5.0444643e-05, -5.9608104e-05, -5.1897161e-05],\n",
       "       [-7.2012786e-05, -6.7957721e-05, -6.5984845e-05, ...,\n",
       "        -6.2670115e-05, -7.1701892e-05, -6.4185850e-05],\n",
       "       [-7.2852461e-05, -6.8775837e-05, -6.6833694e-05, ...,\n",
       "        -6.3487467e-05, -7.2708572e-05, -6.5027736e-05],\n",
       "       ...,\n",
       "       [-7.8197656e-05, -7.4120326e-05, -7.2150389e-05, ...,\n",
       "        -6.8773996e-05, -7.8027108e-05, -7.0316761e-05],\n",
       "       [-6.7379777e-05, -6.3393483e-05, -6.1337385e-05, ...,\n",
       "        -5.7972804e-05, -6.7167282e-05, -5.9585243e-05],\n",
       "       [-9.6749020e-05, -9.2879600e-05, -9.1043563e-05, ...,\n",
       "        -8.7634027e-05, -9.6816206e-05, -8.9221510e-05]], dtype=float32)>"
      ]
     },
     "execution_count": 22,
     "metadata": {},
     "output_type": "execute_result"
    }
   ],
   "source": [
    "cm(validation_data[0])"
   ]
  },
  {
   "cell_type": "code",
   "execution_count": 23,
   "metadata": {
    "tags": []
   },
   "outputs": [
    {
     "data": {
      "text/plain": [
       "<tf.Tensor: shape=(), dtype=float32, numpy=0.03125>"
      ]
     },
     "execution_count": 23,
     "metadata": {},
     "output_type": "execute_result"
    }
   ],
   "source": [
    "ContrastiveAccuracy(np.arange(validation_data[0][0].shape[0]),cm(validation_data[0]))"
   ]
  },
  {
   "cell_type": "code",
   "execution_count": 24,
   "metadata": {
    "scrolled": true,
    "tags": []
   },
   "outputs": [
    {
     "name": "stdout",
     "output_type": "stream",
     "text": [
      "Epoch 1/300\n"
     ]
    },
    {
     "name": "stderr",
     "output_type": "stream",
     "text": [
      "2023-11-18 19:23:39.934861: I tensorflow/core/common_runtime/executor.cc:1197] [/device:CPU:0] (DEBUG INFO) Executor start aborting (this does not indicate an error and you can ignore this message): INVALID_ARGUMENT: You must feed a value for placeholder tensor 'Placeholder/_0' with dtype int32\n",
      "\t [[{{node Placeholder/_0}}]]\n",
      "2023-11-18 19:23:41.402449: E tensorflow/core/grappler/optimizers/meta_optimizer.cc:954] layout failed: INVALID_ARGUMENT: Size of values 0 does not match size of permutation 4 @ fanin shape incontrastive_model/sequential/dropout/dropout/SelectV2-2-TransposeNHWCToNCHW-LayoutOptimizer\n",
      "2023-11-18 19:23:41.789809: I tensorflow/compiler/xla/service/service.cc:169] XLA service 0x7fd04403e430 initialized for platform CUDA (this does not guarantee that XLA will be used). Devices:\n",
      "2023-11-18 19:23:41.790104: I tensorflow/compiler/xla/service/service.cc:177]   StreamExecutor device (0): NVIDIA GeForce RTX 2080 Ti, Compute Capability 7.5\n",
      "2023-11-18 19:23:41.794569: I tensorflow/compiler/mlir/tensorflow/utils/dump_mlir_util.cc:269] disabling MLIR crash reproducer, set env var `MLIR_CRASH_REPRODUCER_DIRECTORY` to enable.\n",
      "2023-11-18 19:23:41.922668: I ./tensorflow/compiler/jit/device_compiler.h:180] Compiled cluster using XLA!  This line is logged at most once for the lifetime of the process.\n"
     ]
    },
    {
     "name": "stdout",
     "output_type": "stream",
     "text": [
      "100/100 [==============================] - ETA: 0s - loss: 3.4657 - ContrastiveAccuracy: 0.0322"
     ]
    },
    {
     "name": "stderr",
     "output_type": "stream",
     "text": [
      "2023-11-18 19:23:52.248978: I tensorflow/core/common_runtime/executor.cc:1197] [/device:CPU:0] (DEBUG INFO) Executor start aborting (this does not indicate an error and you can ignore this message): INVALID_ARGUMENT: You must feed a value for placeholder tensor 'Placeholder/_0' with dtype int32\n",
      "\t [[{{node Placeholder/_0}}]]\n"
     ]
    },
    {
     "name": "stdout",
     "output_type": "stream",
     "text": [
      "100/100 [==============================] - 13s 97ms/step - loss: 3.4657 - ContrastiveAccuracy: 0.0322 - val_loss: 3.4657 - val_ContrastiveAccuracy: 0.0324\n",
      "Epoch 2/300\n",
      "100/100 [==============================] - 9s 94ms/step - loss: 3.4656 - ContrastiveAccuracy: 0.0321 - val_loss: 3.4657 - val_ContrastiveAccuracy: 0.0321\n",
      "Epoch 3/300\n",
      "100/100 [==============================] - 9s 94ms/step - loss: 3.4589 - ContrastiveAccuracy: 0.0336 - val_loss: 3.4464 - val_ContrastiveAccuracy: 0.0379\n",
      "Epoch 4/300\n",
      "100/100 [==============================] - 9s 94ms/step - loss: 3.4543 - ContrastiveAccuracy: 0.0414 - val_loss: 3.4435 - val_ContrastiveAccuracy: 0.0440\n",
      "Epoch 5/300\n",
      "100/100 [==============================] - 9s 93ms/step - loss: 3.4508 - ContrastiveAccuracy: 0.0459 - val_loss: 3.4412 - val_ContrastiveAccuracy: 0.0475\n",
      "Epoch 6/300\n",
      "100/100 [==============================] - 9s 93ms/step - loss: 3.4471 - ContrastiveAccuracy: 0.0487 - val_loss: 3.4559 - val_ContrastiveAccuracy: 0.0497\n",
      "Epoch 7/300\n",
      "100/100 [==============================] - 9s 93ms/step - loss: 3.4435 - ContrastiveAccuracy: 0.0505 - val_loss: 3.4302 - val_ContrastiveAccuracy: 0.0512\n",
      "Epoch 8/300\n",
      "100/100 [==============================] - 9s 93ms/step - loss: 3.4383 - ContrastiveAccuracy: 0.0519 - val_loss: 3.4283 - val_ContrastiveAccuracy: 0.0525\n",
      "Epoch 9/300\n",
      "100/100 [==============================] - 9s 93ms/step - loss: 3.4344 - ContrastiveAccuracy: 0.0530 - val_loss: 3.4154 - val_ContrastiveAccuracy: 0.0534\n",
      "Epoch 10/300\n",
      "100/100 [==============================] - 9s 92ms/step - loss: 3.4244 - ContrastiveAccuracy: 0.0538 - val_loss: 3.4132 - val_ContrastiveAccuracy: 0.0542\n",
      "Epoch 11/300\n",
      "100/100 [==============================] - 9s 92ms/step - loss: 3.4181 - ContrastiveAccuracy: 0.0546 - val_loss: 3.3974 - val_ContrastiveAccuracy: 0.0550\n",
      "Epoch 12/300\n",
      "100/100 [==============================] - 9s 92ms/step - loss: 3.4093 - ContrastiveAccuracy: 0.0552 - val_loss: 3.3834 - val_ContrastiveAccuracy: 0.0554\n",
      "Epoch 13/300\n",
      "100/100 [==============================] - 9s 92ms/step - loss: 3.3998 - ContrastiveAccuracy: 0.0557 - val_loss: 3.3717 - val_ContrastiveAccuracy: 0.0559\n",
      "Epoch 14/300\n",
      "100/100 [==============================] - 9s 92ms/step - loss: 3.3905 - ContrastiveAccuracy: 0.0561 - val_loss: 3.3567 - val_ContrastiveAccuracy: 0.0563\n",
      "Epoch 15/300\n",
      "100/100 [==============================] - 9s 92ms/step - loss: 3.3796 - ContrastiveAccuracy: 0.0565 - val_loss: 3.3367 - val_ContrastiveAccuracy: 0.0567\n",
      "Epoch 16/300\n",
      "100/100 [==============================] - 9s 92ms/step - loss: 3.3655 - ContrastiveAccuracy: 0.0568 - val_loss: 3.3165 - val_ContrastiveAccuracy: 0.0570\n",
      "Epoch 17/300\n",
      "100/100 [==============================] - 9s 92ms/step - loss: 3.3405 - ContrastiveAccuracy: 0.0571 - val_loss: 3.3011 - val_ContrastiveAccuracy: 0.0573\n",
      "Epoch 18/300\n",
      "100/100 [==============================] - 9s 92ms/step - loss: 3.3259 - ContrastiveAccuracy: 0.0574 - val_loss: 3.2732 - val_ContrastiveAccuracy: 0.0575\n",
      "Epoch 19/300\n",
      "100/100 [==============================] - 9s 92ms/step - loss: 3.3061 - ContrastiveAccuracy: 0.0576 - val_loss: 3.2345 - val_ContrastiveAccuracy: 0.0577\n",
      "Epoch 20/300\n",
      "100/100 [==============================] - 9s 92ms/step - loss: 3.2939 - ContrastiveAccuracy: 0.0578 - val_loss: 3.1970 - val_ContrastiveAccuracy: 0.0579\n",
      "Epoch 21/300\n",
      "100/100 [==============================] - 9s 92ms/step - loss: 3.2617 - ContrastiveAccuracy: 0.0581 - val_loss: 3.1674 - val_ContrastiveAccuracy: 0.0582\n",
      "Epoch 22/300\n",
      "100/100 [==============================] - 9s 92ms/step - loss: 3.2244 - ContrastiveAccuracy: 0.0585 - val_loss: 3.1006 - val_ContrastiveAccuracy: 0.0587\n",
      "Epoch 23/300\n",
      "100/100 [==============================] - 9s 92ms/step - loss: 3.1914 - ContrastiveAccuracy: 0.0590 - val_loss: 3.0453 - val_ContrastiveAccuracy: 0.0596\n",
      "Epoch 24/300\n",
      "100/100 [==============================] - 9s 92ms/step - loss: 3.1633 - ContrastiveAccuracy: 0.0602 - val_loss: 2.9838 - val_ContrastiveAccuracy: 0.0609\n",
      "Epoch 25/300\n",
      "100/100 [==============================] - 9s 92ms/step - loss: 3.1375 - ContrastiveAccuracy: 0.0616 - val_loss: 2.9242 - val_ContrastiveAccuracy: 0.0624\n",
      "Epoch 26/300\n",
      "100/100 [==============================] - 9s 92ms/step - loss: 3.0883 - ContrastiveAccuracy: 0.0633 - val_loss: 2.8717 - val_ContrastiveAccuracy: 0.0643\n",
      "Epoch 27/300\n",
      "100/100 [==============================] - 9s 92ms/step - loss: 3.0529 - ContrastiveAccuracy: 0.0653 - val_loss: 2.7974 - val_ContrastiveAccuracy: 0.0664\n",
      "Epoch 28/300\n",
      "100/100 [==============================] - 9s 92ms/step - loss: 3.0259 - ContrastiveAccuracy: 0.0676 - val_loss: 2.7236 - val_ContrastiveAccuracy: 0.0688\n",
      "Epoch 29/300\n",
      "100/100 [==============================] - 9s 92ms/step - loss: 2.9958 - ContrastiveAccuracy: 0.0701 - val_loss: 2.6660 - val_ContrastiveAccuracy: 0.0715\n",
      "Epoch 30/300\n",
      "100/100 [==============================] - 9s 92ms/step - loss: 2.9959 - ContrastiveAccuracy: 0.0729 - val_loss: 2.6293 - val_ContrastiveAccuracy: 0.0743\n",
      "Epoch 31/300\n",
      "100/100 [==============================] - 9s 92ms/step - loss: 2.9698 - ContrastiveAccuracy: 0.0758 - val_loss: 2.6008 - val_ContrastiveAccuracy: 0.0771\n",
      "Epoch 32/300\n",
      "100/100 [==============================] - 9s 92ms/step - loss: 2.9253 - ContrastiveAccuracy: 0.0784 - val_loss: 2.5130 - val_ContrastiveAccuracy: 0.0799\n",
      "Epoch 33/300\n",
      "100/100 [==============================] - 9s 91ms/step - loss: 2.9164 - ContrastiveAccuracy: 0.0813 - val_loss: 2.5111 - val_ContrastiveAccuracy: 0.0825\n",
      "Epoch 34/300\n",
      "100/100 [==============================] - 9s 92ms/step - loss: 2.9159 - ContrastiveAccuracy: 0.0837 - val_loss: 2.4398 - val_ContrastiveAccuracy: 0.0849\n",
      "Epoch 35/300\n",
      "100/100 [==============================] - 9s 91ms/step - loss: 2.8701 - ContrastiveAccuracy: 0.0861 - val_loss: 2.4162 - val_ContrastiveAccuracy: 0.0876\n",
      "Epoch 36/300\n",
      "100/100 [==============================] - 9s 92ms/step - loss: 2.8660 - ContrastiveAccuracy: 0.0891 - val_loss: 2.3575 - val_ContrastiveAccuracy: 0.0905\n",
      "Epoch 37/300\n",
      "100/100 [==============================] - 9s 92ms/step - loss: 2.8845 - ContrastiveAccuracy: 0.0920 - val_loss: 2.3594 - val_ContrastiveAccuracy: 0.0935\n",
      "Epoch 38/300\n",
      "100/100 [==============================] - 9s 92ms/step - loss: 2.8667 - ContrastiveAccuracy: 0.0949 - val_loss: 2.3268 - val_ContrastiveAccuracy: 0.0963\n",
      "Epoch 39/300\n",
      "100/100 [==============================] - 9s 92ms/step - loss: 2.8600 - ContrastiveAccuracy: 0.0975 - val_loss: 2.3519 - val_ContrastiveAccuracy: 0.0989\n",
      "Epoch 40/300\n",
      "100/100 [==============================] - 9s 92ms/step - loss: 2.8530 - ContrastiveAccuracy: 0.1001 - val_loss: 2.3107 - val_ContrastiveAccuracy: 0.1014\n",
      "Epoch 41/300\n",
      "100/100 [==============================] - 9s 91ms/step - loss: 2.8577 - ContrastiveAccuracy: 0.1028 - val_loss: 2.3291 - val_ContrastiveAccuracy: 0.1039\n",
      "Epoch 42/300\n",
      "100/100 [==============================] - 9s 92ms/step - loss: 2.8198 - ContrastiveAccuracy: 0.1050 - val_loss: 2.2983 - val_ContrastiveAccuracy: 0.1062\n",
      "Epoch 43/300\n",
      "100/100 [==============================] - 9s 91ms/step - loss: 2.8441 - ContrastiveAccuracy: 0.1073 - val_loss: 2.2757 - val_ContrastiveAccuracy: 0.1085\n",
      "Epoch 44/300\n",
      "100/100 [==============================] - 9s 92ms/step - loss: 2.7896 - ContrastiveAccuracy: 0.1097 - val_loss: 2.2600 - val_ContrastiveAccuracy: 0.1110\n",
      "Epoch 45/300\n",
      "100/100 [==============================] - 9s 91ms/step - loss: 2.8125 - ContrastiveAccuracy: 0.1122 - val_loss: 2.2353 - val_ContrastiveAccuracy: 0.1136\n",
      "Epoch 46/300\n",
      "100/100 [==============================] - 9s 92ms/step - loss: 2.7913 - ContrastiveAccuracy: 0.1149 - val_loss: 2.1764 - val_ContrastiveAccuracy: 0.1161\n",
      "Epoch 47/300\n",
      "100/100 [==============================] - 9s 91ms/step - loss: 2.7901 - ContrastiveAccuracy: 0.1173 - val_loss: 2.2259 - val_ContrastiveAccuracy: 0.1185\n",
      "Epoch 48/300\n",
      "100/100 [==============================] - 9s 91ms/step - loss: 2.7468 - ContrastiveAccuracy: 0.1197 - val_loss: 2.1506 - val_ContrastiveAccuracy: 0.1209\n",
      "Epoch 49/300\n",
      "100/100 [==============================] - 9s 92ms/step - loss: 2.7367 - ContrastiveAccuracy: 0.1221 - val_loss: 2.1355 - val_ContrastiveAccuracy: 0.1233\n",
      "Epoch 50/300\n",
      "100/100 [==============================] - 9s 91ms/step - loss: 2.7581 - ContrastiveAccuracy: 0.1244 - val_loss: 2.1234 - val_ContrastiveAccuracy: 0.1256\n",
      "Epoch 51/300\n",
      "100/100 [==============================] - 9s 91ms/step - loss: 2.7424 - ContrastiveAccuracy: 0.1268 - val_loss: 2.0833 - val_ContrastiveAccuracy: 0.1278\n",
      "Epoch 52/300\n",
      "100/100 [==============================] - 9s 92ms/step - loss: 2.7190 - ContrastiveAccuracy: 0.1289 - val_loss: 2.0507 - val_ContrastiveAccuracy: 0.1300\n",
      "Epoch 53/300\n",
      "100/100 [==============================] - 9s 92ms/step - loss: 2.6968 - ContrastiveAccuracy: 0.1312 - val_loss: 2.0088 - val_ContrastiveAccuracy: 0.1326\n",
      "Epoch 54/300\n",
      "100/100 [==============================] - 9s 91ms/step - loss: 2.7223 - ContrastiveAccuracy: 0.1339 - val_loss: 2.0175 - val_ContrastiveAccuracy: 0.1353\n",
      "Epoch 55/300\n",
      "100/100 [==============================] - 9s 91ms/step - loss: 2.6538 - ContrastiveAccuracy: 0.1367 - val_loss: 1.9742 - val_ContrastiveAccuracy: 0.1381\n",
      "Epoch 56/300\n",
      "100/100 [==============================] - 9s 91ms/step - loss: 2.7148 - ContrastiveAccuracy: 0.1395 - val_loss: 2.0264 - val_ContrastiveAccuracy: 0.1409\n",
      "Epoch 57/300\n",
      "100/100 [==============================] - 9s 92ms/step - loss: 2.6776 - ContrastiveAccuracy: 0.1422 - val_loss: 1.9362 - val_ContrastiveAccuracy: 0.1437\n",
      "Epoch 58/300\n",
      "100/100 [==============================] - 9s 92ms/step - loss: 2.6912 - ContrastiveAccuracy: 0.1451 - val_loss: 1.9385 - val_ContrastiveAccuracy: 0.1464\n",
      "Epoch 59/300\n",
      "100/100 [==============================] - 9s 92ms/step - loss: 2.6321 - ContrastiveAccuracy: 0.1477 - val_loss: 1.9251 - val_ContrastiveAccuracy: 0.1489\n",
      "Epoch 60/300\n",
      "100/100 [==============================] - 9s 91ms/step - loss: 2.6380 - ContrastiveAccuracy: 0.1501 - val_loss: 1.8858 - val_ContrastiveAccuracy: 0.1513\n",
      "Epoch 61/300\n",
      "100/100 [==============================] - 9s 92ms/step - loss: 2.6471 - ContrastiveAccuracy: 0.1526 - val_loss: 1.9075 - val_ContrastiveAccuracy: 0.1539\n",
      "Epoch 62/300\n",
      "100/100 [==============================] - 9s 92ms/step - loss: 2.6350 - ContrastiveAccuracy: 0.1552 - val_loss: 1.8920 - val_ContrastiveAccuracy: 0.1567\n",
      "Epoch 63/300\n",
      "100/100 [==============================] - 9s 92ms/step - loss: 2.6590 - ContrastiveAccuracy: 0.1581 - val_loss: 1.8742 - val_ContrastiveAccuracy: 0.1595\n",
      "Epoch 64/300\n",
      "100/100 [==============================] - 9s 92ms/step - loss: 2.6022 - ContrastiveAccuracy: 0.1608 - val_loss: 1.8167 - val_ContrastiveAccuracy: 0.1621\n",
      "Epoch 65/300\n",
      "100/100 [==============================] - 9s 92ms/step - loss: 2.6091 - ContrastiveAccuracy: 0.1633 - val_loss: 1.8652 - val_ContrastiveAccuracy: 0.1647\n",
      "Epoch 66/300\n",
      "100/100 [==============================] - 9s 92ms/step - loss: 2.6044 - ContrastiveAccuracy: 0.1662 - val_loss: 1.8017 - val_ContrastiveAccuracy: 0.1674\n",
      "Epoch 67/300\n",
      "100/100 [==============================] - 9s 92ms/step - loss: 2.5772 - ContrastiveAccuracy: 0.1687 - val_loss: 1.8264 - val_ContrastiveAccuracy: 0.1701\n",
      "Epoch 68/300\n",
      "100/100 [==============================] - 9s 91ms/step - loss: 2.5738 - ContrastiveAccuracy: 0.1714 - val_loss: 1.7860 - val_ContrastiveAccuracy: 0.1727\n",
      "Epoch 69/300\n",
      "100/100 [==============================] - 9s 91ms/step - loss: 2.6125 - ContrastiveAccuracy: 0.1741 - val_loss: 1.7801 - val_ContrastiveAccuracy: 0.1754\n",
      "Epoch 70/300\n",
      "100/100 [==============================] - 9s 91ms/step - loss: 2.5457 - ContrastiveAccuracy: 0.1768 - val_loss: 1.7968 - val_ContrastiveAccuracy: 0.1782\n",
      "Epoch 71/300\n",
      "100/100 [==============================] - 9s 92ms/step - loss: 2.5735 - ContrastiveAccuracy: 0.1796 - val_loss: 1.7882 - val_ContrastiveAccuracy: 0.1808\n",
      "Epoch 72/300\n",
      "100/100 [==============================] - 9s 92ms/step - loss: 2.5537 - ContrastiveAccuracy: 0.1821 - val_loss: 1.7220 - val_ContrastiveAccuracy: 0.1835\n",
      "Epoch 73/300\n",
      "100/100 [==============================] - 9s 92ms/step - loss: 2.5851 - ContrastiveAccuracy: 0.1848 - val_loss: 1.7376 - val_ContrastiveAccuracy: 0.1861\n",
      "Epoch 74/300\n",
      "100/100 [==============================] - 9s 92ms/step - loss: 2.5123 - ContrastiveAccuracy: 0.1875 - val_loss: 1.7038 - val_ContrastiveAccuracy: 0.1888\n",
      "Epoch 75/300\n",
      "100/100 [==============================] - 9s 92ms/step - loss: 2.5406 - ContrastiveAccuracy: 0.1900 - val_loss: 1.6747 - val_ContrastiveAccuracy: 0.1913\n",
      "Epoch 76/300\n",
      "100/100 [==============================] - 9s 92ms/step - loss: 2.5486 - ContrastiveAccuracy: 0.1925 - val_loss: 1.6999 - val_ContrastiveAccuracy: 0.1938\n",
      "Epoch 77/300\n",
      "100/100 [==============================] - 9s 92ms/step - loss: 2.5444 - ContrastiveAccuracy: 0.1952 - val_loss: 1.7161 - val_ContrastiveAccuracy: 0.1965\n",
      "Epoch 78/300\n",
      "100/100 [==============================] - 9s 92ms/step - loss: 2.4954 - ContrastiveAccuracy: 0.1977 - val_loss: 1.6895 - val_ContrastiveAccuracy: 0.1989\n",
      "Epoch 79/300\n",
      "100/100 [==============================] - 9s 92ms/step - loss: 2.5750 - ContrastiveAccuracy: 0.2001 - val_loss: 1.6767 - val_ContrastiveAccuracy: 0.2014\n",
      "Epoch 80/300\n",
      "100/100 [==============================] - 9s 92ms/step - loss: 2.5500 - ContrastiveAccuracy: 0.2027 - val_loss: 1.7223 - val_ContrastiveAccuracy: 0.2039\n",
      "Epoch 81/300\n",
      "100/100 [==============================] - 9s 92ms/step - loss: 2.5106 - ContrastiveAccuracy: 0.2051 - val_loss: 1.6923 - val_ContrastiveAccuracy: 0.2063\n",
      "Epoch 82/300\n",
      "100/100 [==============================] - 9s 91ms/step - loss: 2.5337 - ContrastiveAccuracy: 0.2075 - val_loss: 1.6555 - val_ContrastiveAccuracy: 0.2087\n",
      "Epoch 83/300\n",
      "100/100 [==============================] - 9s 91ms/step - loss: 2.5453 - ContrastiveAccuracy: 0.2100 - val_loss: 1.7105 - val_ContrastiveAccuracy: 0.2111\n",
      "Epoch 84/300\n",
      "100/100 [==============================] - 9s 92ms/step - loss: 2.5176 - ContrastiveAccuracy: 0.2122 - val_loss: 1.6669 - val_ContrastiveAccuracy: 0.2133\n",
      "Epoch 85/300\n",
      "100/100 [==============================] - 9s 91ms/step - loss: 2.4635 - ContrastiveAccuracy: 0.2144 - val_loss: 1.6808 - val_ContrastiveAccuracy: 0.2157\n",
      "Epoch 86/300\n",
      "100/100 [==============================] - 9s 92ms/step - loss: 2.4866 - ContrastiveAccuracy: 0.2170 - val_loss: 1.6009 - val_ContrastiveAccuracy: 0.2182\n",
      "Epoch 87/300\n",
      "100/100 [==============================] - 9s 92ms/step - loss: 2.4519 - ContrastiveAccuracy: 0.2193 - val_loss: 1.5994 - val_ContrastiveAccuracy: 0.2206\n",
      "Epoch 88/300\n",
      "100/100 [==============================] - 9s 92ms/step - loss: 2.4679 - ContrastiveAccuracy: 0.2218 - val_loss: 1.6925 - val_ContrastiveAccuracy: 0.2228\n",
      "Epoch 89/300\n",
      "100/100 [==============================] - 9s 92ms/step - loss: 2.4725 - ContrastiveAccuracy: 0.2237 - val_loss: 1.6293 - val_ContrastiveAccuracy: 0.2248\n",
      "Epoch 90/300\n",
      "100/100 [==============================] - 9s 92ms/step - loss: 2.4888 - ContrastiveAccuracy: 0.2259 - val_loss: 1.6871 - val_ContrastiveAccuracy: 0.2269\n",
      "Epoch 91/300\n",
      "100/100 [==============================] - 9s 91ms/step - loss: 2.4513 - ContrastiveAccuracy: 0.2279 - val_loss: 1.6106 - val_ContrastiveAccuracy: 0.2290\n",
      "Epoch 92/300\n",
      "100/100 [==============================] - 9s 91ms/step - loss: 2.4516 - ContrastiveAccuracy: 0.2300 - val_loss: 1.5924 - val_ContrastiveAccuracy: 0.2311\n",
      "Epoch 93/300\n",
      "100/100 [==============================] - 9s 91ms/step - loss: 2.4374 - ContrastiveAccuracy: 0.2322 - val_loss: 1.5693 - val_ContrastiveAccuracy: 0.2332\n",
      "Epoch 94/300\n",
      "100/100 [==============================] - 9s 92ms/step - loss: 2.4772 - ContrastiveAccuracy: 0.2342 - val_loss: 1.5773 - val_ContrastiveAccuracy: 0.2353\n",
      "Epoch 95/300\n",
      "100/100 [==============================] - 9s 91ms/step - loss: 2.4800 - ContrastiveAccuracy: 0.2363 - val_loss: 1.6212 - val_ContrastiveAccuracy: 0.2372\n",
      "Epoch 96/300\n",
      "100/100 [==============================] - 9s 91ms/step - loss: 2.4526 - ContrastiveAccuracy: 0.2382 - val_loss: 1.5973 - val_ContrastiveAccuracy: 0.2392\n",
      "Epoch 97/300\n",
      "100/100 [==============================] - 9s 92ms/step - loss: 2.4496 - ContrastiveAccuracy: 0.2402 - val_loss: 1.5839 - val_ContrastiveAccuracy: 0.2412\n",
      "Epoch 98/300\n",
      "100/100 [==============================] - 9s 91ms/step - loss: 2.4690 - ContrastiveAccuracy: 0.2422 - val_loss: 1.5830 - val_ContrastiveAccuracy: 0.2432\n",
      "Epoch 99/300\n",
      "100/100 [==============================] - 9s 92ms/step - loss: 2.4890 - ContrastiveAccuracy: 0.2441 - val_loss: 1.6059 - val_ContrastiveAccuracy: 0.2451\n",
      "Epoch 100/300\n",
      "100/100 [==============================] - 9s 92ms/step - loss: 2.4679 - ContrastiveAccuracy: 0.2461 - val_loss: 1.6517 - val_ContrastiveAccuracy: 0.2470\n",
      "Epoch 101/300\n",
      "100/100 [==============================] - 9s 91ms/step - loss: 2.4424 - ContrastiveAccuracy: 0.2478 - val_loss: 1.5421 - val_ContrastiveAccuracy: 0.2487\n",
      "Epoch 102/300\n",
      "100/100 [==============================] - 9s 91ms/step - loss: 2.4622 - ContrastiveAccuracy: 0.2496 - val_loss: 1.5824 - val_ContrastiveAccuracy: 0.2505\n",
      "Epoch 103/300\n",
      "100/100 [==============================] - 9s 91ms/step - loss: 2.4504 - ContrastiveAccuracy: 0.2513 - val_loss: 1.6167 - val_ContrastiveAccuracy: 0.2521\n",
      "Epoch 104/300\n",
      "100/100 [==============================] - 9s 91ms/step - loss: 2.4145 - ContrastiveAccuracy: 0.2530 - val_loss: 1.5317 - val_ContrastiveAccuracy: 0.2539\n",
      "Epoch 105/300\n",
      "100/100 [==============================] - 9s 91ms/step - loss: 2.4117 - ContrastiveAccuracy: 0.2548 - val_loss: 1.5471 - val_ContrastiveAccuracy: 0.2558\n",
      "Epoch 106/300\n",
      "100/100 [==============================] - 9s 91ms/step - loss: 2.4469 - ContrastiveAccuracy: 0.2566 - val_loss: 1.5309 - val_ContrastiveAccuracy: 0.2575\n",
      "Epoch 107/300\n",
      "100/100 [==============================] - 9s 92ms/step - loss: 2.4660 - ContrastiveAccuracy: 0.2584 - val_loss: 1.5678 - val_ContrastiveAccuracy: 0.2593\n",
      "Epoch 108/300\n",
      "100/100 [==============================] - 9s 91ms/step - loss: 2.4341 - ContrastiveAccuracy: 0.2602 - val_loss: 1.5728 - val_ContrastiveAccuracy: 0.2610\n",
      "Epoch 109/300\n",
      "100/100 [==============================] - 9s 91ms/step - loss: 2.4299 - ContrastiveAccuracy: 0.2619 - val_loss: 1.5421 - val_ContrastiveAccuracy: 0.2626\n",
      "Epoch 110/300\n",
      "100/100 [==============================] - 9s 91ms/step - loss: 2.4435 - ContrastiveAccuracy: 0.2634 - val_loss: 1.5187 - val_ContrastiveAccuracy: 0.2642\n",
      "Epoch 111/300\n",
      "100/100 [==============================] - 9s 91ms/step - loss: 2.4508 - ContrastiveAccuracy: 0.2650 - val_loss: 1.5381 - val_ContrastiveAccuracy: 0.2658\n",
      "Epoch 112/300\n",
      "100/100 [==============================] - 9s 91ms/step - loss: 2.4395 - ContrastiveAccuracy: 0.2667 - val_loss: 1.5626 - val_ContrastiveAccuracy: 0.2676\n",
      "Epoch 113/300\n",
      "100/100 [==============================] - 9s 91ms/step - loss: 2.3813 - ContrastiveAccuracy: 0.2684 - val_loss: 1.5030 - val_ContrastiveAccuracy: 0.2693\n",
      "Epoch 114/300\n",
      "100/100 [==============================] - 9s 91ms/step - loss: 2.4412 - ContrastiveAccuracy: 0.2701 - val_loss: 1.5794 - val_ContrastiveAccuracy: 0.2708\n",
      "Epoch 115/300\n",
      "100/100 [==============================] - 9s 91ms/step - loss: 2.4443 - ContrastiveAccuracy: 0.2715 - val_loss: 1.5607 - val_ContrastiveAccuracy: 0.2723\n",
      "Epoch 116/300\n",
      "100/100 [==============================] - 9s 91ms/step - loss: 2.3900 - ContrastiveAccuracy: 0.2730 - val_loss: 1.5287 - val_ContrastiveAccuracy: 0.2738\n",
      "Epoch 117/300\n",
      "100/100 [==============================] - 9s 91ms/step - loss: 2.4378 - ContrastiveAccuracy: 0.2746 - val_loss: 1.5757 - val_ContrastiveAccuracy: 0.2753\n",
      "Epoch 118/300\n",
      "100/100 [==============================] - 9s 92ms/step - loss: 2.4598 - ContrastiveAccuracy: 0.2761 - val_loss: 1.4995 - val_ContrastiveAccuracy: 0.2768\n",
      "Epoch 119/300\n",
      "100/100 [==============================] - 9s 92ms/step - loss: 2.4171 - ContrastiveAccuracy: 0.2776 - val_loss: 1.5289 - val_ContrastiveAccuracy: 0.2783\n",
      "Epoch 120/300\n",
      "100/100 [==============================] - 9s 91ms/step - loss: 2.4443 - ContrastiveAccuracy: 0.2790 - val_loss: 1.5482 - val_ContrastiveAccuracy: 0.2797\n",
      "Epoch 121/300\n",
      "100/100 [==============================] - 9s 91ms/step - loss: 2.3906 - ContrastiveAccuracy: 0.2804 - val_loss: 1.5042 - val_ContrastiveAccuracy: 0.2811\n",
      "Epoch 122/300\n",
      "100/100 [==============================] - 9s 92ms/step - loss: 2.4366 - ContrastiveAccuracy: 0.2817 - val_loss: 1.5200 - val_ContrastiveAccuracy: 0.2824\n",
      "Epoch 123/300\n",
      "100/100 [==============================] - 9s 91ms/step - loss: 2.3911 - ContrastiveAccuracy: 0.2830 - val_loss: 1.5511 - val_ContrastiveAccuracy: 0.2837\n",
      "Epoch 124/300\n",
      "100/100 [==============================] - 9s 91ms/step - loss: 2.3756 - ContrastiveAccuracy: 0.2844 - val_loss: 1.4866 - val_ContrastiveAccuracy: 0.2852\n",
      "Epoch 125/300\n",
      "100/100 [==============================] - 9s 91ms/step - loss: 2.3981 - ContrastiveAccuracy: 0.2860 - val_loss: 1.4874 - val_ContrastiveAccuracy: 0.2867\n",
      "Epoch 126/300\n",
      "100/100 [==============================] - 9s 91ms/step - loss: 2.3924 - ContrastiveAccuracy: 0.2874 - val_loss: 1.5108 - val_ContrastiveAccuracy: 0.2880\n",
      "Epoch 127/300\n",
      "100/100 [==============================] - 9s 91ms/step - loss: 2.3799 - ContrastiveAccuracy: 0.2886 - val_loss: 1.5054 - val_ContrastiveAccuracy: 0.2892\n",
      "Epoch 128/300\n",
      "100/100 [==============================] - 9s 91ms/step - loss: 2.4004 - ContrastiveAccuracy: 0.2898 - val_loss: 1.4601 - val_ContrastiveAccuracy: 0.2905\n",
      "Epoch 129/300\n",
      "100/100 [==============================] - 9s 91ms/step - loss: 2.4197 - ContrastiveAccuracy: 0.2912 - val_loss: 1.4905 - val_ContrastiveAccuracy: 0.2919\n",
      "Epoch 130/300\n",
      "100/100 [==============================] - 9s 92ms/step - loss: 2.3832 - ContrastiveAccuracy: 0.2926 - val_loss: 1.5018 - val_ContrastiveAccuracy: 0.2933\n",
      "Epoch 131/300\n",
      "100/100 [==============================] - 9s 92ms/step - loss: 2.3745 - ContrastiveAccuracy: 0.2940 - val_loss: 1.4710 - val_ContrastiveAccuracy: 0.2946\n",
      "Epoch 132/300\n",
      "100/100 [==============================] - 9s 91ms/step - loss: 2.4176 - ContrastiveAccuracy: 0.2953 - val_loss: 1.5245 - val_ContrastiveAccuracy: 0.2958\n",
      "Epoch 133/300\n",
      "100/100 [==============================] - 9s 91ms/step - loss: 2.3593 - ContrastiveAccuracy: 0.2964 - val_loss: 1.4744 - val_ContrastiveAccuracy: 0.2969\n",
      "Epoch 134/300\n",
      "100/100 [==============================] - 9s 91ms/step - loss: 2.3862 - ContrastiveAccuracy: 0.2975 - val_loss: 1.4924 - val_ContrastiveAccuracy: 0.2982\n",
      "Epoch 135/300\n",
      "100/100 [==============================] - 9s 91ms/step - loss: 2.3915 - ContrastiveAccuracy: 0.2988 - val_loss: 1.4786 - val_ContrastiveAccuracy: 0.2995\n",
      "Epoch 136/300\n",
      "100/100 [==============================] - 9s 91ms/step - loss: 2.3840 - ContrastiveAccuracy: 0.3002 - val_loss: 1.5725 - val_ContrastiveAccuracy: 0.3007\n",
      "Epoch 137/300\n",
      "100/100 [==============================] - 9s 91ms/step - loss: 2.3636 - ContrastiveAccuracy: 0.3013 - val_loss: 1.4343 - val_ContrastiveAccuracy: 0.3019\n",
      "Epoch 138/300\n",
      "100/100 [==============================] - 9s 91ms/step - loss: 2.3885 - ContrastiveAccuracy: 0.3024 - val_loss: 1.4664 - val_ContrastiveAccuracy: 0.3029\n",
      "Epoch 139/300\n",
      "100/100 [==============================] - 9s 91ms/step - loss: 2.3818 - ContrastiveAccuracy: 0.3035 - val_loss: 1.4574 - val_ContrastiveAccuracy: 0.3041\n",
      "Epoch 140/300\n",
      "100/100 [==============================] - 9s 91ms/step - loss: 2.3656 - ContrastiveAccuracy: 0.3047 - val_loss: 1.4906 - val_ContrastiveAccuracy: 0.3052\n",
      "Epoch 141/300\n",
      "100/100 [==============================] - 9s 91ms/step - loss: 2.3421 - ContrastiveAccuracy: 0.3058 - val_loss: 1.4455 - val_ContrastiveAccuracy: 0.3064\n",
      "Epoch 142/300\n",
      "100/100 [==============================] - 9s 91ms/step - loss: 2.3431 - ContrastiveAccuracy: 0.3070 - val_loss: 1.4780 - val_ContrastiveAccuracy: 0.3074\n",
      "Epoch 143/300\n",
      "100/100 [==============================] - 9s 91ms/step - loss: 2.3573 - ContrastiveAccuracy: 0.3079 - val_loss: 1.4643 - val_ContrastiveAccuracy: 0.3085\n",
      "Epoch 144/300\n",
      "100/100 [==============================] - 9s 91ms/step - loss: 2.4140 - ContrastiveAccuracy: 0.3091 - val_loss: 1.4869 - val_ContrastiveAccuracy: 0.3097\n",
      "Epoch 145/300\n",
      "100/100 [==============================] - 9s 91ms/step - loss: 2.3759 - ContrastiveAccuracy: 0.3103 - val_loss: 1.4000 - val_ContrastiveAccuracy: 0.3109\n",
      "Epoch 146/300\n",
      "100/100 [==============================] - 9s 92ms/step - loss: 2.3370 - ContrastiveAccuracy: 0.3115 - val_loss: 1.4176 - val_ContrastiveAccuracy: 0.3121\n",
      "Epoch 147/300\n",
      "100/100 [==============================] - 9s 91ms/step - loss: 2.3546 - ContrastiveAccuracy: 0.3126 - val_loss: 1.4833 - val_ContrastiveAccuracy: 0.3132\n",
      "Epoch 148/300\n",
      "100/100 [==============================] - 9s 91ms/step - loss: 2.3427 - ContrastiveAccuracy: 0.3138 - val_loss: 1.4495 - val_ContrastiveAccuracy: 0.3144\n",
      "Epoch 149/300\n",
      "100/100 [==============================] - 9s 91ms/step - loss: 2.3407 - ContrastiveAccuracy: 0.3150 - val_loss: 1.4550 - val_ContrastiveAccuracy: 0.3155\n",
      "Epoch 150/300\n",
      "100/100 [==============================] - 9s 91ms/step - loss: 2.3866 - ContrastiveAccuracy: 0.3159 - val_loss: 1.4694 - val_ContrastiveAccuracy: 0.3165\n",
      "Epoch 151/300\n",
      "100/100 [==============================] - 9s 91ms/step - loss: 2.3287 - ContrastiveAccuracy: 0.3171 - val_loss: 1.4115 - val_ContrastiveAccuracy: 0.3176\n",
      "Epoch 152/300\n",
      "100/100 [==============================] - 9s 91ms/step - loss: 2.3473 - ContrastiveAccuracy: 0.3181 - val_loss: 1.4320 - val_ContrastiveAccuracy: 0.3185\n",
      "Epoch 153/300\n",
      "100/100 [==============================] - 9s 91ms/step - loss: 2.3929 - ContrastiveAccuracy: 0.3190 - val_loss: 1.4847 - val_ContrastiveAccuracy: 0.3195\n",
      "Epoch 154/300\n",
      "100/100 [==============================] - 9s 91ms/step - loss: 2.3681 - ContrastiveAccuracy: 0.3200 - val_loss: 1.4423 - val_ContrastiveAccuracy: 0.3205\n",
      "Epoch 155/300\n",
      "100/100 [==============================] - 9s 91ms/step - loss: 2.3921 - ContrastiveAccuracy: 0.3211 - val_loss: 1.4963 - val_ContrastiveAccuracy: 0.3216\n",
      "Epoch 156/300\n",
      "100/100 [==============================] - 9s 91ms/step - loss: 2.3485 - ContrastiveAccuracy: 0.3222 - val_loss: 1.4193 - val_ContrastiveAccuracy: 0.3227\n",
      "Epoch 157/300\n",
      "100/100 [==============================] - 9s 91ms/step - loss: 2.3337 - ContrastiveAccuracy: 0.3232 - val_loss: 1.4410 - val_ContrastiveAccuracy: 0.3237\n",
      "Epoch 158/300\n",
      "100/100 [==============================] - 9s 91ms/step - loss: 2.3711 - ContrastiveAccuracy: 0.3243 - val_loss: 1.4168 - val_ContrastiveAccuracy: 0.3248\n",
      "Epoch 159/300\n",
      "100/100 [==============================] - 9s 91ms/step - loss: 2.3313 - ContrastiveAccuracy: 0.3253 - val_loss: 1.4105 - val_ContrastiveAccuracy: 0.3258\n",
      "Epoch 160/300\n",
      "100/100 [==============================] - 9s 91ms/step - loss: 2.3677 - ContrastiveAccuracy: 0.3263 - val_loss: 1.4401 - val_ContrastiveAccuracy: 0.3268\n"
     ]
    }
   ],
   "source": [
    "callback = tf.keras.callbacks.EarlyStopping(monitor = \"val_loss\", mode = 'min', patience = 15)\n",
    "history = cm.fit(training_data,\n",
    "                 epochs=300,\n",
    "                 verbose=1,\n",
    "                 validation_data=validation_data,\n",
    "                 callbacks=[callback]\n",
    "                )"
   ]
  },
  {
   "cell_type": "code",
   "execution_count": 25,
   "metadata": {},
   "outputs": [
    {
     "name": "stdout",
     "output_type": "stream",
     "text": [
      "Model: \"contrastive_model\"\n",
      "_________________________________________________________________\n",
      " Layer (type)                Output Shape              Param #   \n",
      "=================================================================\n",
      " sequential (Sequential)     (None, 10)                808778    \n",
      "                                                                 \n",
      " dense_2 (Dense)             multiple                  5120      \n",
      "                                                                 \n",
      " dense_3 (Dense)             multiple                  5120      \n",
      "                                                                 \n",
      "=================================================================\n",
      "Total params: 819,019\n",
      "Trainable params: 819,019\n",
      "Non-trainable params: 0\n",
      "_________________________________________________________________\n"
     ]
    }
   ],
   "source": [
    "cm.summary()"
   ]
  },
  {
   "cell_type": "code",
   "execution_count": 26,
   "metadata": {},
   "outputs": [],
   "source": [
    "with open(\"training_history.txt\", 'w') as file:\n",
    "    file.write(f\"Epochs: {len(history.history['loss'])}\\n\")\n",
    "    file.write(f\"Loss: {history.history['loss'][-1]}\\n\")\n",
    "    file.write(f\"Validation Loss: {history.history['val_loss'][-1]}\\n\")\n",
    "    file.write(f\"Contrastive Accuracy: {history.history['ContrastiveAccuracy'][-1] * 100}%\\n\")\n",
    "    file.write(f\"Validation Contrastive Accuracy: {history.history['val_ContrastiveAccuracy'][-1] * 100}%\\n\")"
   ]
  },
  {
   "cell_type": "code",
   "execution_count": 37,
   "metadata": {},
   "outputs": [],
   "source": [
    "cm.save_weights(\"Weights/Sequential-11-18-23\")"
   ]
  },
  {
   "cell_type": "code",
   "execution_count": 28,
   "metadata": {},
   "outputs": [
    {
     "data": {
      "image/png": "[encoded data removed]",
      "text/plain": [
       "<Figure size 640x480 with 2 Axes>"
      ]
     },
     "metadata": {},
     "output_type": "display_data"
    }
   ],
   "source": [
    "# Plot History in one image\n",
    "plt.figure(1)\n",
    "\n",
    "# Loss history\n",
    "plt.subplot(211)\n",
    "plt.plot(history.history['loss'],label='Training')\n",
    "plt.plot(history.history['val_loss'],label='Validation')\n",
    "plt.legend()\n",
    "\n",
    "plt.xlabel('Epoch')\n",
    "plt.ylabel('Loss')\n",
    "plt.title('Convolution Loss')\n",
    "\n",
    "# Accuracy history\n",
    "plt.subplot(212)\n",
    "plt.plot(history.history['ContrastiveAccuracy'],label='Training')\n",
    "plt.plot(history.history['val_ContrastiveAccuracy'],label='Validation')\n",
    "plt.legend()\n",
    "\n",
    "plt.xlabel('Epoch')\n",
    "plt.ylabel('Accuracy')\n",
    "plt.title('Convolution Accuracy')\n",
    "\n",
    "plt.tight_layout(h_pad = 5.0)\n",
    "plt.savefig('history.png')\n",
    "plt.show()"
   ]
  },
  {
   "cell_type": "code",
   "execution_count": 29,
   "metadata": {
    "tags": []
   },
   "outputs": [
    {
     "data": {
      "image/png": "[encoded data removed]",
      "text/plain": [
       "<Figure size 640x480 with 1 Axes>"
      ]
     },
     "metadata": {},
     "output_type": "display_data"
    }
   ],
   "source": [
    "# Plot Loss in individual image\n",
    "plt.plot(history.history['loss'],label='Training')\n",
    "plt.plot(history.history['val_loss'],label='Validation')\n",
    "plt.legend()\n",
    "\n",
    "plt.xlabel('Epoch')\n",
    "plt.ylabel('Loss')\n",
    "plt.title('Convolution Loss')\n",
    "\n",
    "plt.savefig('history_loss.png')\n",
    "plt.show()"
   ]
  },
  {
   "cell_type": "code",
   "execution_count": 30,
   "metadata": {
    "tags": []
   },
   "outputs": [
    {
     "data": {
      "image/png": "[encoded data removed]",
      "text/plain": [
       "<Figure size 640x480 with 1 Axes>"
      ]
     },
     "metadata": {},
     "output_type": "display_data"
    }
   ],
   "source": [
    "# Plot Accuracy in individual image\n",
    "plt.plot(history.history['ContrastiveAccuracy'],label='Training')\n",
    "plt.plot(history.history['val_ContrastiveAccuracy'],label='Validation')\n",
    "plt.legend()\n",
    "\n",
    "plt.xlabel('Epoch')\n",
    "plt.ylabel('Loss')\n",
    "plt.title('Convolution Accuracy')\n",
    "\n",
    "plt.savefig('history_acc.png')\n",
    "plt.show()"
   ]
  },
  {
   "cell_type": "markdown",
   "metadata": {},
   "source": [
    "### Obtaining Realistic Accuracies"
   ]
  },
  {
   "cell_type": "code",
   "execution_count": 31,
   "metadata": {
    "tags": []
   },
   "outputs": [],
   "source": [
    "offset = 0\n",
    "n_comp = 100"
   ]
  },
  {
   "cell_type": "code",
   "execution_count": 32,
   "metadata": {
    "tags": []
   },
   "outputs": [
    {
     "data": {
      "text/plain": [
       "<tf.Tensor: shape=(1, 100), dtype=float32, numpy=\n",
       "array([[-2.82008314e+00,  1.12296124e+01, -8.15159798e+00,\n",
       "         1.85651875e+01, -1.75881423e-02, -3.05893922e+00,\n",
       "        -1.21831453e+00, -4.00619650e+00, -1.21730077e+00,\n",
       "         1.13263702e+01, -5.02497435e-01,  3.33142424e+00,\n",
       "        -3.22927833e+00,  6.78884745e-01, -1.22537220e+00,\n",
       "         4.45641994e+00, -6.56954646e-01,  4.85529214e-01,\n",
       "         5.97560310e+00,  4.03538322e+00, -7.95015144e+00,\n",
       "         6.36868620e+00,  7.39794970e+00,  1.85243702e+01,\n",
       "        -5.49095213e-01, -2.83950734e+00, -6.82248259e+00,\n",
       "        -3.44727540e+00, -2.45547009e+00, -1.18747163e+00,\n",
       "         1.43577397e-01,  2.70928383e+00,  1.06819363e+01,\n",
       "         2.16638589e+00,  1.32523317e+01,  1.56110942e+00,\n",
       "         4.59947538e+00,  8.74372387e+00, -3.17382455e+00,\n",
       "         7.03214502e+00, -1.12699485e+00, -1.24367940e+00,\n",
       "         1.17865200e+01,  5.11352396e+00,  8.51791024e-01,\n",
       "        -2.01230764e+00, -4.55369473e-01, -1.89548373e-01,\n",
       "        -2.91313529e+00, -3.60786939e+00, -2.38429928e+00,\n",
       "         6.88092232e+00,  1.64998798e+01,  9.16673946e+00,\n",
       "         1.62305200e+00, -1.29826701e+00, -1.04797328e+00,\n",
       "         4.63511407e-01, -8.04889011e+00,  1.80176983e+01,\n",
       "        -4.69565630e+00,  1.19628210e+01,  2.68841720e+00,\n",
       "         8.75070095e-01,  1.11497784e+01,  1.07465613e+00,\n",
       "         2.54034519e+00,  1.18782644e+01, -4.16790867e+00,\n",
       "         1.23471670e+01,  1.25223675e+01, -1.28969352e-03,\n",
       "        -1.17371738e+00, -6.04096234e-01, -1.67641175e+00,\n",
       "         1.11200972e+01,  7.82711887e+00,  1.69115772e+01,\n",
       "         1.71647739e+01,  2.30971470e-01, -2.41321516e+00,\n",
       "         1.07968960e+01, -1.56876326e+00,  1.30976856e+00,\n",
       "         1.44134779e+01,  6.60994470e-01, -4.14176083e+00,\n",
       "         4.46161985e-01,  6.99307919e-02,  4.21455193e+00,\n",
       "        -6.74006224e-01,  3.03911209e+00, -8.92226791e+00,\n",
       "         1.47004688e+00,  2.22506118e+00,  1.28781109e+01,\n",
       "         1.58934546e+01,  1.07632375e+00, -2.93586344e-01,\n",
       "         1.54452629e+01]], dtype=float32)>"
      ]
     },
     "execution_count": 32,
     "metadata": {},
     "output_type": "execute_result"
    }
   ],
   "source": [
    "# update with notes to compare\n",
    "cm((x_val[0:1],x_train[offset:offset+n_comp]))"
   ]
  },
  {
   "cell_type": "code",
   "execution_count": 33,
   "metadata": {
    "tags": []
   },
   "outputs": [
    {
     "data": {
      "text/plain": [
       "array([7], dtype=uint8)"
      ]
     },
     "execution_count": 33,
     "metadata": {},
     "output_type": "execute_result"
    }
   ],
   "source": [
    "y_val[0:1]"
   ]
  },
  {
   "cell_type": "code",
   "execution_count": 34,
   "metadata": {
    "tags": []
   },
   "outputs": [
    {
     "data": {
      "text/plain": [
       "1"
      ]
     },
     "execution_count": 34,
     "metadata": {},
     "output_type": "execute_result"
    }
   ],
   "source": [
    "y_train[np.argmax(cm((x_val[0:1],x_train[offset:offset+n_comp])))+offset]"
   ]
  },
  {
   "cell_type": "code",
   "execution_count": 35,
   "metadata": {},
   "outputs": [
    {
     "name": "stdout",
     "output_type": "stream",
     "text": [
      "True\tPred\n",
      "7 \t 1\n",
      "\n",
      "2 \t 0\n",
      "\n",
      "1 \t 7\n",
      "\n",
      "0 \t 0\t✔\n",
      "\n",
      "4 \t 4\t✔\n",
      "\n",
      "1 \t 1\t✔\n",
      "\n",
      "4 \t 4\t✔\n",
      "\n",
      "9 \t 3\n",
      "\n",
      "5 \t 5\t✔\n",
      "\n",
      "9 \t 8\n",
      "\n",
      "Accuracy: 50.0%\n"
     ]
    }
   ],
   "source": [
    "accuracy = 0.0\n",
    "n = 10\n",
    "with open(\"10_accuracy.txt\", 'w') as file:\n",
    "    print(\"True\\tPred\")\n",
    "    file.write(\"True\\tPred\" + '\\n')\n",
    "    for i in range(n):\n",
    "        true = y_val[i] \n",
    "        pred = y_train[np.argmax(cm((x_val[i:i+1], x_train[offset:offset+n_comp])))+offset]\n",
    "        print(true, '\\t', pred, end = '')\n",
    "        file.write(str(true) + '\\t\\t' + str(pred))\n",
    "        if (y_val[i] == y_train[np.argmax(cm((x_val[i:i+1], x_train[offset:offset+n_comp])))+offset]):\n",
    "            accuracy+= 1.0\n",
    "            print(\"\\t\\u2714\\n\")\n",
    "            file.write(\"\\t\\t\\u2714\\n\")\n",
    "        else:\n",
    "            print('\\n')\n",
    "            file.write('\\n')\n",
    "\n",
    "    accuracy /= n\n",
    "    print(f\"Accuracy: {accuracy*100}%\")\n",
    "    file.write(f\"Accuracy: {accuracy*100}%\\n\")"
   ]
  },
  {
   "cell_type": "code",
   "execution_count": 36,
   "metadata": {
    "tags": []
   },
   "outputs": [
    {
     "name": "stdout",
     "output_type": "stream",
     "text": [
      "10000 computations to make . . .\n",
      "Progress: 9999/10000 (99.99%)\n",
      "Final Accuracy: 42.36%\n"
     ]
    }
   ],
   "source": [
    "accuracy = 0.0\n",
    "n = y_val.shape[0]\n",
    "print(n, \"computations to make . . .\")\n",
    "for i in range(n):\n",
    "   # print(y_val[i:i+1],end='\\t')\n",
    "    #print(y_train[np.argmax(cm((x_val[i:i+1], x_train[offset:offset+n_comp])))+offset])\n",
    "    if (i % (n / 10) == 0 or i == n - 1):\n",
    "        print(f\"\\rProgress: {i}/{n} ({(i/n)*100:.2f}%)\", end=\"\")  # Update the progress\n",
    "    if (y_val[i] == y_train[np.argmax(cm((x_val[i:i+1], x_train[offset:offset+n_comp])))+offset]):\n",
    "        accuracy+= 1.0\n",
    "\n",
    "accuracy /= n\n",
    "print(f\"\\nFinal Accuracy: {accuracy*100}%\")\n",
    "with open(\"final_accuracy.txt\", 'w') as file:\n",
    "    file.write(f\"Final Accuracy: {accuracy*100}%\\n\")"
   ]
  },
  {
   "cell_type": "code",
   "execution_count": null,
   "metadata": {},
   "outputs": [],
   "source": []
  }
 ],
 "metadata": {
  "kernelspec": {
   "display_name": "Python 3 (ipykernel)",
   "language": "python",
   "name": "python3"
  },
  "language_info": {
   "codemirror_mode": {
    "name": "ipython",
    "version": 3
   },
   "file_extension": ".py",
   "mimetype": "text/x-python",
   "name": "python",
   "nbconvert_exporter": "python",
   "pygments_lexer": "ipython3",
   "version": "3.11.5"
  }
 },
 "nbformat": 4,
 "nbformat_minor": 4
}

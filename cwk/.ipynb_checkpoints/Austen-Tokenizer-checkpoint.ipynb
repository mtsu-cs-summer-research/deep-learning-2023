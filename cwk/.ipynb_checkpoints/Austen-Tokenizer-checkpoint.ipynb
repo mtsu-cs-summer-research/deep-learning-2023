{
 "cells": [
  {
   "cell_type": "code",
   "execution_count": 109,
   "id": "c678fa6e-8869-4f54-a184-291ed4ba99a5",
   "metadata": {},
   "outputs": [],
   "source": [
    "#Import GPT2Tokenizer to use\n",
    "\n",
    "from transformers import GPT2Tokenizer\n",
    "tokenizer = GPT2Tokenizer.from_pretrained('gpt2')"
   ]
  },
  {
   "cell_type": "code",
   "execution_count": 110,
   "id": "1ce71511-476e-4614-b0fe-b2028bb9155b",
   "metadata": {},
   "outputs": [],
   "source": [
    "import pickle\n",
    "import numpy as np\n",
    "import tensorflow as tf\n",
    "import tensorflow.keras as keras\n",
    "from IPython.display import display\n",
    "import sympy as sp\n",
    "import urllib\n",
    "sp.init_printing(use_latex=True)\n",
    "import matplotlib.pyplot as plt\n",
    "import textwrap\n",
    "#import os\n",
    "#os.environ['LD_LIBRARY_PATH']='/opt/conda/lib'"
   ]
  },
  {
   "cell_type": "code",
   "execution_count": 111,
   "id": "6d4bf688-56a2-4abf-b8e5-d8464dccea26",
   "metadata": {},
   "outputs": [],
   "source": [
    "#Transormer block setup\n",
    "#Initializes multi-head attention, feed-forward network, layer normalization\n",
    "class TransformerBlock(keras.layers.Layer):\n",
    "    def __init__(self, embed_dim, num_heads, ff_dim, rate=0.1, **kwargs):\n",
    "        super(TransformerBlock, self).__init__(**kwargs)\n",
    "        self.att = keras.layers.MultiHeadAttention(num_heads=num_heads,\n",
    "                                                   key_dim=embed_dim)\n",
    "        self.ffn = keras.Sequential(\n",
    "            [keras.layers.Dense(ff_dim, activation=\"gelu\"), #feed-forward\n",
    "             keras.layers.Dense(embed_dim),]\n",
    "        )\n",
    "        self.layernorm1 = keras.layers.LayerNormalization(epsilon=1e-6)\n",
    "        self.layernorm2 = keras.layers.LayerNormalization(epsilon=1e-6)\n",
    "        self.dropout1 = keras.layers.Dropout(rate)\n",
    "        self.dropout2 = keras.layers.Dropout(rate)\n",
    "\n",
    "    def call(self, inputs, training):\n",
    "        attn_output = self.att(inputs, inputs)\n",
    "        attn_output = self.dropout1(attn_output, training=training)\n",
    "        out1 = self.layernorm1(inputs + attn_output)\n",
    "        ffn_output = self.ffn(out1)\n",
    "        ffn_output = self.dropout2(ffn_output, training=training)\n",
    "        return self.layernorm2(out1 + ffn_output)\n"
   ]
  },
  {
   "cell_type": "code",
   "execution_count": 112,
   "id": "70993c4e-2095-41e1-9c58-f01f851beb79",
   "metadata": {},
   "outputs": [],
   "source": [
    "#Initialize transformer, multi-head-attention, ff net, and mask\n",
    "class GPTransformerBlock(keras.layers.Layer):\n",
    "    def __init__(self, embed_dim, num_heads, ff_dim, rate=0.1, **kwargs):\n",
    "        super(GPTransformerBlock, self).__init__(**kwargs)\n",
    "        self.att = keras.layers.MultiHeadAttention(num_heads=num_heads,\n",
    "                                                   key_dim=embed_dim)\n",
    "        self.ffn = keras.Sequential(\n",
    "            [keras.layers.Dense(ff_dim, activation=\"gelu\"),\n",
    "             keras.layers.Dense(embed_dim),]\n",
    "        )\n",
    "        self.layernorm1 = keras.layers.LayerNormalization(epsilon=1e-6)\n",
    "        self.layernorm2 = keras.layers.LayerNormalization(epsilon=1e-6)\n",
    "        self.dropout1 = keras.layers.Dropout(rate)\n",
    "        self.dropout2 = keras.layers.Dropout(rate)\n",
    "\n",
    "    def call(self, x, training):\n",
    "        y = x\n",
    "        y = self.layernorm1(y, training=training)\n",
    "        y = self.att(y, y,\n",
    "                     use_causal_mask = True,\n",
    "                     training=training)\n",
    "        y = self.dropout1(y, training=training)\n",
    "        x += y\n",
    "        y = x\n",
    "        y = self.layernorm2(y, training=training)\n",
    "        y = self.ffn(y, training=training)\n",
    "        y = self.dropout2(y, training=training)\n",
    "        return x + y"
   ]
  },
  {
   "cell_type": "code",
   "execution_count": 113,
   "id": "0597b470-1e2d-4d9f-86f5-669df0101937",
   "metadata": {},
   "outputs": [],
   "source": [
    "#Positional encoding for self-attention\n",
    "\n",
    "# Source pulled from KerasNLP: https://github.com/keras-team/keras-nlp/blob/v0.4.1/keras_nlp/layers/sine_position_encoding.py#L22\n",
    "class SinePositionEncoding(keras.layers.Layer):\n",
    "    \"\"\"Sinusoidal positional encoding layer.\n",
    "    This layer calculates the position encoding as a mix of sine and cosine\n",
    "    functions with geometrically increasing wavelengths. Defined and formulized\n",
    "    in [Attention is All You Need](https://arxiv.org/abs/1706.03762).\n",
    "    Takes as input an embedded token tensor. The input must have shape\n",
    "    [batch_size, sequence_length, feature_size]. This layer will return a\n",
    "    positional encoding the same size as the embedded token tensor, which\n",
    "    can be added directly to the embedded token tensor.\n",
    "    This layer optionally accepts `tf.RaggedTensor`s as inputs to process\n",
    "    batches of sequences of different lengths. The one ragged dimension must be\n",
    "    the dimension that corresponds to the sequence, that is, the penultimate\n",
    "    dimension.\n",
    "    Args:\n",
    "        max_wavelength: The maximum angular wavelength of the sine/cosine\n",
    "            curves, as described in Attention is All You Need. Defaults to\n",
    "            10000.\n",
    "    Examples:\n",
    "    ```python\n",
    "    # create a simple embedding layer with sinusoidal positional encoding\n",
    "    seq_len = 100\n",
    "    vocab_size = 1000\n",
    "    embedding_dim = 32\n",
    "    inputs = keras.Input((seq_len,), dtype=tf.float32)\n",
    "    embedding = keras.layers.Embedding(\n",
    "        input_dim=vocab_size, output_dim=embedding_dim\n",
    "    )(inputs)\n",
    "    positional_encoding = keras_nlp.layers.SinePositionEncoding()(embedding)\n",
    "    outputs = embedding + positional_encoding\n",
    "    ```\n",
    "    References:\n",
    "     - [Vaswani et al., 2017](https://arxiv.org/abs/1706.03762)\n",
    "    \"\"\"\n",
    "\n",
    "    def __init__(\n",
    "        self,\n",
    "        max_wavelength=10000,\n",
    "        **kwargs,\n",
    "    ):\n",
    "        super().__init__(**kwargs)\n",
    "        self.max_wavelength = max_wavelength\n",
    "\n",
    "    def call(self, inputs):\n",
    "        # TODO(jbischof): replace `hidden_size` with`hidden_dim` for consistency\n",
    "        # with other layers.\n",
    "        if isinstance(inputs, tf.RaggedTensor):\n",
    "            bounding_shape = inputs.bounding_shape()\n",
    "            position_embeddings = (\n",
    "                self._compute_trim_and_broadcast_position_embeddings(\n",
    "                    bounding_shape,\n",
    "                )\n",
    "            )\n",
    "            # then apply row lengths to recreate the same ragged shape as inputs\n",
    "            return tf.RaggedTensor.from_tensor(\n",
    "                position_embeddings,\n",
    "                inputs.nested_row_lengths(),\n",
    "            )\n",
    "        else:\n",
    "            return self._compute_trim_and_broadcast_position_embeddings(\n",
    "                tf.shape(inputs),\n",
    "            )\n",
    "\n",
    "    def _compute_trim_and_broadcast_position_embeddings(self, shape):\n",
    "        seq_length = shape[-2]\n",
    "        hidden_size = shape[-1]\n",
    "        position = tf.cast(tf.range(seq_length), self.compute_dtype)\n",
    "        min_freq = tf.cast(1 / self.max_wavelength, dtype=self.compute_dtype)\n",
    "        timescales = tf.pow(\n",
    "            min_freq,\n",
    "            tf.cast(2 * (tf.range(hidden_size) // 2), self.compute_dtype)\n",
    "            / tf.cast(hidden_size, self.compute_dtype),\n",
    "        )\n",
    "        angles = tf.expand_dims(position, 1) * tf.expand_dims(timescales, 0)\n",
    "        # even indices are sine, odd are cosine\n",
    "        cos_mask = tf.cast(tf.range(hidden_size) % 2, self.compute_dtype)\n",
    "        sin_mask = 1 - cos_mask\n",
    "        # embedding shape is [seq_length, hidden_size]\n",
    "        positional_encodings = (\n",
    "            tf.sin(angles) * sin_mask + tf.cos(angles) * cos_mask\n",
    "        )\n",
    "\n",
    "        return tf.broadcast_to(positional_encodings, shape)\n",
    "\n",
    "    def get_config(self):\n",
    "        config = super().get_config()\n",
    "        config.update(\n",
    "            {\n",
    "                \"max_wavelength\": self.max_wavelength,\n",
    "            }\n",
    "        )\n",
    "        return config"
   ]
  },
  {
   "cell_type": "code",
   "execution_count": 114,
   "id": "551fe920-63e0-4b15-b1af-3a3f466ba419",
   "metadata": {},
   "outputs": [],
   "source": [
    "#Token and position embedding to allow the model to differentiate token positions, for self-attention\n",
    "class MaskedTokenAndPositionEmbedding(keras.layers.Layer):\n",
    "    def __init__(self, maxlen, input_dim, output_dim, **kwargs):\n",
    "        super(MaskedTokenAndPositionEmbedding, self).__init__(**kwargs)\n",
    "        self.token_emb = keras.layers.Embedding(input_dim=input_dim,\n",
    "                                                output_dim=output_dim,\n",
    "                                                mask_zero=True)\n",
    "        self.pos_emb = keras.layers.Embedding(input_dim=maxlen+1,\n",
    "                                              output_dim=output_dim,\n",
    "                                              mask_zero=True)\n",
    "\n",
    "    def call(self, x):\n",
    "        maxlen = tf.shape(x)[-1]\n",
    "        positions = tf.range(start=1, limit=maxlen+1, delta=1)\n",
    "        positions = positions * tf.cast(tf.sign(x),tf.int32)\n",
    "        positions = self.pos_emb(positions)\n",
    "        x = self.token_emb(x)\n",
    "        return x + positions"
   ]
  },
  {
   "cell_type": "code",
   "execution_count": 115,
   "id": "90c07eef-d0a6-43d9-ae35-22f4c73a3ccc",
   "metadata": {},
   "outputs": [],
   "source": [
    "#Sine position embeddings, for self-attention\n",
    "class MaskedTokenAndSinePositionEmbedding(keras.layers.Layer):\n",
    "    def __init__(self, input_dim, output_dim, max_wavelength=10000,**kwargs):\n",
    "        super(MaskedTokenAndSinePositionEmbedding, self).__init__(**kwargs)\n",
    "        self.token_emb = keras.layers.Embedding(input_dim=input_dim,\n",
    "                                                output_dim=output_dim,\n",
    "                                                mask_zero=True)\n",
    "        self.pos_emb = SinePositionEncoding(max_wavelength=max_wavelength)\n",
    "\n",
    "    def call(self, x):\n",
    "        mask = tf.expand_dims(tf.sign(x),-1)\n",
    "        x = self.token_emb(x)\n",
    "        positions = self.pos_emb(x)\n",
    "        positions = positions * mask\n",
    "        return x + positions"
   ]
  },
  {
   "cell_type": "code",
   "execution_count": 116,
   "id": "6d6397c9-897a-4e3e-afc9-862aa9dd1f43",
   "metadata": {},
   "outputs": [],
   "source": [
    "# Custom masked loss/accuracy functions\n",
    "loss_object = tf.keras.losses.SparseCategoricalCrossentropy(\n",
    "    from_logits=True, reduction='none')\n",
    "\n",
    "def MaskedSparseCategoricalCrossentropy(real, pred):\n",
    "    mask = tf.math.logical_not(tf.math.equal(real, 0))\n",
    "    loss_ = loss_object(real, pred)\n",
    "    mask = tf.cast(mask, dtype=loss_.dtype)\n",
    "    loss_ *= mask\n",
    "    return tf.reduce_sum(loss_)/tf.reduce_sum(mask)\n",
    "\n",
    "def MaskedSparseCategoricalAccuracy(real, pred):\n",
    "    accuracies = tf.equal(tf.cast(real,tf.int64), tf.argmax(pred, axis=2))\n",
    "    mask = tf.math.logical_not(tf.math.equal(real, 0))\n",
    "    accuracies = tf.math.logical_and(mask, accuracies)\n",
    "    accuracies = tf.cast(accuracies, dtype=tf.float32)\n",
    "    mask = tf.cast(mask, dtype=tf.float32)\n",
    "    return tf.reduce_sum(accuracies)/tf.reduce_sum(mask)\n"
   ]
  },
  {
   "cell_type": "code",
   "execution_count": 117,
   "id": "f67db5ca-183c-496d-b4fd-f0386e7f87d6",
   "metadata": {},
   "outputs": [],
   "source": [
    "# !wget https://www.cs.mtsu.edu/~jphillips/courses/CSCI4850-5850/public/Austen.txt"
   ]
  },
  {
   "cell_type": "code",
   "execution_count": 118,
   "id": "b540cd38-8382-4e0a-9eaa-003bf66d1dc0",
   "metadata": {},
   "outputs": [],
   "source": [
    "segment_size = 20\n",
    "model_length = 10*segment_size\n",
    "batch_size = 100"
   ]
  },
  {
   "cell_type": "code",
   "execution_count": 151,
   "id": "261339d7-2004-486d-8816-473cff3b1e8a",
   "metadata": {},
   "outputs": [],
   "source": [
    "with open('Austen.txt', 'r', encoding='utf-8') as f:\n",
    "    lines = f.read().split('\\n')\n",
    "text = []\n",
    "j = 0\n",
    "for i in range(len(lines)-1):\n",
    "    if lines[i] == '':\n",
    "        line = ' '.join(lines[j:i])\n",
    "        if line != '':\n",
    "            text = text + [line[k:k+model_length-2] for k in range(0, len(line), model_length-2)]\n",
    "            # text = text + [line]\n",
    "        j = i+1"
   ]
  },
  {
   "cell_type": "code",
   "execution_count": 152,
   "id": "3b519a8b-584e-4ef7-bebf-3f57d96251f6",
   "metadata": {},
   "outputs": [
    {
     "data": {
      "image/png": "[encoded data removed]",
      "text/latex": [
       "$\\displaystyle 27434$"
      ],
      "text/plain": [
       "27434"
      ]
     },
     "execution_count": 152,
     "metadata": {},
     "output_type": "execute_result"
    }
   ],
   "source": [
    "len(text)"
   ]
  },
  {
   "cell_type": "code",
   "execution_count": 153,
   "id": "4a92df22-3081-44b9-9d9a-4371d6f1f3ac",
   "metadata": {},
   "outputs": [
    {
     "data": {
      "text/plain": [
       "'Emma Woodhouse, handsome, clever, and rich, with a comfortable home and happy disposition, seemed to unite some of the best blessings of existence; and had lived nearly twenty-one years in the world'"
      ]
     },
     "execution_count": 153,
     "metadata": {},
     "output_type": "execute_result"
    }
   ],
   "source": [
    "text[0]"
   ]
  },
  {
   "cell_type": "code",
   "execution_count": 154,
   "id": "dd73e706-3f11-401e-af31-0eb2ded93ad0",
   "metadata": {},
   "outputs": [
    {
     "data": {
      "text/plain": [
       "200"
      ]
     },
     "execution_count": 154,
     "metadata": {},
     "output_type": "execute_result"
    }
   ],
   "source": [
    "# Subset? - All of the data will take some time...\n",
    "n_seq = len(text)\n",
    "n_seq = 1000\n",
    "split_point = int(n_seq * 0.8)\n",
    "text = text[:n_seq]\n",
    "np.random.shuffle(text) # In-place modification\n",
    "max_length = np.max([len(i) for i in text])+2 # Start+stop\n",
    "max_length"
   ]
  },
  {
   "cell_type": "code",
   "execution_count": 170,
   "id": "133b45aa-bc58-4293-8930-bd87f072718c",
   "metadata": {},
   "outputs": [],
   "source": [
    "#Encode / Decode tokens using built-in functions\n",
    "#Not sure about max length\n",
    "def encode_seq(x, tokenizer#, max_length=0\n",
    "              ):\n",
    "    # String to token IDs\n",
    "    return tokenizer.encode(x)\n",
    "\n",
    "def decode_seq(x, tokenizer):\n",
    "    # Token IDs to string\n",
    "    return tokenizer.decode(x)\n"
   ]
  },
  {
   "cell_type": "code",
   "execution_count": 177,
   "id": "26a1324d-7317-40fc-a716-4cc111ab27d1",
   "metadata": {},
   "outputs": [
    {
     "name": "stdout",
     "output_type": "stream",
     "text": [
      "1 46 8951 284 11148 683 0 2011 13674 48805 11 644 466 345 1612 30 4231 345 287 597 4719 355 284 326 30 314 1807 960 4360 314 4123 534 27322 11 3737 314 423 587 739 257 7457 13 314 3729 423 587 29789\n"
     ]
    }
   ],
   "source": [
    "temp = encode_seq(text[0], tokenizer#, max_length\n",
    "                 )\n",
    "print(*temp)"
   ]
  },
  {
   "cell_type": "code",
   "execution_count": 178,
   "id": "9031ef85-c9ae-4899-a0c2-a961e0dceeb0",
   "metadata": {},
   "outputs": [
    {
     "name": "stdout",
     "output_type": "stream",
     "text": [
      "\"Ought to refuse him! My dear Harriet, what do you mean? Are you in any doubt as to that? I thought—but I beg your pardon, perhaps I have been under a mistake. I certainly have been misunderstanding\n"
     ]
    }
   ],
   "source": [
    "decoded_temp = decode_seq(temp, tokenizer)\n",
    "print(decoded_temp)"
   ]
  },
  {
   "cell_type": "code",
   "execution_count": 179,
   "id": "92016fc9-12da-465c-9229-11ae5f8152ef",
   "metadata": {},
   "outputs": [],
   "source": [
    "class DataGenerator(keras.utils.Sequence):\n",
    "    'Generates data for Keras'\n",
    "    def __init__(self, data, max_length, batch_size=32, **kwargs):\n",
    "        super(DataGenerator, self).__init__(**kwargs)\n",
    "        'Initialization'\n",
    "        self.batch_size = batch_size\n",
    "        self.data = data # a handle only...\n",
    "        self.indices = np.arange(self.data[0].shape[0])\n",
    "        self.max_length = max_length\n",
    "        self.idx = 0\n",
    "        self.on_epoch_end()\n",
    "\n",
    "    def __len__(self):\n",
    "        'The number of batches per epoch'\n",
    "        return int(np.floor(self.data[0].shape[0] / self.batch_size))\n",
    "\n",
    "    def __getitem__(self, index):\n",
    "        'Generate one (enumerated) batch of data'\n",
    "        # Generate indices for a batch and grab batch\n",
    "        indices = self.indices[index*self.batch_size:(index+1)*self.batch_size]\n",
    "        return self.__data_generation(indices)\n",
    "\n",
    "    def __data_generation(self, ids):\n",
    "        'Generates data containing batch_size samples' # X : (n_samples, *dim, n_channels)\n",
    "        # Generate data\n",
    "        x = tf.convert_to_tensor(self.data[0][ids],dtype=tf.int32)\n",
    "        y = tf.convert_to_tensor(self.data[1][ids],dtype=tf.int32)\n",
    "        return x, y\n",
    "\n",
    "    def on_epoch_end(self):\n",
    "        return np.random.shuffle(self.indices)\n",
    "\n",
    "    ## Needed for TF Dataset conversion...\n",
    "    def output_signature(self):\n",
    "        sig = self[0]\n",
    "        return (tf.TensorSpec.from_tensor(sig[0]),\n",
    "                tf.TensorSpec.from_tensor(sig[1]))"
   ]
  },
  {
   "cell_type": "code",
   "execution_count": 169,
   "id": "99f68a2c-59ee-4ef7-a9e5-fc76fd5a1e63",
   "metadata": {},
   "outputs": [
    {
     "ename": "ValueError",
     "evalue": "all the input array dimensions for the concatenation axis must match exactly, but along dimension 1, the array at index 0 has size 47 and the array at index 1 has size 46",
     "output_type": "error",
     "traceback": [
      "\u001b[0;31m---------------------------------------------------------------------------\u001b[0m",
      "\u001b[0;31mValueError\u001b[0m                                Traceback (most recent call last)",
      "Cell \u001b[0;32mIn[169], line 2\u001b[0m\n\u001b[1;32m      1\u001b[0m \u001b[38;5;66;03m#Encode in batches\u001b[39;00m\n\u001b[0;32m----> 2\u001b[0m X \u001b[38;5;241m=\u001b[39m \u001b[43mnp\u001b[49m\u001b[38;5;241;43m.\u001b[39;49m\u001b[43mvstack\u001b[49m\u001b[43m(\u001b[49m\u001b[43m[\u001b[49m\u001b[43mencode_seq\u001b[49m\u001b[43m(\u001b[49m\u001b[43mx\u001b[49m\u001b[43m,\u001b[49m\u001b[43mtokenizer\u001b[49m\u001b[38;5;66;43;03m#,max_length + (segment_size - (max_length-1) % segment_size)\u001b[39;49;00m\n\u001b[1;32m      3\u001b[0m \u001b[43m                         \u001b[49m\u001b[43m)\u001b[49m\u001b[43m \u001b[49m\u001b[38;5;28;43;01mfor\u001b[39;49;00m\u001b[43m \u001b[49m\u001b[43mx\u001b[49m\u001b[43m \u001b[49m\u001b[38;5;129;43;01min\u001b[39;49;00m\u001b[43m \u001b[49m\u001b[43mtext\u001b[49m\u001b[43m]\u001b[49m\u001b[43m)\u001b[49m\n\u001b[1;32m      4\u001b[0m training \u001b[38;5;241m=\u001b[39m DataGenerator((X[:split_point,:\u001b[38;5;241m-\u001b[39m\u001b[38;5;241m1\u001b[39m],\n\u001b[1;32m      5\u001b[0m                           X[:split_point,\u001b[38;5;241m1\u001b[39m:]),model_length,batch_size)\n\u001b[1;32m      6\u001b[0m validation \u001b[38;5;241m=\u001b[39m DataGenerator((X[split_point:,:\u001b[38;5;241m-\u001b[39m\u001b[38;5;241m1\u001b[39m],\n\u001b[1;32m      7\u001b[0m                             X[split_point:,\u001b[38;5;241m1\u001b[39m:]),model_length,batch_size)\n",
      "File \u001b[0;32m<__array_function__ internals>:180\u001b[0m, in \u001b[0;36mvstack\u001b[0;34m(*args, **kwargs)\u001b[0m\n",
      "File \u001b[0;32m/opt/conda/lib/python3.10/site-packages/numpy/core/shape_base.py:282\u001b[0m, in \u001b[0;36mvstack\u001b[0;34m(tup)\u001b[0m\n\u001b[1;32m    280\u001b[0m \u001b[38;5;28;01mif\u001b[39;00m \u001b[38;5;129;01mnot\u001b[39;00m \u001b[38;5;28misinstance\u001b[39m(arrs, \u001b[38;5;28mlist\u001b[39m):\n\u001b[1;32m    281\u001b[0m     arrs \u001b[38;5;241m=\u001b[39m [arrs]\n\u001b[0;32m--> 282\u001b[0m \u001b[38;5;28;01mreturn\u001b[39;00m \u001b[43m_nx\u001b[49m\u001b[38;5;241;43m.\u001b[39;49m\u001b[43mconcatenate\u001b[49m\u001b[43m(\u001b[49m\u001b[43marrs\u001b[49m\u001b[43m,\u001b[49m\u001b[43m \u001b[49m\u001b[38;5;241;43m0\u001b[39;49m\u001b[43m)\u001b[49m\n",
      "File \u001b[0;32m<__array_function__ internals>:180\u001b[0m, in \u001b[0;36mconcatenate\u001b[0;34m(*args, **kwargs)\u001b[0m\n",
      "\u001b[0;31mValueError\u001b[0m: all the input array dimensions for the concatenation axis must match exactly, but along dimension 1, the array at index 0 has size 47 and the array at index 1 has size 46"
     ]
    }
   ],
   "source": [
    "#Encode in batches\n",
    "X = np.vstack([encode_seq(x,tokenizer#,max_length + (segment_size - (max_length-1) % segment_size)\n",
    "                         ) for x in text])\n",
    "training = DataGenerator((X[:split_point,:-1],\n",
    "                          X[:split_point,1:]),model_length,batch_size)\n",
    "validation = DataGenerator((X[split_point:,:-1],\n",
    "                            X[split_point:,1:]),model_length,batch_size)"
   ]
  },
  {
   "cell_type": "code",
   "execution_count": 141,
   "id": "8d725a0c-d64d-444f-ab7f-f62972001c87",
   "metadata": {},
   "outputs": [
    {
     "data": {
      "image/png": "[encoded data removed]",
      "text/latex": [
       "$\\displaystyle 8$"
      ],
      "text/plain": [
       "8"
      ]
     },
     "execution_count": 141,
     "metadata": {},
     "output_type": "execute_result"
    }
   ],
   "source": [
    "len(training)"
   ]
  },
  {
   "cell_type": "code",
   "execution_count": 180,
   "id": "9d3e960a-f548-4ab3-9e87-0dd3898ac05e",
   "metadata": {},
   "outputs": [
    {
     "ename": "TypeError",
     "evalue": "object of type 'int' has no len()",
     "output_type": "error",
     "traceback": [
      "\u001b[0;31m---------------------------------------------------------------------------\u001b[0m",
      "\u001b[0;31mTypeError\u001b[0m                                 Traceback (most recent call last)",
      "Cell \u001b[0;32mIn[180], line 1\u001b[0m\n\u001b[0;32m----> 1\u001b[0m \u001b[38;5;28;43mlen\u001b[39;49m\u001b[43m(\u001b[49m\u001b[43mtemp\u001b[49m\u001b[43m[\u001b[49m\u001b[38;5;241;43m0\u001b[39;49m\u001b[43m]\u001b[49m\u001b[43m)\u001b[49m\n",
      "\u001b[0;31mTypeError\u001b[0m: object of type 'int' has no len()"
     ]
    }
   ],
   "source": [
    "len(temp[0])"
   ]
  },
  {
   "cell_type": "code",
   "execution_count": 181,
   "id": "268033c5-de99-49b5-a6c4-5d985aa7e66d",
   "metadata": {},
   "outputs": [
    {
     "data": {
      "text/plain": [
       "array([48, 48, 48, 48, 48, 48, 48, 48, 48, 48, 48, 48, 48, 48, 48, 48, 48,\n",
       "       48, 48, 48, 48, 48, 48, 48, 48, 48, 48, 48, 48, 48, 48, 48, 48, 48,\n",
       "       48, 48, 48, 48, 48, 48, 48, 48, 48, 48, 48, 48, 48])"
      ]
     },
     "execution_count": 181,
     "metadata": {},
     "output_type": "execute_result"
    }
   ],
   "source": [
    "temp_length = len(temp)\n",
    "temp = np.array([temp_length+1 for i in temp])\n",
    "temp"
   ]
  },
  {
   "cell_type": "code",
   "execution_count": 182,
   "id": "ef42fa26-6fb8-48f2-826f-c3955345c703",
   "metadata": {},
   "outputs": [
    {
     "data": {
      "text/plain": [
       "array([-79, -77, -80, -86, -66, -93, -88, -96, -85, -83, -66, -62, -56,\n",
       "       -70, -66, -66, -58, -93, -86, -67, -86, -97, -83, -96, -79, -62,\n",
       "       -79, -58, -65, -69, -66, -79, -57, -57, -84, -78, -65, -96, -55,\n",
       "       -77, -63, -95, -75, -83, -81, -98, -99])"
      ]
     },
     "execution_count": 182,
     "metadata": {},
     "output_type": "execute_result"
    }
   ],
   "source": [
    "np.array([np.random.randint(i) for i in temp])-100"
   ]
  },
  {
   "cell_type": "code",
   "execution_count": 183,
   "id": "32957d5c-4627-41ed-9e6d-e41a7d7eab1b",
   "metadata": {},
   "outputs": [
    {
     "data": {
      "text/plain": [
       "TensorShape([100, 200])"
      ]
     },
     "execution_count": 183,
     "metadata": {},
     "output_type": "execute_result"
    }
   ],
   "source": [
    "my_batch = training[0]\n",
    "my_batch[0].shape"
   ]
  },
  {
   "cell_type": "code",
   "execution_count": 184,
   "id": "8d2adcec-fd5d-4339-8805-61d991088907",
   "metadata": {},
   "outputs": [
    {
     "name": "stdout",
     "output_type": "stream",
     "text": [
      "Model: \"model_2\"\n",
      "_________________________________________________________________\n",
      " Layer (type)                Output Shape              Param #   \n",
      "=================================================================\n",
      " input_3 (InputLayer)        [(None, None)]            0         \n",
      "                                                                 \n",
      " masked_token_and_sine_posit  (None, None, 128)        9088      \n",
      " ion_embedding_2 (MaskedToke                                     \n",
      " nAndSinePositionEmbedding)                                      \n",
      "                                                                 \n",
      " gp_transformer_block_10 (GP  (None, None, 128)        857600    \n",
      " TransformerBlock)                                               \n",
      "                                                                 \n",
      " gp_transformer_block_11 (GP  (None, None, 128)        857600    \n",
      " TransformerBlock)                                               \n",
      "                                                                 \n",
      " gp_transformer_block_12 (GP  (None, None, 128)        857600    \n",
      " TransformerBlock)                                               \n",
      "                                                                 \n",
      " gp_transformer_block_13 (GP  (None, None, 128)        857600    \n",
      " TransformerBlock)                                               \n",
      "                                                                 \n",
      " gp_transformer_block_14 (GP  (None, None, 128)        857600    \n",
      " TransformerBlock)                                               \n",
      "                                                                 \n",
      " dense_32 (Dense)            (None, None, 71)          9159      \n",
      "                                                                 \n",
      "=================================================================\n",
      "Total params: 4,306,247\n",
      "Trainable params: 4,306,247\n",
      "Non-trainable params: 0\n",
      "_________________________________________________________________\n"
     ]
    },
    {
     "data": {
      "image/png": "[encoded data removed]",
      "text/plain": [
       "<IPython.core.display.Image object>"
      ]
     },
     "execution_count": 184,
     "metadata": {},
     "output_type": "execute_result"
    }
   ],
   "source": [
    "#Finalize and compile model\n",
    "n_tokens = len(i_to_c_pandp)\n",
    "embedding_size = 128\n",
    "stack = 5\n",
    "num_heads = 12\n",
    "memory_size = segment_size * 3\n",
    "\n",
    "y = x = keras.layers.Input((None,))\n",
    "y = MaskedTokenAndSinePositionEmbedding(input_dim=n_tokens,\n",
    "                                        output_dim=embedding_size)(y)\n",
    "for _ in range(stack):\n",
    "    y = GPTransformerBlock(embedding_size,\n",
    "                           num_heads,\n",
    "                           embedding_size*2)(y)\n",
    "\n",
    "y = keras.layers.Dense(n_tokens)(y)\n",
    "\n",
    "model = keras.Model(x,y)\n",
    "model.compile(loss=MaskedSparseCategoricalCrossentropy,\n",
    "              optimizer=keras.optimizers.Adam(),\n",
    "              metrics=MaskedSparseCategoricalAccuracy)\n",
    "model.summary()\n",
    "keras.utils.plot_model(model,show_shapes=True,expand_nested=True)"
   ]
  },
  {
   "cell_type": "code",
   "execution_count": 147,
   "id": "926dfa31-3636-4d46-aa2e-4ef48ccd4e49",
   "metadata": {},
   "outputs": [
    {
     "name": "stdout",
     "output_type": "stream",
     "text": [
      "Epoch 1/300\n"
     ]
    },
    {
     "ename": "RuntimeError",
     "evalue": "pybind11::error_already_set: MISMATCH of original and normalized active exception types: ORIGINAL InvalidArgumentError REPLACED BY KeyboardInterrupt: <EMPTY MESSAGE>\n\nAt:\n  /opt/conda/lib/python3.10/site-packages/tensorflow/python/framework/errors_impl.py(273): __init__\n  /opt/conda/lib/python3.10/site-packages/tensorflow/python/eager/execute.py(54): quick_execute\n  /opt/conda/lib/python3.10/site-packages/tensorflow/python/eager/function.py(499): call\n  /opt/conda/lib/python3.10/site-packages/tensorflow/python/eager/function.py(1862): _call_flat\n  /opt/conda/lib/python3.10/site-packages/tensorflow/python/eager/function.py(2496): __call__\n  /opt/conda/lib/python3.10/site-packages/tensorflow/python/eager/def_function.py(980): _call\n  /opt/conda/lib/python3.10/site-packages/tensorflow/python/eager/def_function.py(915): __call__\n  /opt/conda/lib/python3.10/site-packages/tensorflow/python/util/traceback_utils.py(150): error_handler\n  /opt/conda/lib/python3.10/site-packages/keras/engine/training.py(1564): fit\n  /opt/conda/lib/python3.10/site-packages/keras/utils/traceback_utils.py(65): error_handler\n  /tmp/ipykernel_396/135394589.py(2): <module>\n  /opt/conda/lib/python3.10/site-packages/IPython/core/interactiveshell.py(3433): run_code\n  /opt/conda/lib/python3.10/site-packages/IPython/core/interactiveshell.py(3373): run_ast_nodes\n  /opt/conda/lib/python3.10/site-packages/IPython/core/interactiveshell.py(3194): run_cell_async\n  /opt/conda/lib/python3.10/site-packages/IPython/core/async_helpers.py(129): _pseudo_sync_runner\n  /opt/conda/lib/python3.10/site-packages/IPython/core/interactiveshell.py(2995): _run_cell\n  /opt/conda/lib/python3.10/site-packages/IPython/core/interactiveshell.py(2940): run_cell\n  /opt/conda/lib/python3.10/site-packages/ipykernel/zmqshell.py(528): run_cell\n  /opt/conda/lib/python3.10/site-packages/ipykernel/ipkernel.py(383): do_execute\n  /opt/conda/lib/python3.10/site-packages/ipykernel/kernelbase.py(730): execute_request\n  /opt/conda/lib/python3.10/site-packages/ipykernel/kernelbase.py(406): dispatch_shell\n  /opt/conda/lib/python3.10/site-packages/ipykernel/kernelbase.py(499): process_one\n  /opt/conda/lib/python3.10/site-packages/ipykernel/kernelbase.py(510): dispatch_queue\n  /opt/conda/lib/python3.10/asyncio/events.py(80): _run\n  /opt/conda/lib/python3.10/asyncio/base_events.py(1899): _run_once\n  /opt/conda/lib/python3.10/asyncio/base_events.py(603): run_forever\n  /opt/conda/lib/python3.10/site-packages/tornado/platform/asyncio.py(199): start\n  /opt/conda/lib/python3.10/site-packages/ipykernel/kernelapp.py(712): start\n  /opt/conda/lib/python3.10/site-packages/traitlets/config/application.py(985): launch_instance\n  /opt/conda/lib/python3.10/site-packages/ipykernel_launcher.py(17): <module>\n  /opt/conda/lib/python3.10/runpy.py(86): _run_code\n  /opt/conda/lib/python3.10/runpy.py(196): _run_module_as_main\n",
     "output_type": "error",
     "traceback": [
      "\u001b[0;31m---------------------------------------------------------------------------\u001b[0m",
      "\u001b[0;31mRuntimeError\u001b[0m                              Traceback (most recent call last)",
      "Cell \u001b[0;32mIn[147], line 2\u001b[0m\n\u001b[1;32m      1\u001b[0m epochs \u001b[38;5;241m=\u001b[39m \u001b[38;5;241m300\u001b[39m\n\u001b[0;32m----> 2\u001b[0m history \u001b[38;5;241m=\u001b[39m \u001b[43mmodel\u001b[49m\u001b[38;5;241;43m.\u001b[39;49m\u001b[43mfit\u001b[49m\u001b[43m(\u001b[49m\u001b[43mtraining\u001b[49m\u001b[43m,\u001b[49m\n\u001b[1;32m      3\u001b[0m \u001b[43m                    \u001b[49m\u001b[43mepochs\u001b[49m\u001b[38;5;241;43m=\u001b[39;49m\u001b[43mepochs\u001b[49m\u001b[43m,\u001b[49m\n\u001b[1;32m      4\u001b[0m \u001b[43m                    \u001b[49m\u001b[43mvalidation_data\u001b[49m\u001b[38;5;241;43m=\u001b[39;49m\u001b[43mvalidation\u001b[49m\u001b[43m,\u001b[49m\n\u001b[1;32m      5\u001b[0m \u001b[43m                    \u001b[49m\u001b[43mverbose\u001b[49m\u001b[38;5;241;43m=\u001b[39;49m\u001b[38;5;241;43m1\u001b[39;49m\u001b[43m)\u001b[49m\n",
      "File \u001b[0;32m/opt/conda/lib/python3.10/site-packages/keras/utils/traceback_utils.py:70\u001b[0m, in \u001b[0;36mfilter_traceback.<locals>.error_handler\u001b[0;34m(*args, **kwargs)\u001b[0m\n\u001b[1;32m     67\u001b[0m     filtered_tb \u001b[38;5;241m=\u001b[39m _process_traceback_frames(e\u001b[38;5;241m.\u001b[39m__traceback__)\n\u001b[1;32m     68\u001b[0m     \u001b[38;5;66;03m# To get the full stack trace, call:\u001b[39;00m\n\u001b[1;32m     69\u001b[0m     \u001b[38;5;66;03m# `tf.debugging.disable_traceback_filtering()`\u001b[39;00m\n\u001b[0;32m---> 70\u001b[0m     \u001b[38;5;28;01mraise\u001b[39;00m e\u001b[38;5;241m.\u001b[39mwith_traceback(filtered_tb) \u001b[38;5;28;01mfrom\u001b[39;00m \u001b[38;5;28mNone\u001b[39m\n\u001b[1;32m     71\u001b[0m \u001b[38;5;28;01mfinally\u001b[39;00m:\n\u001b[1;32m     72\u001b[0m     \u001b[38;5;28;01mdel\u001b[39;00m filtered_tb\n",
      "File \u001b[0;32m/opt/conda/lib/python3.10/site-packages/tensorflow/python/eager/execute.py:54\u001b[0m, in \u001b[0;36mquick_execute\u001b[0;34m(op_name, num_outputs, inputs, attrs, ctx, name)\u001b[0m\n\u001b[1;32m     52\u001b[0m \u001b[38;5;28;01mtry\u001b[39;00m:\n\u001b[1;32m     53\u001b[0m   ctx\u001b[38;5;241m.\u001b[39mensure_initialized()\n\u001b[0;32m---> 54\u001b[0m   tensors \u001b[38;5;241m=\u001b[39m pywrap_tfe\u001b[38;5;241m.\u001b[39mTFE_Py_Execute(ctx\u001b[38;5;241m.\u001b[39m_handle, device_name, op_name,\n\u001b[1;32m     55\u001b[0m                                       inputs, attrs, num_outputs)\n\u001b[1;32m     56\u001b[0m \u001b[38;5;28;01mexcept\u001b[39;00m core\u001b[38;5;241m.\u001b[39m_NotOkStatusException \u001b[38;5;28;01mas\u001b[39;00m e:\n\u001b[1;32m     57\u001b[0m   \u001b[38;5;28;01mif\u001b[39;00m name \u001b[38;5;129;01mis\u001b[39;00m \u001b[38;5;129;01mnot\u001b[39;00m \u001b[38;5;28;01mNone\u001b[39;00m:\n",
      "\u001b[0;31mRuntimeError\u001b[0m: pybind11::error_already_set: MISMATCH of original and normalized active exception types: ORIGINAL InvalidArgumentError REPLACED BY KeyboardInterrupt: <EMPTY MESSAGE>\n\nAt:\n  /opt/conda/lib/python3.10/site-packages/tensorflow/python/framework/errors_impl.py(273): __init__\n  /opt/conda/lib/python3.10/site-packages/tensorflow/python/eager/execute.py(54): quick_execute\n  /opt/conda/lib/python3.10/site-packages/tensorflow/python/eager/function.py(499): call\n  /opt/conda/lib/python3.10/site-packages/tensorflow/python/eager/function.py(1862): _call_flat\n  /opt/conda/lib/python3.10/site-packages/tensorflow/python/eager/function.py(2496): __call__\n  /opt/conda/lib/python3.10/site-packages/tensorflow/python/eager/def_function.py(980): _call\n  /opt/conda/lib/python3.10/site-packages/tensorflow/python/eager/def_function.py(915): __call__\n  /opt/conda/lib/python3.10/site-packages/tensorflow/python/util/traceback_utils.py(150): error_handler\n  /opt/conda/lib/python3.10/site-packages/keras/engine/training.py(1564): fit\n  /opt/conda/lib/python3.10/site-packages/keras/utils/traceback_utils.py(65): error_handler\n  /tmp/ipykernel_396/135394589.py(2): <module>\n  /opt/conda/lib/python3.10/site-packages/IPython/core/interactiveshell.py(3433): run_code\n  /opt/conda/lib/python3.10/site-packages/IPython/core/interactiveshell.py(3373): run_ast_nodes\n  /opt/conda/lib/python3.10/site-packages/IPython/core/interactiveshell.py(3194): run_cell_async\n  /opt/conda/lib/python3.10/site-packages/IPython/core/async_helpers.py(129): _pseudo_sync_runner\n  /opt/conda/lib/python3.10/site-packages/IPython/core/interactiveshell.py(2995): _run_cell\n  /opt/conda/lib/python3.10/site-packages/IPython/core/interactiveshell.py(2940): run_cell\n  /opt/conda/lib/python3.10/site-packages/ipykernel/zmqshell.py(528): run_cell\n  /opt/conda/lib/python3.10/site-packages/ipykernel/ipkernel.py(383): do_execute\n  /opt/conda/lib/python3.10/site-packages/ipykernel/kernelbase.py(730): execute_request\n  /opt/conda/lib/python3.10/site-packages/ipykernel/kernelbase.py(406): dispatch_shell\n  /opt/conda/lib/python3.10/site-packages/ipykernel/kernelbase.py(499): process_one\n  /opt/conda/lib/python3.10/site-packages/ipykernel/kernelbase.py(510): dispatch_queue\n  /opt/conda/lib/python3.10/asyncio/events.py(80): _run\n  /opt/conda/lib/python3.10/asyncio/base_events.py(1899): _run_once\n  /opt/conda/lib/python3.10/asyncio/base_events.py(603): run_forever\n  /opt/conda/lib/python3.10/site-packages/tornado/platform/asyncio.py(199): start\n  /opt/conda/lib/python3.10/site-packages/ipykernel/kernelapp.py(712): start\n  /opt/conda/lib/python3.10/site-packages/traitlets/config/application.py(985): launch_instance\n  /opt/conda/lib/python3.10/site-packages/ipykernel_launcher.py(17): <module>\n  /opt/conda/lib/python3.10/runpy.py(86): _run_code\n  /opt/conda/lib/python3.10/runpy.py(196): _run_module_as_main\n"
     ]
    }
   ],
   "source": [
    "epochs = 300\n",
    "history = model.fit(training,\n",
    "                    epochs=epochs,\n",
    "                    validation_data=validation,\n",
    "                    verbose=1)"
   ]
  },
  {
   "cell_type": "code",
   "execution_count": null,
   "id": "b37d6d98-499d-4937-9ed3-eaa31f00b568",
   "metadata": {},
   "outputs": [],
   "source": []
  }
 ],
 "metadata": {
  "kernelspec": {
   "display_name": "Python 3 (ipykernel)",
   "language": "python",
   "name": "python3"
  },
  "language_info": {
   "codemirror_mode": {
    "name": "ipython",
    "version": 3
   },
   "file_extension": ".py",
   "mimetype": "text/x-python",
   "name": "python",
   "nbconvert_exporter": "python",
   "pygments_lexer": "ipython3",
   "version": "3.10.8"
  }
 },
 "nbformat": 4,
 "nbformat_minor": 5
}
